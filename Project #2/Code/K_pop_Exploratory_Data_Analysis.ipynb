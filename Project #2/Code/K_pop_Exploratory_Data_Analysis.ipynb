{
 "cells": [
  {
   "cell_type": "markdown",
   "metadata": {
    "colab_type": "text",
    "id": "EdYORMJBDVkL"
   },
   "source": [
    "#**Analyzing K-Pop Using Machine Learning**\n",
    "#Part 2: Exploratory Data Analysis (EDA)\n",
    "\n",
    "- Author: Jaemin Lee (aka. Import Data)\n",
    "\n",
    "- [Import Data YouTube Channel](https://www.youtube.com/channel/UCYDacpfRrCX6_8oDDlzTgFw)\n",
    "\n",
    "- [Dataset Link](https://github.com/importdata/kpop-analysis/blob/master/cleaned%20kpop%20data.csv)\n",
    "- [Medium Blog](https://towardsdatascience.com/analyzing-k-pop-using-machine-learning-part-2-exploratory-data-analysis-eda-61f0cbf95a2a?source=friends_link&sk=b0874e7f2dd357bc492b98c312364ed6)"
   ]
  },
  {
   "cell_type": "markdown",
   "metadata": {
    "colab_type": "text",
    "id": "740p3_d5DrUp"
   },
   "source": [
    "# Import Basic Libraries"
   ]
  },
  {
   "cell_type": "code",
   "execution_count": 0,
   "metadata": {
    "colab": {
     "base_uri": "https://localhost:8080/",
     "height": 51
    },
    "colab_type": "code",
    "id": "nlwDYv6oDMtR",
    "outputId": "bf141fc2-95bc-4854-cba6-14b8371e8bc5"
   },
   "outputs": [
    {
     "name": "stderr",
     "output_type": "stream",
     "text": [
      "/usr/local/lib/python3.6/dist-packages/statsmodels/tools/_testing.py:19: FutureWarning: pandas.util.testing is deprecated. Use the functions in the public API at pandas.testing instead.\n",
      "  import pandas.util.testing as tm\n"
     ]
    }
   ],
   "source": [
    "import pandas as pd\n",
    "import numpy as np\n",
    "import matplotlib.pyplot as plt # plotting library\n",
    "import seaborn as sns # data visualization library"
   ]
  },
  {
   "cell_type": "markdown",
   "metadata": {
    "colab_type": "text",
    "id": "r6gp-KXzLrOd"
   },
   "source": [
    "# Data Cleaning Final\n",
    "\n",
    "\n",
    "*   In the last tutorial (Data Collection & Data Cleaning), I realized I forgot to clean the \"gender_pref\", \"reason\", and \"job\" variables, so let's quickly clean them!\n",
    "\n"
   ]
  },
  {
   "cell_type": "code",
   "execution_count": 0,
   "metadata": {
    "colab": {},
    "colab_type": "code",
    "id": "ec7eSgbSheRH"
   },
   "outputs": [],
   "source": [
    "df = pd.read_csv(\"/content/cleaned kpop data.csv\")"
   ]
  },
  {
   "cell_type": "code",
   "execution_count": 0,
   "metadata": {
    "colab": {
     "base_uri": "https://localhost:8080/",
     "height": 102
    },
    "colab_type": "code",
    "id": "C4XkqX0EW0ua",
    "outputId": "37d0954f-3d93-4bb5-ca47-4d7180d63612"
   },
   "outputs": [
    {
     "data": {
      "text/plain": [
       "i listen to both                       111\n",
       "yes                                     68\n",
       "its about the music, not the gender     54\n",
       "no                                       7\n",
       "Name: gender_pref, dtype: int64"
      ]
     },
     "execution_count": 3,
     "metadata": {
      "tags": []
     },
     "output_type": "execute_result"
    }
   ],
   "source": [
    "# cleaning the gender preference column\n",
    "df.gender_pref.value_counts()"
   ]
  },
  {
   "cell_type": "code",
   "execution_count": 0,
   "metadata": {
    "colab": {},
    "colab_type": "code",
    "id": "BAHbw0IjW6P_"
   },
   "outputs": [],
   "source": [
    "pref = df['gender_pref']\n",
    "pref_test = pref\n",
    "\n",
    "pref_test = pref_test.apply(lambda x: x.lower())"
   ]
  },
  {
   "cell_type": "code",
   "execution_count": 0,
   "metadata": {
    "colab": {},
    "colab_type": "code",
    "id": "U65WTgNyXDav"
   },
   "outputs": [],
   "source": [
    "# re-label gender_pref\n",
    "\n",
    "# yes -> male\n",
    "# no -> female\n",
    "# both\n",
    "# it's about music\n",
    "\n",
    "for row in range(0, 240):\n",
    "  if \"yes\" in pref_test.iloc[row]:\n",
    "    pref_test.iloc[row] = \"male\"\n",
    "  elif \"no\" in pref_test.iloc[row] and \"not\" not in pref_test.iloc[row]:\n",
    "    pref_test.iloc[row] = \"female\"\n",
    "  elif \"music\" in pref_test.iloc[row]:\n",
    "    pref_test.iloc[row] = \"it's about music\"\n",
    "  else:\n",
    "    pref_test.iloc[row] = \"both\""
   ]
  },
  {
   "cell_type": "code",
   "execution_count": 0,
   "metadata": {
    "colab": {
     "base_uri": "https://localhost:8080/",
     "height": 102
    },
    "colab_type": "code",
    "id": "sxofr6DfXrZI",
    "outputId": "3998994b-1523-4683-fce3-546a9cadd18d"
   },
   "outputs": [
    {
     "data": {
      "text/plain": [
       "both                111\n",
       "male                 68\n",
       "it's about music     54\n",
       "female                7\n",
       "Name: gender_pref, dtype: int64"
      ]
     },
     "execution_count": 6,
     "metadata": {
      "tags": []
     },
     "output_type": "execute_result"
    }
   ],
   "source": [
    "pref_test.value_counts()"
   ]
  },
  {
   "cell_type": "code",
   "execution_count": 0,
   "metadata": {
    "colab": {
     "base_uri": "https://localhost:8080/",
     "height": 102
    },
    "colab_type": "code",
    "id": "GZ9J-SAsYR71",
    "outputId": "18228327-3e36-4b92-dc4f-8b92611864f1"
   },
   "outputs": [
    {
     "data": {
      "text/plain": [
       "both                111\n",
       "male                 68\n",
       "it's about music     54\n",
       "female                7\n",
       "Name: gender_pref, dtype: int64"
      ]
     },
     "execution_count": 7,
     "metadata": {
      "tags": []
     },
     "output_type": "execute_result"
    }
   ],
   "source": [
    "# overwrite it to the original data frame\n",
    "df['gender_pref'] = pref_test\n",
    "df.gender_pref.value_counts()"
   ]
  },
  {
   "cell_type": "code",
   "execution_count": 0,
   "metadata": {
    "colab": {
     "base_uri": "https://localhost:8080/",
     "height": 241
    },
    "colab_type": "code",
    "id": "k7URqN4ILp2-",
    "outputId": "425d8748-2ef4-4300-e24f-2833642462b5"
   },
   "outputs": [
    {
     "data": {
      "text/plain": [
       "its different from the usual music. i like something new for a change                                                                                                                                                   87\n",
       "its different from the usual music. i like something new for a change;the videos are unique;choreography is unique;the idols are very attractive                                                                        40\n",
       "its different from the usual music. i like something new for a change;the videos are unique;choreography is unique                                                                                                      27\n",
       "choreography is unique                                                                                                                                                                                                   8\n",
       "its different from the usual music. i like something new for a change;choreography is unique                                                                                                                             7\n",
       "                                                                                                                                                                                                                        ..\n",
       "everything about kpop is very different from the fandoms to the lightsticks                                                                                                                                              1\n",
       "i'm currently studying korean, and its a nice study tool.                                                                                                                                                                1\n",
       "its different from the usual music. i like something new for a change;the videos are unique;the idols are very attractive                                                                                                1\n",
       "its different from the usual music. i like something new for a change;the videos are unique;choreography is unique;the idols are very attractive;the lyrics are really meaningful and strong and i love the language     1\n",
       "the videos are unique;choreography is unique;kpop idols personality                                                                                                                                                      1\n",
       "Name: reason, Length: 67, dtype: int64"
      ]
     },
     "execution_count": 8,
     "metadata": {
      "tags": []
     },
     "output_type": "execute_result"
    }
   ],
   "source": [
    "# cleaning the reason column \n",
    "df.reason.value_counts()"
   ]
  },
  {
   "cell_type": "code",
   "execution_count": 0,
   "metadata": {
    "colab": {},
    "colab_type": "code",
    "id": "652q8r7ZNIyq"
   },
   "outputs": [],
   "source": [
    "reason = df['reason']\n",
    "reason_test = reason\n",
    "\n",
    "reason_test = reason_test.apply(lambda x: x.lower())"
   ]
  },
  {
   "cell_type": "code",
   "execution_count": 0,
   "metadata": {
    "colab": {},
    "colab_type": "code",
    "id": "9TNOQ4KNMTYS"
   },
   "outputs": [],
   "source": [
    "# re-label reason\n",
    "\n",
    "# different from the usual music\n",
    "# choreography is unique\n",
    "# idols are attractive\n",
    "# many reasons\n",
    "# others\n",
    "\n",
    "for row in range(0, 240):\n",
    "  if \"its different from the usual music. i like something new for a change\" in reason_test.iloc[row] and \";\" not in reason_test.iloc[row]:\n",
    "    reason_test.iloc[row] = \"unique music style\"\n",
    "  elif \"choreagraphy is unique\" in reason_test.iloc[row] and \";\" not in reason_test.iloc[row]:\n",
    "    reason_test.iloc[row] = \"unique choreography\"\n",
    "  elif \"idols are very attractive\" in reason_test.iloc[row] and \";\" not in reason_test.iloc[row]:\n",
    "    reason_test.iloc[row] = \"attractive idols\"\n",
    "  elif \";\" in reason_test.iloc[row]:\n",
    "    reason_test.iloc[row] = \"many reasons\"\n",
    "  else:\n",
    "    reason_test.iloc[row] = \"other reason(s)\""
   ]
  },
  {
   "cell_type": "code",
   "execution_count": 0,
   "metadata": {
    "colab": {
     "base_uri": "https://localhost:8080/",
     "height": 102
    },
    "colab_type": "code",
    "id": "OlIyb0XNN6PM",
    "outputId": "0f41311b-0cad-4646-fbb5-8b295ca0c2d2"
   },
   "outputs": [
    {
     "data": {
      "text/plain": [
       "many reasons          106\n",
       "unique music style     87\n",
       "other reason(s)        44\n",
       "attractive idols        3\n",
       "Name: reason, dtype: int64"
      ]
     },
     "execution_count": 11,
     "metadata": {
      "tags": []
     },
     "output_type": "execute_result"
    }
   ],
   "source": [
    "reason_test.value_counts()"
   ]
  },
  {
   "cell_type": "code",
   "execution_count": 0,
   "metadata": {
    "colab": {
     "base_uri": "https://localhost:8080/",
     "height": 102
    },
    "colab_type": "code",
    "id": "XlFEbpzWOC59",
    "outputId": "45e4ad27-e12a-455c-a423-b6edcf63ebfe"
   },
   "outputs": [
    {
     "data": {
      "text/plain": [
       "many reasons          106\n",
       "unique music style     87\n",
       "other reason(s)        44\n",
       "attractive idols        3\n",
       "Name: reason, dtype: int64"
      ]
     },
     "execution_count": 12,
     "metadata": {
      "tags": []
     },
     "output_type": "execute_result"
    }
   ],
   "source": [
    "# overwrite it to the original dataframe\n",
    "df['reason'] = reason_test\n",
    "df.reason.value_counts()"
   ]
  },
  {
   "cell_type": "code",
   "execution_count": 0,
   "metadata": {
    "colab": {
     "base_uri": "https://localhost:8080/",
     "height": 612
    },
    "colab_type": "code",
    "id": "ASOc9jTRPAmu",
    "outputId": "dd8b7903-4195-4855-827a-4dec23267f22"
   },
   "outputs": [
    {
     "data": {
      "text/plain": [
       "student                                                                      206\n",
       "caregiver                                                                      2\n",
       "nursing/medical                                                                1\n",
       "teachers assistant                                                             1\n",
       "unemployed                                                                     1\n",
       "worker                                                                         1\n",
       "i don't have a profession.                                                     1\n",
       "receptionist                                                                   1\n",
       "optometry office lead                                                          1\n",
       "sales                                                                          1\n",
       "artist/producer and songwriter                                                 1\n",
       "nurse                                                                          1\n",
       "college student/dietary aide                                                   1\n",
       "administrative and finance associate                                           1\n",
       "manager                                                                        1\n",
       "program aide                                                                   1\n",
       "receptionist at an office for a clothing store                                 1\n",
       "medical laboratory technician                                                  1\n",
       "college professor                                                              1\n",
       "i'm a graduated student w/ a ba and in the process of becoming a teacher.      1\n",
       "bartender                                                                      1\n",
       "berklee student                                                                1\n",
       "i have job, plain n simple                                                     1\n",
       "teacher                                                                        1\n",
       "disney cast member                                                             1\n",
       "elementary school office worker                                                1\n",
       "chef                                                                           1\n",
       "makeup artist                                                                  1\n",
       "full time worker                                                               1\n",
       "none of the above.                                                             1\n",
       "engineering                                                                    1\n",
       "to either be a designer, artist or an animator.                                1\n",
       "college student                                                                1\n",
       "dancer                                                                         1\n",
       "Name: job, dtype: int64"
      ]
     },
     "execution_count": 13,
     "metadata": {
      "tags": []
     },
     "output_type": "execute_result"
    }
   ],
   "source": [
    "df.job.value_counts()"
   ]
  },
  {
   "cell_type": "code",
   "execution_count": 0,
   "metadata": {
    "colab": {},
    "colab_type": "code",
    "id": "MkwcxE-bOny5"
   },
   "outputs": [],
   "source": [
    "# cleaning the job column\n",
    "job = df['job']\n",
    "job_test = job\n",
    "\n",
    "job_test = job_test.apply(lambda x: x.lower())"
   ]
  },
  {
   "cell_type": "code",
   "execution_count": 0,
   "metadata": {
    "colab": {},
    "colab_type": "code",
    "id": "D-lZQVbFPUWX"
   },
   "outputs": [],
   "source": [
    "# re-label job\n",
    "\n",
    "# student\n",
    "# full-time worker\n",
    "# unemployed\n",
    "\n",
    "for row in range(0, 240):\n",
    "  if \"no\" in job_test.iloc[row] or \"unemployed\" in job_test.iloc[row] or \"don't\" in job_test.iloc[row]:\n",
    "    job_test.iloc[row] = \"unemployed\"\n",
    "  elif \"student\" in job_test.iloc[row]:\n",
    "    job_test.iloc[row] = \"student\"\n",
    "  else:\n",
    "    job_test.iloc[row] = \"full-time worker\""
   ]
  },
  {
   "cell_type": "code",
   "execution_count": 0,
   "metadata": {
    "colab": {
     "base_uri": "https://localhost:8080/",
     "height": 85
    },
    "colab_type": "code",
    "id": "ZbNE-YsKQ95b",
    "outputId": "d3af7fdf-cd19-4a23-88ca-d80bafefc529"
   },
   "outputs": [
    {
     "data": {
      "text/plain": [
       "student             210\n",
       "full-time worker     27\n",
       "unemployed            3\n",
       "Name: job, dtype: int64"
      ]
     },
     "execution_count": 16,
     "metadata": {
      "tags": []
     },
     "output_type": "execute_result"
    }
   ],
   "source": [
    "job_test.value_counts()"
   ]
  },
  {
   "cell_type": "code",
   "execution_count": 0,
   "metadata": {
    "colab": {
     "base_uri": "https://localhost:8080/",
     "height": 85
    },
    "colab_type": "code",
    "id": "07kh2eCDRNfv",
    "outputId": "dbeb1735-2bd1-42d2-a2e8-995a1fa2bb2f"
   },
   "outputs": [
    {
     "data": {
      "text/plain": [
       "student             210\n",
       "full-time worker     27\n",
       "unemployed            3\n",
       "Name: job, dtype: int64"
      ]
     },
     "execution_count": 17,
     "metadata": {
      "tags": []
     },
     "output_type": "execute_result"
    }
   ],
   "source": [
    "# overwrite it to the original data frame\n",
    "df.job = job_test\n",
    "df.job.value_counts()"
   ]
  },
  {
   "cell_type": "code",
   "execution_count": 0,
   "metadata": {
    "colab": {
     "base_uri": "https://localhost:8080/",
     "height": 564
    },
    "colab_type": "code",
    "id": "YN0Y1k7MRYZE",
    "outputId": "1c8b4fb2-ab45-4cd5-f16b-b1f0ff230e49"
   },
   "outputs": [
    {
     "data": {
      "text/html": [
       "<div>\n",
       "<style scoped>\n",
       "    .dataframe tbody tr th:only-of-type {\n",
       "        vertical-align: middle;\n",
       "    }\n",
       "\n",
       "    .dataframe tbody tr th {\n",
       "        vertical-align: top;\n",
       "    }\n",
       "\n",
       "    .dataframe thead th {\n",
       "        text-align: right;\n",
       "    }\n",
       "</style>\n",
       "<table border=\"1\" class=\"dataframe\">\n",
       "  <thead>\n",
       "    <tr style=\"text-align: right;\">\n",
       "      <th></th>\n",
       "      <th>fav_grp</th>\n",
       "      <th>popl_by_co_yn</th>\n",
       "      <th>reason</th>\n",
       "      <th>yr_listened</th>\n",
       "      <th>gender_pref</th>\n",
       "      <th>daily_music_hr</th>\n",
       "      <th>watch_MV_yn</th>\n",
       "      <th>daily_MV_hr</th>\n",
       "      <th>obsessed_yn</th>\n",
       "      <th>news_medium</th>\n",
       "      <th>pursuit</th>\n",
       "      <th>time_cons_yn</th>\n",
       "      <th>life_chg</th>\n",
       "      <th>pos_eff</th>\n",
       "      <th>yr_merch_spent</th>\n",
       "      <th>money_src</th>\n",
       "      <th>concert_yn</th>\n",
       "      <th>crazy_ev</th>\n",
       "      <th>age</th>\n",
       "      <th>country</th>\n",
       "      <th>job</th>\n",
       "      <th>gender</th>\n",
       "      <th>num_gr_like</th>\n",
       "      <th>bts_vs_others</th>\n",
       "    </tr>\n",
       "  </thead>\n",
       "  <tbody>\n",
       "    <tr>\n",
       "      <th>0</th>\n",
       "      <td>bts</td>\n",
       "      <td>its gaining popularity</td>\n",
       "      <td>unique music style</td>\n",
       "      <td>1.5</td>\n",
       "      <td>it's about music</td>\n",
       "      <td>5.0</td>\n",
       "      <td>yes</td>\n",
       "      <td>2.5</td>\n",
       "      <td>not sure</td>\n",
       "      <td>youtube</td>\n",
       "      <td>others (combination of the the four and visit ...</td>\n",
       "      <td>no</td>\n",
       "      <td>made fun of</td>\n",
       "      <td>reduced stress/anxiety/depression</td>\n",
       "      <td>75</td>\n",
       "      <td>full-time job</td>\n",
       "      <td>yes</td>\n",
       "      <td>others (combination of not studying/working an...</td>\n",
       "      <td>18</td>\n",
       "      <td>uk</td>\n",
       "      <td>full-time worker</td>\n",
       "      <td>female</td>\n",
       "      <td>1</td>\n",
       "      <td>bts</td>\n",
       "    </tr>\n",
       "    <tr>\n",
       "      <th>1</th>\n",
       "      <td>bts</td>\n",
       "      <td>its gaining popularity</td>\n",
       "      <td>many reasons</td>\n",
       "      <td>3.5</td>\n",
       "      <td>both</td>\n",
       "      <td>3.0</td>\n",
       "      <td>yes</td>\n",
       "      <td>2.5</td>\n",
       "      <td>yes</td>\n",
       "      <td>youtube</td>\n",
       "      <td>others (combination of the the four and visit ...</td>\n",
       "      <td>yes</td>\n",
       "      <td>made fun of</td>\n",
       "      <td>made friends</td>\n",
       "      <td>50</td>\n",
       "      <td>part-time job</td>\n",
       "      <td>i want to, but the k-pop groups don't come to ...</td>\n",
       "      <td>others (combination of not studying/working an...</td>\n",
       "      <td>18</td>\n",
       "      <td>uk</td>\n",
       "      <td>student</td>\n",
       "      <td>female</td>\n",
       "      <td>1</td>\n",
       "      <td>bts</td>\n",
       "    </tr>\n",
       "    <tr>\n",
       "      <th>2</th>\n",
       "      <td>bts,monsta x</td>\n",
       "      <td>its gaining popularity</td>\n",
       "      <td>many reasons</td>\n",
       "      <td>4.0</td>\n",
       "      <td>it's about music</td>\n",
       "      <td>3.0</td>\n",
       "      <td>yes</td>\n",
       "      <td>2.5</td>\n",
       "      <td>no</td>\n",
       "      <td>social media (twitter, instagram)</td>\n",
       "      <td>others (combination of the the four and visit ...</td>\n",
       "      <td>no</td>\n",
       "      <td>made fun of</td>\n",
       "      <td>made friends</td>\n",
       "      <td>75</td>\n",
       "      <td>part-time job</td>\n",
       "      <td>yes</td>\n",
       "      <td>nothing</td>\n",
       "      <td>18</td>\n",
       "      <td>other european countries</td>\n",
       "      <td>student</td>\n",
       "      <td>female</td>\n",
       "      <td>2</td>\n",
       "      <td>bts</td>\n",
       "    </tr>\n",
       "    <tr>\n",
       "      <th>3</th>\n",
       "      <td>bts</td>\n",
       "      <td>its gaining popularity</td>\n",
       "      <td>unique music style</td>\n",
       "      <td>3.5</td>\n",
       "      <td>both</td>\n",
       "      <td>5.0</td>\n",
       "      <td>yes</td>\n",
       "      <td>3.5</td>\n",
       "      <td>no</td>\n",
       "      <td>youtube</td>\n",
       "      <td>others (combination of the the four and visit ...</td>\n",
       "      <td>no</td>\n",
       "      <td>made fun of</td>\n",
       "      <td>reduced stress/anxiety/depression</td>\n",
       "      <td>75</td>\n",
       "      <td>part-time job</td>\n",
       "      <td>yes</td>\n",
       "      <td>nothing</td>\n",
       "      <td>24</td>\n",
       "      <td>usa</td>\n",
       "      <td>student</td>\n",
       "      <td>female</td>\n",
       "      <td>1</td>\n",
       "      <td>bts</td>\n",
       "    </tr>\n",
       "    <tr>\n",
       "      <th>4</th>\n",
       "      <td>bts</td>\n",
       "      <td>yes</td>\n",
       "      <td>unique music style</td>\n",
       "      <td>3.5</td>\n",
       "      <td>male</td>\n",
       "      <td>5.0</td>\n",
       "      <td>yes</td>\n",
       "      <td>2.5</td>\n",
       "      <td>not sure</td>\n",
       "      <td>youtube</td>\n",
       "      <td>learn the culture</td>\n",
       "      <td>yes</td>\n",
       "      <td>made fun of</td>\n",
       "      <td>reduced stress/anxiety/depression</td>\n",
       "      <td>150</td>\n",
       "      <td>from parents</td>\n",
       "      <td>i want to, but the k-pop groups don't come to ...</td>\n",
       "      <td>nothing</td>\n",
       "      <td>18</td>\n",
       "      <td>usa</td>\n",
       "      <td>student</td>\n",
       "      <td>female</td>\n",
       "      <td>1</td>\n",
       "      <td>bts</td>\n",
       "    </tr>\n",
       "  </tbody>\n",
       "</table>\n",
       "</div>"
      ],
      "text/plain": [
       "        fav_grp           popl_by_co_yn  ... num_gr_like  bts_vs_others\n",
       "0           bts  its gaining popularity  ...           1            bts\n",
       "1           bts  its gaining popularity  ...           1            bts\n",
       "2  bts,monsta x  its gaining popularity  ...           2            bts\n",
       "3           bts  its gaining popularity  ...           1            bts\n",
       "4           bts                     yes  ...           1            bts\n",
       "\n",
       "[5 rows x 24 columns]"
      ]
     },
     "execution_count": 18,
     "metadata": {
      "tags": []
     },
     "output_type": "execute_result"
    }
   ],
   "source": [
    "df.head()"
   ]
  },
  {
   "cell_type": "code",
   "execution_count": 0,
   "metadata": {
    "colab": {},
    "colab_type": "code",
    "id": "Dbo7ahn9RVJ-"
   },
   "outputs": [],
   "source": [
    "# save the fully cleaned dataset\n",
    "df.to_csv(\"fully cleaned kpop data.csv\", index = False)"
   ]
  },
  {
   "cell_type": "markdown",
   "metadata": {
    "colab_type": "text",
    "id": "G_RQ4G_rr0f7"
   },
   "source": [
    "# Analyzing Continuous Variables (using histogram, boxplots, and correlation matrix)"
   ]
  },
  {
   "cell_type": "code",
   "execution_count": 0,
   "metadata": {
    "colab": {},
    "colab_type": "code",
    "id": "A-PDelCdHobj"
   },
   "outputs": [],
   "source": [
    "df = pd.read_csv(\"/content/fully cleaned kpop data.csv\")"
   ]
  },
  {
   "cell_type": "code",
   "execution_count": 0,
   "metadata": {
    "colab": {
     "base_uri": "https://localhost:8080/",
     "height": 34
    },
    "colab_type": "code",
    "id": "welLDtxOHq2W",
    "outputId": "85d37879-91c7-4681-d2de-4ad015b04111"
   },
   "outputs": [
    {
     "data": {
      "text/plain": [
       "(240, 24)"
      ]
     },
     "execution_count": 21,
     "metadata": {
      "tags": []
     },
     "output_type": "execute_result"
    }
   ],
   "source": [
    "df.shape"
   ]
  },
  {
   "cell_type": "code",
   "execution_count": 0,
   "metadata": {
    "colab": {
     "base_uri": "https://localhost:8080/",
     "height": 564
    },
    "colab_type": "code",
    "id": "pQjw-aN9Iknw",
    "outputId": "0ba47006-0c05-4ae7-d05b-28ea91649bca"
   },
   "outputs": [
    {
     "data": {
      "text/html": [
       "<div>\n",
       "<style scoped>\n",
       "    .dataframe tbody tr th:only-of-type {\n",
       "        vertical-align: middle;\n",
       "    }\n",
       "\n",
       "    .dataframe tbody tr th {\n",
       "        vertical-align: top;\n",
       "    }\n",
       "\n",
       "    .dataframe thead th {\n",
       "        text-align: right;\n",
       "    }\n",
       "</style>\n",
       "<table border=\"1\" class=\"dataframe\">\n",
       "  <thead>\n",
       "    <tr style=\"text-align: right;\">\n",
       "      <th></th>\n",
       "      <th>fav_grp</th>\n",
       "      <th>popl_by_co_yn</th>\n",
       "      <th>reason</th>\n",
       "      <th>yr_listened</th>\n",
       "      <th>gender_pref</th>\n",
       "      <th>daily_music_hr</th>\n",
       "      <th>watch_MV_yn</th>\n",
       "      <th>daily_MV_hr</th>\n",
       "      <th>obsessed_yn</th>\n",
       "      <th>news_medium</th>\n",
       "      <th>pursuit</th>\n",
       "      <th>time_cons_yn</th>\n",
       "      <th>life_chg</th>\n",
       "      <th>pos_eff</th>\n",
       "      <th>yr_merch_spent</th>\n",
       "      <th>money_src</th>\n",
       "      <th>concert_yn</th>\n",
       "      <th>crazy_ev</th>\n",
       "      <th>age</th>\n",
       "      <th>country</th>\n",
       "      <th>job</th>\n",
       "      <th>gender</th>\n",
       "      <th>num_gr_like</th>\n",
       "      <th>bts_vs_others</th>\n",
       "    </tr>\n",
       "  </thead>\n",
       "  <tbody>\n",
       "    <tr>\n",
       "      <th>0</th>\n",
       "      <td>bts</td>\n",
       "      <td>its gaining popularity</td>\n",
       "      <td>unique music style</td>\n",
       "      <td>1.5</td>\n",
       "      <td>it's about music</td>\n",
       "      <td>5.0</td>\n",
       "      <td>yes</td>\n",
       "      <td>2.5</td>\n",
       "      <td>not sure</td>\n",
       "      <td>youtube</td>\n",
       "      <td>others (combination of the the four and visit ...</td>\n",
       "      <td>no</td>\n",
       "      <td>made fun of</td>\n",
       "      <td>reduced stress/anxiety/depression</td>\n",
       "      <td>75</td>\n",
       "      <td>full-time job</td>\n",
       "      <td>yes</td>\n",
       "      <td>others (combination of not studying/working an...</td>\n",
       "      <td>18</td>\n",
       "      <td>uk</td>\n",
       "      <td>full-time worker</td>\n",
       "      <td>female</td>\n",
       "      <td>1</td>\n",
       "      <td>bts</td>\n",
       "    </tr>\n",
       "    <tr>\n",
       "      <th>1</th>\n",
       "      <td>bts</td>\n",
       "      <td>its gaining popularity</td>\n",
       "      <td>many reasons</td>\n",
       "      <td>3.5</td>\n",
       "      <td>both</td>\n",
       "      <td>3.0</td>\n",
       "      <td>yes</td>\n",
       "      <td>2.5</td>\n",
       "      <td>yes</td>\n",
       "      <td>youtube</td>\n",
       "      <td>others (combination of the the four and visit ...</td>\n",
       "      <td>yes</td>\n",
       "      <td>made fun of</td>\n",
       "      <td>made friends</td>\n",
       "      <td>50</td>\n",
       "      <td>part-time job</td>\n",
       "      <td>i want to, but the k-pop groups don't come to ...</td>\n",
       "      <td>others (combination of not studying/working an...</td>\n",
       "      <td>18</td>\n",
       "      <td>uk</td>\n",
       "      <td>student</td>\n",
       "      <td>female</td>\n",
       "      <td>1</td>\n",
       "      <td>bts</td>\n",
       "    </tr>\n",
       "    <tr>\n",
       "      <th>2</th>\n",
       "      <td>bts,monsta x</td>\n",
       "      <td>its gaining popularity</td>\n",
       "      <td>many reasons</td>\n",
       "      <td>4.0</td>\n",
       "      <td>it's about music</td>\n",
       "      <td>3.0</td>\n",
       "      <td>yes</td>\n",
       "      <td>2.5</td>\n",
       "      <td>no</td>\n",
       "      <td>social media (twitter, instagram)</td>\n",
       "      <td>others (combination of the the four and visit ...</td>\n",
       "      <td>no</td>\n",
       "      <td>made fun of</td>\n",
       "      <td>made friends</td>\n",
       "      <td>75</td>\n",
       "      <td>part-time job</td>\n",
       "      <td>yes</td>\n",
       "      <td>nothing</td>\n",
       "      <td>18</td>\n",
       "      <td>other european countries</td>\n",
       "      <td>student</td>\n",
       "      <td>female</td>\n",
       "      <td>2</td>\n",
       "      <td>bts</td>\n",
       "    </tr>\n",
       "    <tr>\n",
       "      <th>3</th>\n",
       "      <td>bts</td>\n",
       "      <td>its gaining popularity</td>\n",
       "      <td>unique music style</td>\n",
       "      <td>3.5</td>\n",
       "      <td>both</td>\n",
       "      <td>5.0</td>\n",
       "      <td>yes</td>\n",
       "      <td>3.5</td>\n",
       "      <td>no</td>\n",
       "      <td>youtube</td>\n",
       "      <td>others (combination of the the four and visit ...</td>\n",
       "      <td>no</td>\n",
       "      <td>made fun of</td>\n",
       "      <td>reduced stress/anxiety/depression</td>\n",
       "      <td>75</td>\n",
       "      <td>part-time job</td>\n",
       "      <td>yes</td>\n",
       "      <td>nothing</td>\n",
       "      <td>24</td>\n",
       "      <td>usa</td>\n",
       "      <td>student</td>\n",
       "      <td>female</td>\n",
       "      <td>1</td>\n",
       "      <td>bts</td>\n",
       "    </tr>\n",
       "    <tr>\n",
       "      <th>4</th>\n",
       "      <td>bts</td>\n",
       "      <td>yes</td>\n",
       "      <td>unique music style</td>\n",
       "      <td>3.5</td>\n",
       "      <td>male</td>\n",
       "      <td>5.0</td>\n",
       "      <td>yes</td>\n",
       "      <td>2.5</td>\n",
       "      <td>not sure</td>\n",
       "      <td>youtube</td>\n",
       "      <td>learn the culture</td>\n",
       "      <td>yes</td>\n",
       "      <td>made fun of</td>\n",
       "      <td>reduced stress/anxiety/depression</td>\n",
       "      <td>150</td>\n",
       "      <td>from parents</td>\n",
       "      <td>i want to, but the k-pop groups don't come to ...</td>\n",
       "      <td>nothing</td>\n",
       "      <td>18</td>\n",
       "      <td>usa</td>\n",
       "      <td>student</td>\n",
       "      <td>female</td>\n",
       "      <td>1</td>\n",
       "      <td>bts</td>\n",
       "    </tr>\n",
       "  </tbody>\n",
       "</table>\n",
       "</div>"
      ],
      "text/plain": [
       "        fav_grp           popl_by_co_yn  ... num_gr_like  bts_vs_others\n",
       "0           bts  its gaining popularity  ...           1            bts\n",
       "1           bts  its gaining popularity  ...           1            bts\n",
       "2  bts,monsta x  its gaining popularity  ...           2            bts\n",
       "3           bts  its gaining popularity  ...           1            bts\n",
       "4           bts                     yes  ...           1            bts\n",
       "\n",
       "[5 rows x 24 columns]"
      ]
     },
     "execution_count": 22,
     "metadata": {
      "tags": []
     },
     "output_type": "execute_result"
    }
   ],
   "source": [
    "df.head()"
   ]
  },
  {
   "cell_type": "code",
   "execution_count": 0,
   "metadata": {
    "colab": {
     "base_uri": "https://localhost:8080/",
     "height": 297
    },
    "colab_type": "code",
    "id": "oPzkvxwSI3ZR",
    "outputId": "a76544a6-c9b5-4e32-f67e-e4d0c3c6eb43"
   },
   "outputs": [
    {
     "data": {
      "text/html": [
       "<div>\n",
       "<style scoped>\n",
       "    .dataframe tbody tr th:only-of-type {\n",
       "        vertical-align: middle;\n",
       "    }\n",
       "\n",
       "    .dataframe tbody tr th {\n",
       "        vertical-align: top;\n",
       "    }\n",
       "\n",
       "    .dataframe thead th {\n",
       "        text-align: right;\n",
       "    }\n",
       "</style>\n",
       "<table border=\"1\" class=\"dataframe\">\n",
       "  <thead>\n",
       "    <tr style=\"text-align: right;\">\n",
       "      <th></th>\n",
       "      <th>yr_listened</th>\n",
       "      <th>daily_music_hr</th>\n",
       "      <th>daily_MV_hr</th>\n",
       "      <th>yr_merch_spent</th>\n",
       "      <th>age</th>\n",
       "      <th>num_gr_like</th>\n",
       "    </tr>\n",
       "  </thead>\n",
       "  <tbody>\n",
       "    <tr>\n",
       "      <th>count</th>\n",
       "      <td>240.000000</td>\n",
       "      <td>240.000000</td>\n",
       "      <td>240.000000</td>\n",
       "      <td>240.000000</td>\n",
       "      <td>240.000000</td>\n",
       "      <td>240.000000</td>\n",
       "    </tr>\n",
       "    <tr>\n",
       "      <th>mean</th>\n",
       "      <td>3.193750</td>\n",
       "      <td>4.368750</td>\n",
       "      <td>1.954167</td>\n",
       "      <td>85.895833</td>\n",
       "      <td>18.212500</td>\n",
       "      <td>2.033333</td>\n",
       "    </tr>\n",
       "    <tr>\n",
       "      <th>std</th>\n",
       "      <td>1.506944</td>\n",
       "      <td>2.146434</td>\n",
       "      <td>1.054966</td>\n",
       "      <td>118.231076</td>\n",
       "      <td>3.488272</td>\n",
       "      <td>2.968265</td>\n",
       "    </tr>\n",
       "    <tr>\n",
       "      <th>min</th>\n",
       "      <td>1.000000</td>\n",
       "      <td>0.500000</td>\n",
       "      <td>1.000000</td>\n",
       "      <td>0.000000</td>\n",
       "      <td>12.000000</td>\n",
       "      <td>1.000000</td>\n",
       "    </tr>\n",
       "    <tr>\n",
       "      <th>25%</th>\n",
       "      <td>1.500000</td>\n",
       "      <td>3.000000</td>\n",
       "      <td>1.000000</td>\n",
       "      <td>50.000000</td>\n",
       "      <td>18.000000</td>\n",
       "      <td>1.000000</td>\n",
       "    </tr>\n",
       "    <tr>\n",
       "      <th>50%</th>\n",
       "      <td>3.500000</td>\n",
       "      <td>5.000000</td>\n",
       "      <td>2.500000</td>\n",
       "      <td>50.000000</td>\n",
       "      <td>18.000000</td>\n",
       "      <td>1.000000</td>\n",
       "    </tr>\n",
       "    <tr>\n",
       "      <th>75%</th>\n",
       "      <td>4.000000</td>\n",
       "      <td>5.000000</td>\n",
       "      <td>2.500000</td>\n",
       "      <td>75.000000</td>\n",
       "      <td>18.000000</td>\n",
       "      <td>2.000000</td>\n",
       "    </tr>\n",
       "    <tr>\n",
       "      <th>max</th>\n",
       "      <td>14.000000</td>\n",
       "      <td>10.000000</td>\n",
       "      <td>4.500000</td>\n",
       "      <td>500.000000</td>\n",
       "      <td>29.000000</td>\n",
       "      <td>37.000000</td>\n",
       "    </tr>\n",
       "  </tbody>\n",
       "</table>\n",
       "</div>"
      ],
      "text/plain": [
       "       yr_listened  daily_music_hr  ...         age  num_gr_like\n",
       "count   240.000000      240.000000  ...  240.000000   240.000000\n",
       "mean      3.193750        4.368750  ...   18.212500     2.033333\n",
       "std       1.506944        2.146434  ...    3.488272     2.968265\n",
       "min       1.000000        0.500000  ...   12.000000     1.000000\n",
       "25%       1.500000        3.000000  ...   18.000000     1.000000\n",
       "50%       3.500000        5.000000  ...   18.000000     1.000000\n",
       "75%       4.000000        5.000000  ...   18.000000     2.000000\n",
       "max      14.000000       10.000000  ...   29.000000    37.000000\n",
       "\n",
       "[8 rows x 6 columns]"
      ]
     },
     "execution_count": 23,
     "metadata": {
      "tags": []
     },
     "output_type": "execute_result"
    }
   ],
   "source": [
    "# check the description of the continuous variables (numeric values) to get the hang of the dataset\n",
    "df.describe()"
   ]
  },
  {
   "cell_type": "code",
   "execution_count": 0,
   "metadata": {
    "colab": {},
    "colab_type": "code",
    "id": "MsGf2rAlpzHR"
   },
   "outputs": [],
   "source": [
    "# initialize continuous variables\n",
    "df_cont = df[[\"yr_listened\", \"daily_music_hr\", \"daily_MV_hr\", \"yr_merch_spent\", \"age\", \"num_gr_like\"]]"
   ]
  },
  {
   "cell_type": "code",
   "execution_count": 0,
   "metadata": {
    "colab": {
     "base_uri": "https://localhost:8080/",
     "height": 282
    },
    "colab_type": "code",
    "id": "ua7FH0mlIpMY",
    "outputId": "97e084c1-6796-43f3-ad57-e577355afe0d"
   },
   "outputs": [
    {
     "data": {
      "text/plain": [
       "<matplotlib.axes._subplots.AxesSubplot at 0x7fda1ca57fd0>"
      ]
     },
     "execution_count": 25,
     "metadata": {
      "tags": []
     },
     "output_type": "execute_result"
    },
    {
     "data": {
      "image/png": "[encoded data removed]",
      "text/plain": [
       "<Figure size 432x288 with 1 Axes>"
      ]
     },
     "metadata": {
      "needs_background": "light",
      "tags": []
     },
     "output_type": "display_data"
    }
   ],
   "source": [
    "# histogram of years listened column - kinda right-skewed\n",
    "df.yr_listened.hist()"
   ]
  },
  {
   "cell_type": "code",
   "execution_count": 0,
   "metadata": {
    "colab": {
     "base_uri": "https://localhost:8080/",
     "height": 282
    },
    "colab_type": "code",
    "id": "stHy6GFpqdzU",
    "outputId": "4caea84b-eded-4b45-eab8-0c3c3f4e9cdd"
   },
   "outputs": [
    {
     "data": {
      "text/plain": [
       "<matplotlib.axes._subplots.AxesSubplot at 0x7fda1c9bf160>"
      ]
     },
     "execution_count": 26,
     "metadata": {
      "tags": []
     },
     "output_type": "execute_result"
    },
    {
     "data": {
      "image/png": "[encoded data removed]",
      "text/plain": [
       "<Figure size 432x288 with 1 Axes>"
      ]
     },
     "metadata": {
      "needs_background": "light",
      "tags": []
     },
     "output_type": "display_data"
    }
   ],
   "source": [
    "# histogram of daily music hr - normal dist\n",
    "df.daily_music_hr.hist()"
   ]
  },
  {
   "cell_type": "code",
   "execution_count": 0,
   "metadata": {
    "colab": {
     "base_uri": "https://localhost:8080/",
     "height": 282
    },
    "colab_type": "code",
    "id": "m6bnNzNGrr6W",
    "outputId": "37127509-e5ef-49f3-943b-c2f743cb4702"
   },
   "outputs": [
    {
     "data": {
      "text/plain": [
       "<matplotlib.axes._subplots.AxesSubplot at 0x7fda1c538ac8>"
      ]
     },
     "execution_count": 27,
     "metadata": {
      "tags": []
     },
     "output_type": "execute_result"
    },
    {
     "data": {
      "image/png": "[encoded data removed]",
      "text/plain": [
       "<Figure size 432x288 with 1 Axes>"
      ]
     },
     "metadata": {
      "needs_background": "light",
      "tags": []
     },
     "output_type": "display_data"
    }
   ],
   "source": [
    "# histgoram of daily MV hr - right skewed\n",
    "df.daily_MV_hr.hist()"
   ]
  },
  {
   "cell_type": "code",
   "execution_count": 0,
   "metadata": {
    "colab": {
     "base_uri": "https://localhost:8080/",
     "height": 282
    },
    "colab_type": "code",
    "id": "SkDUfUDzs2NX",
    "outputId": "4351bba1-e4c7-4fa6-a99a-c781d4f8b08a"
   },
   "outputs": [
    {
     "data": {
      "text/plain": [
       "<matplotlib.axes._subplots.AxesSubplot at 0x7fda1cdeaba8>"
      ]
     },
     "execution_count": 28,
     "metadata": {
      "tags": []
     },
     "output_type": "execute_result"
    },
    {
     "data": {
      "image/png": "[encoded data removed]",
      "text/plain": [
       "<Figure size 432x288 with 1 Axes>"
      ]
     },
     "metadata": {
      "needs_background": "light",
      "tags": []
     },
     "output_type": "display_data"
    }
   ],
   "source": [
    "# histogram of yr merch spent - close to normal\n",
    "df.yr_merch_spent.hist()"
   ]
  },
  {
   "cell_type": "code",
   "execution_count": 0,
   "metadata": {
    "colab": {
     "base_uri": "https://localhost:8080/",
     "height": 282
    },
    "colab_type": "code",
    "id": "VMBO41xRtIOB",
    "outputId": "7e0b9a9b-3e84-4e46-97f9-587078113ba2"
   },
   "outputs": [
    {
     "data": {
      "text/plain": [
       "<matplotlib.axes._subplots.AxesSubplot at 0x7fda1c3f0ba8>"
      ]
     },
     "execution_count": 29,
     "metadata": {
      "tags": []
     },
     "output_type": "execute_result"
    },
    {
     "data": {
      "image/png": "[encoded data removed]",
      "text/plain": [
       "<Figure size 432x288 with 1 Axes>"
      ]
     },
     "metadata": {
      "needs_background": "light",
      "tags": []
     },
     "output_type": "display_data"
    }
   ],
   "source": [
    "# histogram of age - normal\n",
    "df.age.hist()"
   ]
  },
  {
   "cell_type": "code",
   "execution_count": 0,
   "metadata": {
    "colab": {
     "base_uri": "https://localhost:8080/",
     "height": 282
    },
    "colab_type": "code",
    "id": "XChIIIsCtZAi",
    "outputId": "b00a95b2-1034-44fd-e751-2c9cd7325034"
   },
   "outputs": [
    {
     "data": {
      "text/plain": [
       "<matplotlib.axes._subplots.AxesSubplot at 0x7fda1c3baa58>"
      ]
     },
     "execution_count": 30,
     "metadata": {
      "tags": []
     },
     "output_type": "execute_result"
    },
    {
     "data": {
      "image/png": "[encoded data removed]",
      "text/plain": [
       "<Figure size 432x288 with 1 Axes>"
      ]
     },
     "metadata": {
      "needs_background": "light",
      "tags": []
     },
     "output_type": "display_data"
    }
   ],
   "source": [
    "# histogram of num grps each person likes - right skewed\n",
    "df.num_gr_like.hist()"
   ]
  },
  {
   "cell_type": "markdown",
   "metadata": {
    "colab_type": "text",
    "id": "5wfnYm4HuSCm"
   },
   "source": [
    "Checking boxplots to detect outliers"
   ]
  },
  {
   "cell_type": "code",
   "execution_count": 0,
   "metadata": {
    "colab": {
     "base_uri": "https://localhost:8080/",
     "height": 283
    },
    "colab_type": "code",
    "id": "0P5rhdvUyRJ2",
    "outputId": "fa2c9e96-0222-42d6-fc69-f350fb849661"
   },
   "outputs": [
    {
     "data": {
      "text/plain": [
       "<matplotlib.axes._subplots.AxesSubplot at 0x7fda1c2a87f0>"
      ]
     },
     "execution_count": 31,
     "metadata": {
      "tags": []
     },
     "output_type": "execute_result"
    },
    {
     "data": {
      "image/png": "[encoded data removed]",
      "text/plain": [
       "<Figure size 432x288 with 1 Axes>"
      ]
     },
     "metadata": {
      "needs_background": "light",
      "tags": []
     },
     "output_type": "display_data"
    }
   ],
   "source": [
    "df.boxplot(column= [\"daily_music_hr\", \"daily_MV_hr\", \"yr_listened\"]) \n",
    "  # yr_listened has some outliers"
   ]
  },
  {
   "cell_type": "code",
   "execution_count": 0,
   "metadata": {
    "colab": {
     "base_uri": "https://localhost:8080/",
     "height": 283
    },
    "colab_type": "code",
    "id": "hks1fpYL21nW",
    "outputId": "02980143-144d-42a5-8a1d-558fcdbeee42"
   },
   "outputs": [
    {
     "data": {
      "text/plain": [
       "<matplotlib.axes._subplots.AxesSubplot at 0x7fda1c232e10>"
      ]
     },
     "execution_count": 32,
     "metadata": {
      "tags": []
     },
     "output_type": "execute_result"
    },
    {
     "data": {
      "image/png": "[encoded data removed]",
      "text/plain": [
       "<Figure size 432x288 with 1 Axes>"
      ]
     },
     "metadata": {
      "needs_background": "light",
      "tags": []
     },
     "output_type": "display_data"
    }
   ],
   "source": [
    "df.boxplot(column = \"yr_merch_spent\") # some outliers"
   ]
  },
  {
   "cell_type": "code",
   "execution_count": 0,
   "metadata": {
    "colab": {
     "base_uri": "https://localhost:8080/",
     "height": 283
    },
    "colab_type": "code",
    "id": "5MsRrOvt3KHB",
    "outputId": "51e55b3d-6b84-41d2-b0ae-61d2c61a6067"
   },
   "outputs": [
    {
     "data": {
      "text/plain": [
       "<matplotlib.axes._subplots.AxesSubplot at 0x7fda1c1d3588>"
      ]
     },
     "execution_count": 33,
     "metadata": {
      "tags": []
     },
     "output_type": "execute_result"
    },
    {
     "data": {
      "image/png": "[encoded data removed]",
      "text/plain": [
       "<Figure size 432x288 with 1 Axes>"
      ]
     },
     "metadata": {
      "needs_background": "light",
      "tags": []
     },
     "output_type": "display_data"
    }
   ],
   "source": [
    "df.boxplot(column = \"num_gr_like\") # a lot of outliers"
   ]
  },
  {
   "cell_type": "markdown",
   "metadata": {
    "colab_type": "text",
    "id": "nvkwToLislex"
   },
   "source": [
    "Remove outliers and check the distributions again"
   ]
  },
  {
   "cell_type": "code",
   "execution_count": 0,
   "metadata": {
    "colab": {
     "base_uri": "https://localhost:8080/",
     "height": 282
    },
    "colab_type": "code",
    "id": "r4Rn1aqesoRt",
    "outputId": "b3d98005-c4e8-46cf-f4b0-f93d134eaadc"
   },
   "outputs": [
    {
     "data": {
      "text/plain": [
       "<matplotlib.axes._subplots.AxesSubplot at 0x7fda1c104e48>"
      ]
     },
     "execution_count": 34,
     "metadata": {
      "tags": []
     },
     "output_type": "execute_result"
    },
    {
     "data": {
      "image/png": "[encoded data removed]",
      "text/plain": [
       "<Figure size 432x288 with 1 Axes>"
      ]
     },
     "metadata": {
      "needs_background": "light",
      "tags": []
     },
     "output_type": "display_data"
    }
   ],
   "source": [
    "# yr_listened\n",
    "df_yr_listen_no_outlier = df[df.yr_listened < 7]\n",
    "df_yr_listen_no_outlier.yr_listened.hist()"
   ]
  },
  {
   "cell_type": "code",
   "execution_count": 0,
   "metadata": {
    "colab": {
     "base_uri": "https://localhost:8080/",
     "height": 282
    },
    "colab_type": "code",
    "id": "XN39qehston4",
    "outputId": "bc73603d-eea0-4bbd-e4f9-385a60e481b2"
   },
   "outputs": [
    {
     "data": {
      "text/plain": [
       "<matplotlib.axes._subplots.AxesSubplot at 0x7fda1c0804e0>"
      ]
     },
     "execution_count": 35,
     "metadata": {
      "tags": []
     },
     "output_type": "execute_result"
    },
    {
     "data": {
      "image/png": "[encoded data removed]",
      "text/plain": [
       "<Figure size 432x288 with 1 Axes>"
      ]
     },
     "metadata": {
      "needs_background": "light",
      "tags": []
     },
     "output_type": "display_data"
    }
   ],
   "source": [
    "# num_gr_like\n",
    "df_num_gr_no_outlier = df[df.num_gr_like < 10]\n",
    "df_num_gr_no_outlier.num_gr_like.hist()"
   ]
  },
  {
   "cell_type": "markdown",
   "metadata": {
    "colab_type": "text",
    "id": "kVrMxkltYMHV"
   },
   "source": [
    "Checking correlation among the continuous variables"
   ]
  },
  {
   "cell_type": "code",
   "execution_count": 0,
   "metadata": {
    "colab": {
     "base_uri": "https://localhost:8080/",
     "height": 235
    },
    "colab_type": "code",
    "id": "MENFoLJs69uC",
    "outputId": "bb599fcd-7c30-4a3d-b138-b11547c40833"
   },
   "outputs": [
    {
     "data": {
      "text/html": [
       "<div>\n",
       "<style scoped>\n",
       "    .dataframe tbody tr th:only-of-type {\n",
       "        vertical-align: middle;\n",
       "    }\n",
       "\n",
       "    .dataframe tbody tr th {\n",
       "        vertical-align: top;\n",
       "    }\n",
       "\n",
       "    .dataframe thead th {\n",
       "        text-align: right;\n",
       "    }\n",
       "</style>\n",
       "<table border=\"1\" class=\"dataframe\">\n",
       "  <thead>\n",
       "    <tr style=\"text-align: right;\">\n",
       "      <th></th>\n",
       "      <th>yr_listened</th>\n",
       "      <th>daily_music_hr</th>\n",
       "      <th>daily_MV_hr</th>\n",
       "      <th>yr_merch_spent</th>\n",
       "      <th>age</th>\n",
       "      <th>num_gr_like</th>\n",
       "    </tr>\n",
       "  </thead>\n",
       "  <tbody>\n",
       "    <tr>\n",
       "      <th>yr_listened</th>\n",
       "      <td>1.000000</td>\n",
       "      <td>0.119141</td>\n",
       "      <td>0.018111</td>\n",
       "      <td>0.161473</td>\n",
       "      <td>0.121877</td>\n",
       "      <td>0.056078</td>\n",
       "    </tr>\n",
       "    <tr>\n",
       "      <th>daily_music_hr</th>\n",
       "      <td>0.119141</td>\n",
       "      <td>1.000000</td>\n",
       "      <td>0.152544</td>\n",
       "      <td>0.221685</td>\n",
       "      <td>-0.080921</td>\n",
       "      <td>0.191467</td>\n",
       "    </tr>\n",
       "    <tr>\n",
       "      <th>daily_MV_hr</th>\n",
       "      <td>0.018111</td>\n",
       "      <td>0.152544</td>\n",
       "      <td>1.000000</td>\n",
       "      <td>0.093754</td>\n",
       "      <td>-0.121273</td>\n",
       "      <td>0.160830</td>\n",
       "    </tr>\n",
       "    <tr>\n",
       "      <th>yr_merch_spent</th>\n",
       "      <td>0.161473</td>\n",
       "      <td>0.221685</td>\n",
       "      <td>0.093754</td>\n",
       "      <td>1.000000</td>\n",
       "      <td>0.010443</td>\n",
       "      <td>-0.009862</td>\n",
       "    </tr>\n",
       "    <tr>\n",
       "      <th>age</th>\n",
       "      <td>0.121877</td>\n",
       "      <td>-0.080921</td>\n",
       "      <td>-0.121273</td>\n",
       "      <td>0.010443</td>\n",
       "      <td>1.000000</td>\n",
       "      <td>0.017498</td>\n",
       "    </tr>\n",
       "    <tr>\n",
       "      <th>num_gr_like</th>\n",
       "      <td>0.056078</td>\n",
       "      <td>0.191467</td>\n",
       "      <td>0.160830</td>\n",
       "      <td>-0.009862</td>\n",
       "      <td>0.017498</td>\n",
       "      <td>1.000000</td>\n",
       "    </tr>\n",
       "  </tbody>\n",
       "</table>\n",
       "</div>"
      ],
      "text/plain": [
       "                yr_listened  daily_music_hr  ...       age  num_gr_like\n",
       "yr_listened        1.000000        0.119141  ...  0.121877     0.056078\n",
       "daily_music_hr     0.119141        1.000000  ... -0.080921     0.191467\n",
       "daily_MV_hr        0.018111        0.152544  ... -0.121273     0.160830\n",
       "yr_merch_spent     0.161473        0.221685  ...  0.010443    -0.009862\n",
       "age                0.121877       -0.080921  ...  1.000000     0.017498\n",
       "num_gr_like        0.056078        0.191467  ...  0.017498     1.000000\n",
       "\n",
       "[6 rows x 6 columns]"
      ]
     },
     "execution_count": 36,
     "metadata": {
      "tags": []
     },
     "output_type": "execute_result"
    }
   ],
   "source": [
    "# checking correlation is important as we want to see what variables are correlated\n",
    "# we don't want multicollinearity when building models\n",
    "df[[\"yr_listened\", \"daily_music_hr\", \"daily_MV_hr\", \"yr_merch_spent\", \"age\", \"num_gr_like\"]].corr()"
   ]
  },
  {
   "cell_type": "code",
   "execution_count": 0,
   "metadata": {
    "colab": {
     "base_uri": "https://localhost:8080/",
     "height": 352
    },
    "colab_type": "code",
    "id": "iyvAzKmsBunE",
    "outputId": "6a3631a3-9b27-49b7-844e-28bd1175df7f"
   },
   "outputs": [
    {
     "data": {
      "text/plain": [
       "<matplotlib.axes._subplots.AxesSubplot at 0x7fda1c4c36d8>"
      ]
     },
     "execution_count": 37,
     "metadata": {
      "tags": []
     },
     "output_type": "execute_result"
    },
    {
     "data": {
      "image/png": "[encoded data removed]",
      "text/plain": [
       "<Figure size 432x288 with 2 Axes>"
      ]
     },
     "metadata": {
      "needs_background": "light",
      "tags": []
     },
     "output_type": "display_data"
    }
   ],
   "source": [
    "cmap = sns.diverging_palette(600, 600, as_cmap=True)\n",
    "sns.heatmap(df[[\"yr_listened\", \"daily_music_hr\", \"daily_MV_hr\", \"yr_merch_spent\", \"age\", \"num_gr_like\"]].corr(), \n",
    "            cmap=cmap, vmax=.3, center=0, square=True, linewidths=.5, cbar_kws={\"shrink\": .5})"
   ]
  },
  {
   "cell_type": "markdown",
   "metadata": {
    "colab_type": "text",
    "id": "nUexEzkC947e"
   },
   "source": [
    "From the correlation above, we can see these relationships:\n",
    "\n",
    "1.   Number of years they listened to k-pop is positively correlated with number of hours they listen to k-pop, money they spend on merchandise, and age. \n",
    "2.   The number of hours k-pop fans spend on watching k-pop youtube music video is positiely correlated with the number of hours they listen to k-pop music\n",
    "3.   The more time they spend on listening to k-pop, the more money they spend on purchasing k-pop merchandise.\n",
    "4.   The more k-pop youtube videos they watch and the more k-pop they listen, the more groups they like.\n",
    "5.   The younger they are, the more time the spend on listening to k-pop and watching k-pop videos.\n",
    "6.   Age has nothing to do with how much money they spend on purchasing k-pop merchandise per year.\n",
    "\n"
   ]
  },
  {
   "cell_type": "markdown",
   "metadata": {
    "colab_type": "text",
    "id": "O4ow6zzZEMWX"
   },
   "source": [
    "# Analyzing Categorical Variables (using Bar Charts and Pivot Tables)\n"
   ]
  },
  {
   "cell_type": "code",
   "execution_count": 0,
   "metadata": {
    "colab": {
     "base_uri": "https://localhost:8080/",
     "height": 119
    },
    "colab_type": "code",
    "id": "9cfDuCwP9kFD",
    "outputId": "22d65cc8-8077-4b84-a338-ac3cb5dc46dc"
   },
   "outputs": [
    {
     "data": {
      "text/plain": [
       "Index(['fav_grp', 'popl_by_co_yn', 'reason', 'yr_listened', 'gender_pref',\n",
       "       'daily_music_hr', 'watch_MV_yn', 'daily_MV_hr', 'obsessed_yn',\n",
       "       'news_medium', 'pursuit', 'time_cons_yn', 'life_chg', 'pos_eff',\n",
       "       'yr_merch_spent', 'money_src', 'concert_yn', 'crazy_ev', 'age',\n",
       "       'country', 'job', 'gender', 'num_gr_like', 'bts_vs_others'],\n",
       "      dtype='object')"
      ]
     },
     "execution_count": 38,
     "metadata": {
      "tags": []
     },
     "output_type": "execute_result"
    }
   ],
   "source": [
    "df.columns"
   ]
  },
  {
   "cell_type": "code",
   "execution_count": 0,
   "metadata": {
    "colab": {},
    "colab_type": "code",
    "id": "xMKhhheEESwv"
   },
   "outputs": [],
   "source": [
    "# dataframe for categorical variables\n",
    "df_cat = df[[\"fav_grp\", 'popl_by_co_yn', 'reason', 'gender_pref','watch_MV_yn','obsessed_yn',\n",
    "       'news_medium', 'pursuit', 'time_cons_yn', 'life_chg', 'pos_eff', 'money_src', 'concert_yn', \n",
    "       'crazy_ev','country', 'job', 'gender', 'bts_vs_others']]"
   ]
  },
  {
   "cell_type": "markdown",
   "metadata": {
    "colab_type": "text",
    "id": "-mQPWbHs2sLn"
   },
   "source": [
    "# Bar Charts"
   ]
  },
  {
   "cell_type": "code",
   "execution_count": 0,
   "metadata": {
    "colab": {},
    "colab_type": "code",
    "id": "mPu3BjMx29BB"
   },
   "outputs": [],
   "source": [
    "# pivot table ideas\n",
    "# kpop popularity by contry and country\n",
    "# daily music hour/daily MV hr and reason\n",
    "# gender prefrence and how much money they spend on merchandise\n",
    "# obsession and daily music/MV hour\n"
   ]
  },
  {
   "cell_type": "code",
   "execution_count": 0,
   "metadata": {
    "colab": {
     "base_uri": "https://localhost:8080/",
     "height": 1000
    },
    "colab_type": "code",
    "id": "7Uo0RlFIKY2H",
    "outputId": "783bbbe4-791c-4d88-9ac8-26fd7a263f0e"
   },
   "outputs": [
    {
     "name": "stdout",
     "output_type": "stream",
     "text": [
      "graph for fav_grp: total = 15\n"
     ]
    },
    {
     "data": {
      "image/png": "[encoded data removed]",
      "text/plain": [
       "<Figure size 432x288 with 1 Axes>"
      ]
     },
     "metadata": {
      "needs_background": "light",
      "tags": []
     },
     "output_type": "display_data"
    },
    {
     "name": "stdout",
     "output_type": "stream",
     "text": [
      "graph for popl_by_co_yn: total = 4\n"
     ]
    },
    {
     "data": {
      "image/png": "[encoded data removed]",
      "text/plain": [
       "<Figure size 432x288 with 1 Axes>"
      ]
     },
     "metadata": {
      "needs_background": "light",
      "tags": []
     },
     "output_type": "display_data"
    },
    {
     "name": "stdout",
     "output_type": "stream",
     "text": [
      "graph for reason: total = 4\n"
     ]
    },
    {
     "data": {
      "image/png": "[encoded data removed]",
      "text/plain": [
       "<Figure size 432x288 with 1 Axes>"
      ]
     },
     "metadata": {
      "needs_background": "light",
      "tags": []
     },
     "output_type": "display_data"
    },
    {
     "name": "stdout",
     "output_type": "stream",
     "text": [
      "graph for gender_pref: total = 4\n"
     ]
    },
    {
     "data": {
      "image/png": "[encoded data removed]",
      "text/plain": [
       "<Figure size 432x288 with 1 Axes>"
      ]
     },
     "metadata": {
      "needs_background": "light",
      "tags": []
     },
     "output_type": "display_data"
    },
    {
     "name": "stdout",
     "output_type": "stream",
     "text": [
      "graph for watch_MV_yn: total = 2\n"
     ]
    },
    {
     "data": {
      "image/png": "[encoded data removed]",
      "text/plain": [
       "<Figure size 432x288 with 1 Axes>"
      ]
     },
     "metadata": {
      "needs_background": "light",
      "tags": []
     },
     "output_type": "display_data"
    },
    {
     "name": "stdout",
     "output_type": "stream",
     "text": [
      "graph for obsessed_yn: total = 3\n"
     ]
    },
    {
     "data": {
      "image/png": "[encoded data removed]",
      "text/plain": [
       "<Figure size 432x288 with 1 Axes>"
      ]
     },
     "metadata": {
      "needs_background": "light",
      "tags": []
     },
     "output_type": "display_data"
    },
    {
     "name": "stdout",
     "output_type": "stream",
     "text": [
      "graph for news_medium: total = 3\n"
     ]
    },
    {
     "data": {
      "image/png": "[encoded data removed]",
      "text/plain": [
       "<Figure size 432x288 with 1 Axes>"
      ]
     },
     "metadata": {
      "needs_background": "light",
      "tags": []
     },
     "output_type": "display_data"
    },
    {
     "name": "stdout",
     "output_type": "stream",
     "text": [
      "graph for pursuit: total = 6\n"
     ]
    },
    {
     "data": {
      "image/png": "[encoded data removed]",
      "text/plain": [
       "<Figure size 432x288 with 1 Axes>"
      ]
     },
     "metadata": {
      "needs_background": "light",
      "tags": []
     },
     "output_type": "display_data"
    },
    {
     "name": "stdout",
     "output_type": "stream",
     "text": [
      "graph for time_cons_yn: total = 3\n"
     ]
    },
    {
     "data": {
      "image/png": "[encoded data removed]",
      "text/plain": [
       "<Figure size 432x288 with 1 Axes>"
      ]
     },
     "metadata": {
      "needs_background": "light",
      "tags": []
     },
     "output_type": "display_data"
    },
    {
     "name": "stdout",
     "output_type": "stream",
     "text": [
      "graph for life_chg: total = 5\n"
     ]
    },
    {
     "data": {
      "image/png": "[encoded data removed]",
      "text/plain": [
       "<Figure size 432x288 with 1 Axes>"
      ]
     },
     "metadata": {
      "needs_background": "light",
      "tags": []
     },
     "output_type": "display_data"
    },
    {
     "name": "stdout",
     "output_type": "stream",
     "text": [
      "graph for pos_eff: total = 4\n"
     ]
    },
    {
     "data": {
      "image/png": "[encoded data removed]",
      "text/plain": [
       "<Figure size 432x288 with 1 Axes>"
      ]
     },
     "metadata": {
      "needs_background": "light",
      "tags": []
     },
     "output_type": "display_data"
    },
    {
     "name": "stdout",
     "output_type": "stream",
     "text": [
      "graph for money_src: total = 5\n"
     ]
    },
    {
     "data": {
      "image/png": "[encoded data removed]",
      "text/plain": [
       "<Figure size 432x288 with 1 Axes>"
      ]
     },
     "metadata": {
      "needs_background": "light",
      "tags": []
     },
     "output_type": "display_data"
    },
    {
     "name": "stdout",
     "output_type": "stream",
     "text": [
      "graph for concert_yn: total = 3\n"
     ]
    },
    {
     "data": {
      "image/png": "[encoded data removed]",
      "text/plain": [
       "<Figure size 432x288 with 1 Axes>"
      ]
     },
     "metadata": {
      "needs_background": "light",
      "tags": []
     },
     "output_type": "display_data"
    },
    {
     "name": "stdout",
     "output_type": "stream",
     "text": [
      "graph for crazy_ev: total = 3\n"
     ]
    },
    {
     "data": {
      "image/png": "[encoded data removed]",
      "text/plain": [
       "<Figure size 432x288 with 1 Axes>"
      ]
     },
     "metadata": {
      "needs_background": "light",
      "tags": []
     },
     "output_type": "display_data"
    },
    {
     "name": "stdout",
     "output_type": "stream",
     "text": [
      "graph for country: total = 10\n"
     ]
    },
    {
     "data": {
      "image/png": "[encoded data removed]",
      "text/plain": [
       "<Figure size 432x288 with 1 Axes>"
      ]
     },
     "metadata": {
      "needs_background": "light",
      "tags": []
     },
     "output_type": "display_data"
    },
    {
     "name": "stdout",
     "output_type": "stream",
     "text": [
      "graph for job: total = 3\n"
     ]
    },
    {
     "data": {
      "image/png": "[encoded data removed]",
      "text/plain": [
       "<Figure size 432x288 with 1 Axes>"
      ]
     },
     "metadata": {
      "needs_background": "light",
      "tags": []
     },
     "output_type": "display_data"
    },
    {
     "name": "stdout",
     "output_type": "stream",
     "text": [
      "graph for gender: total = 3\n"
     ]
    },
    {
     "data": {
      "image/png": "[encoded data removed]",
      "text/plain": [
       "<Figure size 432x288 with 1 Axes>"
      ]
     },
     "metadata": {
      "needs_background": "light",
      "tags": []
     },
     "output_type": "display_data"
    },
    {
     "name": "stdout",
     "output_type": "stream",
     "text": [
      "graph for bts_vs_others: total = 2\n"
     ]
    },
    {
     "data": {
      "image/png": "[encoded data removed]",
      "text/plain": [
       "<Figure size 432x288 with 1 Axes>"
      ]
     },
     "metadata": {
      "needs_background": "light",
      "tags": []
     },
     "output_type": "display_data"
    }
   ],
   "source": [
    "# bar chart for cat variables (borrowed from Ken Jee's Data Science Salary Code)\n",
    "for i in df_cat.columns:\n",
    "  cat_num = df_cat[i].value_counts()[:15] # just take top 15 for fav group\n",
    "  print(\"graph for %s: total = %d\" % (i, len(cat_num)))\n",
    "  chart = sns.barplot(x=cat_num.index, y=cat_num)\n",
    "  chart.set_xticklabels(chart.get_xticklabels(), rotation=90) #rotation = 90 rotates the x-labels vertically\n",
    "  plt.show()"
   ]
  },
  {
   "cell_type": "markdown",
   "metadata": {
    "colab_type": "text",
    "id": "-BPqxT6-a--i"
   },
   "source": [
    "# Pivot Tables"
   ]
  },
  {
   "cell_type": "code",
   "execution_count": 0,
   "metadata": {
    "colab": {},
    "colab_type": "code",
    "id": "-xdaaXyWKlZQ"
   },
   "outputs": [],
   "source": [
    "df.columns"
   ]
  },
  {
   "cell_type": "markdown",
   "metadata": {
    "colab_type": "text",
    "id": "wPddGJDsliWQ"
   },
   "source": [
    "Relationship between listening/watching kpop and positive effect"
   ]
  },
  {
   "cell_type": "code",
   "execution_count": 0,
   "metadata": {
    "colab": {
     "base_uri": "https://localhost:8080/",
     "height": 204
    },
    "colab_type": "code",
    "id": "1OO_sedlbCR2",
    "outputId": "e2bf9007-36f3-45de-ec7e-09d7d224088e"
   },
   "outputs": [
    {
     "data": {
      "text/html": [
       "<div>\n",
       "<style scoped>\n",
       "    .dataframe tbody tr th:only-of-type {\n",
       "        vertical-align: middle;\n",
       "    }\n",
       "\n",
       "    .dataframe tbody tr th {\n",
       "        vertical-align: top;\n",
       "    }\n",
       "\n",
       "    .dataframe thead th {\n",
       "        text-align: right;\n",
       "    }\n",
       "</style>\n",
       "<table border=\"1\" class=\"dataframe\">\n",
       "  <thead>\n",
       "    <tr style=\"text-align: right;\">\n",
       "      <th></th>\n",
       "      <th>daily_MV_hr</th>\n",
       "      <th>daily_music_hr</th>\n",
       "    </tr>\n",
       "    <tr>\n",
       "      <th>pos_eff</th>\n",
       "      <th></th>\n",
       "      <th></th>\n",
       "    </tr>\n",
       "  </thead>\n",
       "  <tbody>\n",
       "    <tr>\n",
       "      <th>both reduced stress and made friends</th>\n",
       "      <td>2.650000</td>\n",
       "      <td>4.650000</td>\n",
       "    </tr>\n",
       "    <tr>\n",
       "      <th>reduced stress/anxiety/depression</th>\n",
       "      <td>1.988636</td>\n",
       "      <td>4.473485</td>\n",
       "    </tr>\n",
       "    <tr>\n",
       "      <th>made friends</th>\n",
       "      <td>1.837662</td>\n",
       "      <td>4.012987</td>\n",
       "    </tr>\n",
       "    <tr>\n",
       "      <th>others (don't know, no effect, learning new things)</th>\n",
       "      <td>1.833333</td>\n",
       "      <td>4.880952</td>\n",
       "    </tr>\n",
       "  </tbody>\n",
       "</table>\n",
       "</div>"
      ],
      "text/plain": [
       "                                                    daily_MV_hr  daily_music_hr\n",
       "pos_eff                                                                        \n",
       "both reduced stress and made friends                   2.650000        4.650000\n",
       "reduced stress/anxiety/depression                      1.988636        4.473485\n",
       "made friends                                           1.837662        4.012987\n",
       "others (don't know, no effect, learning new thi...     1.833333        4.880952"
      ]
     },
     "execution_count": 41,
     "metadata": {
      "tags": []
     },
     "output_type": "execute_result"
    }
   ],
   "source": [
    "pd.pivot_table(df, index = \"pos_eff\", \n",
    "               values = [\"daily_MV_hr\", \"daily_music_hr\"]).sort_values('daily_MV_hr', ascending = False)"
   ]
  },
  {
   "cell_type": "markdown",
   "metadata": {
    "colab_type": "text",
    "id": "_PBi6nCdllK2"
   },
   "source": [
    "Relationship between listening/watching kpop and obsession\n"
   ]
  },
  {
   "cell_type": "code",
   "execution_count": 0,
   "metadata": {
    "colab": {
     "base_uri": "https://localhost:8080/",
     "height": 173
    },
    "colab_type": "code",
    "id": "DjDxrV69emmL",
    "outputId": "ff61fa38-8526-4f2d-bd76-46d123e79d3c"
   },
   "outputs": [
    {
     "data": {
      "text/html": [
       "<div>\n",
       "<style scoped>\n",
       "    .dataframe tbody tr th:only-of-type {\n",
       "        vertical-align: middle;\n",
       "    }\n",
       "\n",
       "    .dataframe tbody tr th {\n",
       "        vertical-align: top;\n",
       "    }\n",
       "\n",
       "    .dataframe thead th {\n",
       "        text-align: right;\n",
       "    }\n",
       "</style>\n",
       "<table border=\"1\" class=\"dataframe\">\n",
       "  <thead>\n",
       "    <tr style=\"text-align: right;\">\n",
       "      <th></th>\n",
       "      <th>daily_MV_hr</th>\n",
       "      <th>daily_music_hr</th>\n",
       "    </tr>\n",
       "    <tr>\n",
       "      <th>obsessed_yn</th>\n",
       "      <th></th>\n",
       "      <th></th>\n",
       "    </tr>\n",
       "  </thead>\n",
       "  <tbody>\n",
       "    <tr>\n",
       "      <th>yes</th>\n",
       "      <td>2.087379</td>\n",
       "      <td>4.762136</td>\n",
       "    </tr>\n",
       "    <tr>\n",
       "      <th>not sure</th>\n",
       "      <td>2.201613</td>\n",
       "      <td>4.080645</td>\n",
       "    </tr>\n",
       "    <tr>\n",
       "      <th>no</th>\n",
       "      <td>1.566667</td>\n",
       "      <td>4.066667</td>\n",
       "    </tr>\n",
       "  </tbody>\n",
       "</table>\n",
       "</div>"
      ],
      "text/plain": [
       "             daily_MV_hr  daily_music_hr\n",
       "obsessed_yn                             \n",
       "yes             2.087379        4.762136\n",
       "not sure        2.201613        4.080645\n",
       "no              1.566667        4.066667"
      ]
     },
     "execution_count": 42,
     "metadata": {
      "tags": []
     },
     "output_type": "execute_result"
    }
   ],
   "source": [
    "pd.pivot_table(df, index = \"obsessed_yn\", \n",
    "               values = [\"daily_MV_hr\", \"daily_music_hr\"]).sort_values('daily_music_hr', ascending = False)"
   ]
  },
  {
   "cell_type": "markdown",
   "metadata": {
    "colab_type": "text",
    "id": "m4sG5fLIl-Sf"
   },
   "source": [
    "Relationship between going to concert and money they spend on k-pop merchandise"
   ]
  },
  {
   "cell_type": "code",
   "execution_count": 0,
   "metadata": {
    "colab": {
     "base_uri": "https://localhost:8080/",
     "height": 173
    },
    "colab_type": "code",
    "id": "oV_uSiGHbOAF",
    "outputId": "e4426564-5566-40d7-d9cf-d3e2e50fdd62"
   },
   "outputs": [
    {
     "data": {
      "text/html": [
       "<div>\n",
       "<style scoped>\n",
       "    .dataframe tbody tr th:only-of-type {\n",
       "        vertical-align: middle;\n",
       "    }\n",
       "\n",
       "    .dataframe tbody tr th {\n",
       "        vertical-align: top;\n",
       "    }\n",
       "\n",
       "    .dataframe thead th {\n",
       "        text-align: right;\n",
       "    }\n",
       "</style>\n",
       "<table border=\"1\" class=\"dataframe\">\n",
       "  <thead>\n",
       "    <tr style=\"text-align: right;\">\n",
       "      <th></th>\n",
       "      <th>yr_merch_spent</th>\n",
       "    </tr>\n",
       "    <tr>\n",
       "      <th>concert_yn</th>\n",
       "      <th></th>\n",
       "    </tr>\n",
       "  </thead>\n",
       "  <tbody>\n",
       "    <tr>\n",
       "      <th>i want to, but the k-pop groups don't come to my city</th>\n",
       "      <td>66.388889</td>\n",
       "    </tr>\n",
       "    <tr>\n",
       "      <th>no</th>\n",
       "      <td>53.378378</td>\n",
       "    </tr>\n",
       "    <tr>\n",
       "      <th>yes</th>\n",
       "      <td>133.441558</td>\n",
       "    </tr>\n",
       "  </tbody>\n",
       "</table>\n",
       "</div>"
      ],
      "text/plain": [
       "                                                    yr_merch_spent\n",
       "concert_yn                                                        \n",
       "i want to, but the k-pop groups don't come to m...       66.388889\n",
       "no                                                       53.378378\n",
       "yes                                                     133.441558"
      ]
     },
     "execution_count": 43,
     "metadata": {
      "tags": []
     },
     "output_type": "execute_result"
    }
   ],
   "source": [
    "# most money goes to purchasing concert tickets \n",
    "pd.pivot_table(df, index = \"concert_yn\", values = \"yr_merch_spent\")"
   ]
  },
  {
   "cell_type": "code",
   "execution_count": 0,
   "metadata": {
    "colab": {},
    "colab_type": "code",
    "id": "s1JCMqw9lFd7"
   },
   "outputs": [],
   "source": [
    "df.columns"
   ]
  },
  {
   "cell_type": "markdown",
   "metadata": {
    "colab_type": "text",
    "id": "nbXZtwoZZKYG"
   },
   "source": [
    "Pivot table - daily music hr vs - everything else"
   ]
  },
  {
   "cell_type": "code",
   "execution_count": 0,
   "metadata": {
    "colab": {},
    "colab_type": "code",
    "id": "pqDMPgNTdc2a"
   },
   "outputs": [],
   "source": [
    "df_columns = df[['fav_grp', 'popl_by_co_yn', 'reason', 'yr_listened', 'gender_pref',\n",
    "       'watch_MV_yn', 'daily_MV_hr', 'obsessed_yn',\n",
    "       'news_medium', 'pursuit', 'time_cons_yn', 'life_chg', 'pos_eff',\n",
    "       'yr_merch_spent', 'money_src', 'concert_yn', 'crazy_ev',\n",
    "       'country', 'job', 'gender', 'num_gr_like', 'bts_vs_others','age', 'daily_music_hr']]"
   ]
  },
  {
   "cell_type": "code",
   "execution_count": 0,
   "metadata": {
    "colab": {
     "base_uri": "https://localhost:8080/",
     "height": 1000
    },
    "colab_type": "code",
    "id": "1UBbBVaRZH7M",
    "outputId": "149cb93d-dd40-45db-de28-e2106aa83b74"
   },
   "outputs": [
    {
     "name": "stdout",
     "output_type": "stream",
     "text": [
      "fav_grp\n",
      "                                                    daily_music_hr\n",
      "fav_grp                                                           \n",
      "wanna one                                                    10.00\n",
      "bts,blackpink,stray kids,got7                                10.00\n",
      "bts,exo,monsta x,shinee,red velvet,mamamoo,twic...           10.00\n",
      "bts,exo,monsta x,ateez,nct,got7 too many to count            10.00\n",
      "bts,exo,blackpink,monsta x,shinee,a.c.e                      10.00\n",
      "...                                                            ...\n",
      "bts,exo,blackpink,monsta x,i'm open to enjoying...            3.00\n",
      "bts,the black skirts                                          3.00\n",
      "bts,loona                                                     3.00\n",
      "twice                                                         1.75\n",
      "seventeen,twice                                               0.50\n",
      "\n",
      "[86 rows x 1 columns]\n",
      "popl_by_co_yn\n",
      "                        daily_music_hr\n",
      "popl_by_co_yn                         \n",
      "yes                           4.524590\n",
      "its gaining popularity        4.469178\n",
      "i'm not sure                  3.956522\n",
      "no                            2.900000\n",
      "reason\n",
      "                    daily_music_hr\n",
      "reason                            \n",
      "attractive idols          6.000000\n",
      "other reason(s)           4.909091\n",
      "many reasons              4.292453\n",
      "unique music style        4.132184\n",
      "yr_listened\n",
      "             daily_music_hr\n",
      "yr_listened                \n",
      "6.0               10.000000\n",
      "7.0                6.000000\n",
      "8.0                5.000000\n",
      "14.0               5.000000\n",
      "4.0                4.717391\n",
      "1.0                4.214286\n",
      "1.5                4.166667\n",
      "3.5                4.073034\n",
      "9.0                4.000000\n",
      "gender_pref\n",
      "                  daily_music_hr\n",
      "gender_pref                     \n",
      "both                    4.558559\n",
      "it's about music        4.453704\n",
      "male                    4.110294\n",
      "female                  3.214286\n",
      "watch_MV_yn\n",
      "             daily_music_hr\n",
      "watch_MV_yn                \n",
      "no                 4.800000\n",
      "yes                4.359574\n",
      "daily_MV_hr\n",
      "             daily_music_hr\n",
      "daily_MV_hr                \n",
      "3.5                5.250000\n",
      "4.5                5.076923\n",
      "2.5                4.415730\n",
      "1.0                4.105932\n",
      "obsessed_yn\n",
      "             daily_music_hr\n",
      "obsessed_yn                \n",
      "yes                4.762136\n",
      "not sure           4.080645\n",
      "no                 4.066667\n",
      "news_medium\n",
      "                                   daily_music_hr\n",
      "news_medium                                      \n",
      "youtube                                  4.558824\n",
      "others (reddit, tumbler, or none)        4.037500\n",
      "social media (twitter, instagram)        4.031915\n",
      "pursuit\n",
      "                                                    daily_music_hr\n",
      "pursuit                                                           \n",
      "others (combination of the the four and visit k...        4.508242\n",
      "pursue dancing                                            4.416667\n",
      "learn the culture                                         4.166667\n",
      "learn korean fashion/makeup                               3.666667\n",
      "none                                                      3.000000\n",
      "learn music                                               2.900000\n",
      "time_cons_yn\n",
      "                              daily_music_hr\n",
      "time_cons_yn                                \n",
      "others (sometimes, not sure)        4.636364\n",
      "yes                                 4.587838\n",
      "no                                  4.245161\n",
      "life_chg\n",
      "                                                    daily_music_hr\n",
      "life_chg                                                          \n",
      "others (combination of the negatives, small cri...        6.272727\n",
      "none                                                      4.500000\n",
      "reduced time of socialized with friends/family            4.423077\n",
      "made fun of                                               4.284946\n",
      "reduced amount of sleep                                   4.097222\n",
      "pos_eff\n",
      "                                                    daily_music_hr\n",
      "pos_eff                                                           \n",
      "others (don't know, no effect, learning new thi...        4.880952\n",
      "both reduced stress and made friends                      4.650000\n",
      "reduced stress/anxiety/depression                         4.473485\n",
      "made friends                                              4.012987\n",
      "yr_merch_spent\n",
      "                daily_music_hr\n",
      "yr_merch_spent                \n",
      "500                   6.125000\n",
      "75                    4.464912\n",
      "150                   4.380000\n",
      "50                    4.148352\n",
      "0                     4.142857\n",
      "10                    3.000000\n",
      "30                    3.000000\n",
      "money_src\n",
      "                                 daily_music_hr\n",
      "money_src                                      \n",
      "borrowed                               6.000000\n",
      "others (gift, scholarship, etc)        4.542857\n",
      "from parents                           4.384615\n",
      "part-time job                          4.269737\n",
      "full-time job                          4.136364\n",
      "concert_yn\n",
      "                                                    daily_music_hr\n",
      "concert_yn                                                        \n",
      "yes                                                       4.688312\n",
      "i want to, but the k-pop groups don't come to m...        4.269841\n",
      "no                                                        4.040541\n",
      "crazy_ev\n",
      "                                                    daily_music_hr\n",
      "crazy_ev                                                          \n",
      "others (combination of not studying/working and...        4.549180\n",
      "nothing                                                   4.390977\n",
      "didn't study or work                                      4.065217\n",
      "country\n",
      "                                                    daily_music_hr\n",
      "country                                                           \n",
      "others (south africa, new zealand, sweden, finl...        5.250000\n",
      "canada                                                    4.882353\n",
      "usa                                                       4.475000\n",
      "australia                                                 4.428571\n",
      "uk                                                        4.134615\n",
      "germany                                                   4.000000\n",
      "latin america                                             4.000000\n",
      "france                                                    3.900000\n",
      "other european countries                                  3.694444\n",
      "other asian countries                                     3.300000\n",
      "job\n",
      "                  daily_music_hr\n",
      "job                             \n",
      "full-time worker        4.444444\n",
      "student                 4.359524\n",
      "unemployed              4.333333\n",
      "gender\n",
      "             daily_music_hr\n",
      "gender                     \n",
      "transgender        6.500000\n",
      "female             4.350220\n",
      "male               3.888889\n",
      "num_gr_like\n",
      "             daily_music_hr\n",
      "num_gr_like                \n",
      "20                10.000000\n",
      "8                  7.500000\n",
      "6                  6.600000\n",
      "4                  5.600000\n",
      "37                 5.000000\n",
      "3                  4.882353\n",
      "5                  4.750000\n",
      "7                  4.333333\n",
      "1                  4.130303\n",
      "2                  3.958333\n",
      "bts_vs_others\n",
      "               daily_music_hr\n",
      "bts_vs_others                \n",
      "other(s)             4.415584\n",
      "bts                  4.346626\n",
      "age\n",
      "     daily_music_hr\n",
      "age                \n",
      "12         4.632353\n",
      "18         4.385542\n",
      "24         4.162162\n",
      "29         3.000000\n",
      "daily_music_hr\n"
     ]
    },
    {
     "ename": "ValueError",
     "evalue": "ignored",
     "output_type": "error",
     "traceback": [
      "\u001b[0;31m---------------------------------------------------------------------------\u001b[0m",
      "\u001b[0;31mValueError\u001b[0m                                Traceback (most recent call last)",
      "\u001b[0;32m<ipython-input-45-e578096db9fc>\u001b[0m in \u001b[0;36m<module>\u001b[0;34m()\u001b[0m\n\u001b[1;32m      1\u001b[0m \u001b[0;32mfor\u001b[0m \u001b[0mi\u001b[0m \u001b[0;32min\u001b[0m \u001b[0mdf_columns\u001b[0m\u001b[0;34m.\u001b[0m\u001b[0mcolumns\u001b[0m\u001b[0;34m:\u001b[0m\u001b[0;34m\u001b[0m\u001b[0;34m\u001b[0m\u001b[0m\n\u001b[1;32m      2\u001b[0m     \u001b[0mprint\u001b[0m\u001b[0;34m(\u001b[0m\u001b[0mi\u001b[0m\u001b[0;34m)\u001b[0m\u001b[0;34m\u001b[0m\u001b[0;34m\u001b[0m\u001b[0m\n\u001b[0;32m----> 3\u001b[0;31m     \u001b[0mprint\u001b[0m\u001b[0;34m(\u001b[0m\u001b[0mpd\u001b[0m\u001b[0;34m.\u001b[0m\u001b[0mpivot_table\u001b[0m\u001b[0;34m(\u001b[0m\u001b[0mdf_columns\u001b[0m\u001b[0;34m,\u001b[0m \u001b[0mindex\u001b[0m \u001b[0;34m=\u001b[0m \u001b[0mi\u001b[0m\u001b[0;34m,\u001b[0m \u001b[0mvalues\u001b[0m \u001b[0;34m=\u001b[0m \u001b[0;34m'daily_music_hr'\u001b[0m\u001b[0;34m)\u001b[0m\u001b[0;34m.\u001b[0m\u001b[0msort_values\u001b[0m\u001b[0;34m(\u001b[0m\u001b[0;34m\"daily_music_hr\"\u001b[0m\u001b[0;34m,\u001b[0m \u001b[0mascending\u001b[0m \u001b[0;34m=\u001b[0m \u001b[0;32mFalse\u001b[0m\u001b[0;34m)\u001b[0m\u001b[0;34m)\u001b[0m\u001b[0;34m\u001b[0m\u001b[0;34m\u001b[0m\u001b[0m\n\u001b[0m",
      "\u001b[0;32m/usr/local/lib/python3.6/dist-packages/pandas/core/reshape/pivot.py\u001b[0m in \u001b[0;36mpivot_table\u001b[0;34m(data, values, index, columns, aggfunc, fill_value, margins, dropna, margins_name, observed)\u001b[0m\n\u001b[1;32m     98\u001b[0m         \u001b[0mvalues\u001b[0m \u001b[0;34m=\u001b[0m \u001b[0mlist\u001b[0m\u001b[0;34m(\u001b[0m\u001b[0mvalues\u001b[0m\u001b[0;34m)\u001b[0m\u001b[0;34m\u001b[0m\u001b[0;34m\u001b[0m\u001b[0m\n\u001b[1;32m     99\u001b[0m \u001b[0;34m\u001b[0m\u001b[0m\n\u001b[0;32m--> 100\u001b[0;31m     \u001b[0mgrouped\u001b[0m \u001b[0;34m=\u001b[0m \u001b[0mdata\u001b[0m\u001b[0;34m.\u001b[0m\u001b[0mgroupby\u001b[0m\u001b[0;34m(\u001b[0m\u001b[0mkeys\u001b[0m\u001b[0;34m,\u001b[0m \u001b[0mobserved\u001b[0m\u001b[0;34m=\u001b[0m\u001b[0mobserved\u001b[0m\u001b[0;34m)\u001b[0m\u001b[0;34m\u001b[0m\u001b[0;34m\u001b[0m\u001b[0m\n\u001b[0m\u001b[1;32m    101\u001b[0m     \u001b[0magged\u001b[0m \u001b[0;34m=\u001b[0m \u001b[0mgrouped\u001b[0m\u001b[0;34m.\u001b[0m\u001b[0magg\u001b[0m\u001b[0;34m(\u001b[0m\u001b[0maggfunc\u001b[0m\u001b[0;34m)\u001b[0m\u001b[0;34m\u001b[0m\u001b[0;34m\u001b[0m\u001b[0m\n\u001b[1;32m    102\u001b[0m     \u001b[0;32mif\u001b[0m \u001b[0mdropna\u001b[0m \u001b[0;32mand\u001b[0m \u001b[0misinstance\u001b[0m\u001b[0;34m(\u001b[0m\u001b[0magged\u001b[0m\u001b[0;34m,\u001b[0m \u001b[0mABCDataFrame\u001b[0m\u001b[0;34m)\u001b[0m \u001b[0;32mand\u001b[0m \u001b[0mlen\u001b[0m\u001b[0;34m(\u001b[0m\u001b[0magged\u001b[0m\u001b[0;34m.\u001b[0m\u001b[0mcolumns\u001b[0m\u001b[0;34m)\u001b[0m\u001b[0;34m:\u001b[0m\u001b[0;34m\u001b[0m\u001b[0;34m\u001b[0m\u001b[0m\n",
      "\u001b[0;32m/usr/local/lib/python3.6/dist-packages/pandas/core/frame.py\u001b[0m in \u001b[0;36mgroupby\u001b[0;34m(self, by, axis, level, as_index, sort, group_keys, squeeze, observed)\u001b[0m\n\u001b[1;32m   5808\u001b[0m             \u001b[0mgroup_keys\u001b[0m\u001b[0;34m=\u001b[0m\u001b[0mgroup_keys\u001b[0m\u001b[0;34m,\u001b[0m\u001b[0;34m\u001b[0m\u001b[0;34m\u001b[0m\u001b[0m\n\u001b[1;32m   5809\u001b[0m             \u001b[0msqueeze\u001b[0m\u001b[0;34m=\u001b[0m\u001b[0msqueeze\u001b[0m\u001b[0;34m,\u001b[0m\u001b[0;34m\u001b[0m\u001b[0;34m\u001b[0m\u001b[0m\n\u001b[0;32m-> 5810\u001b[0;31m             \u001b[0mobserved\u001b[0m\u001b[0;34m=\u001b[0m\u001b[0mobserved\u001b[0m\u001b[0;34m,\u001b[0m\u001b[0;34m\u001b[0m\u001b[0;34m\u001b[0m\u001b[0m\n\u001b[0m\u001b[1;32m   5811\u001b[0m         )\n\u001b[1;32m   5812\u001b[0m \u001b[0;34m\u001b[0m\u001b[0m\n",
      "\u001b[0;32m/usr/local/lib/python3.6/dist-packages/pandas/core/groupby/groupby.py\u001b[0m in \u001b[0;36m__init__\u001b[0;34m(self, obj, keys, axis, level, grouper, exclusions, selection, as_index, sort, group_keys, squeeze, observed, mutated)\u001b[0m\n\u001b[1;32m    407\u001b[0m                 \u001b[0msort\u001b[0m\u001b[0;34m=\u001b[0m\u001b[0msort\u001b[0m\u001b[0;34m,\u001b[0m\u001b[0;34m\u001b[0m\u001b[0;34m\u001b[0m\u001b[0m\n\u001b[1;32m    408\u001b[0m                 \u001b[0mobserved\u001b[0m\u001b[0;34m=\u001b[0m\u001b[0mobserved\u001b[0m\u001b[0;34m,\u001b[0m\u001b[0;34m\u001b[0m\u001b[0;34m\u001b[0m\u001b[0m\n\u001b[0;32m--> 409\u001b[0;31m                 \u001b[0mmutated\u001b[0m\u001b[0;34m=\u001b[0m\u001b[0mself\u001b[0m\u001b[0;34m.\u001b[0m\u001b[0mmutated\u001b[0m\u001b[0;34m,\u001b[0m\u001b[0;34m\u001b[0m\u001b[0;34m\u001b[0m\u001b[0m\n\u001b[0m\u001b[1;32m    410\u001b[0m             )\n\u001b[1;32m    411\u001b[0m \u001b[0;34m\u001b[0m\u001b[0m\n",
      "\u001b[0;32m/usr/local/lib/python3.6/dist-packages/pandas/core/groupby/grouper.py\u001b[0m in \u001b[0;36mget_grouper\u001b[0;34m(obj, key, axis, level, sort, observed, mutated, validate)\u001b[0m\n\u001b[1;32m    623\u001b[0m                 \u001b[0min_axis\u001b[0m\u001b[0;34m=\u001b[0m\u001b[0min_axis\u001b[0m\u001b[0;34m,\u001b[0m\u001b[0;34m\u001b[0m\u001b[0;34m\u001b[0m\u001b[0m\n\u001b[1;32m    624\u001b[0m             )\n\u001b[0;32m--> 625\u001b[0;31m             \u001b[0;32mif\u001b[0m \u001b[0;32mnot\u001b[0m \u001b[0misinstance\u001b[0m\u001b[0;34m(\u001b[0m\u001b[0mgpr\u001b[0m\u001b[0;34m,\u001b[0m \u001b[0mGrouping\u001b[0m\u001b[0;34m)\u001b[0m\u001b[0;34m\u001b[0m\u001b[0;34m\u001b[0m\u001b[0m\n\u001b[0m\u001b[1;32m    626\u001b[0m             \u001b[0;32melse\u001b[0m \u001b[0mgpr\u001b[0m\u001b[0;34m\u001b[0m\u001b[0;34m\u001b[0m\u001b[0m\n\u001b[1;32m    627\u001b[0m         )\n",
      "\u001b[0;32m/usr/local/lib/python3.6/dist-packages/pandas/core/groupby/grouper.py\u001b[0m in \u001b[0;36m__init__\u001b[0;34m(self, index, grouper, obj, name, level, sort, observed, in_axis)\u001b[0m\n\u001b[1;32m    343\u001b[0m                 \u001b[0;32mif\u001b[0m \u001b[0mgetattr\u001b[0m\u001b[0;34m(\u001b[0m\u001b[0mself\u001b[0m\u001b[0;34m.\u001b[0m\u001b[0mgrouper\u001b[0m\u001b[0;34m,\u001b[0m \u001b[0;34m\"ndim\"\u001b[0m\u001b[0;34m,\u001b[0m \u001b[0;36m1\u001b[0m\u001b[0;34m)\u001b[0m \u001b[0;34m!=\u001b[0m \u001b[0;36m1\u001b[0m\u001b[0;34m:\u001b[0m\u001b[0;34m\u001b[0m\u001b[0;34m\u001b[0m\u001b[0m\n\u001b[1;32m    344\u001b[0m                     \u001b[0mt\u001b[0m \u001b[0;34m=\u001b[0m \u001b[0mself\u001b[0m\u001b[0;34m.\u001b[0m\u001b[0mname\u001b[0m \u001b[0;32mor\u001b[0m \u001b[0mstr\u001b[0m\u001b[0;34m(\u001b[0m\u001b[0mtype\u001b[0m\u001b[0;34m(\u001b[0m\u001b[0mself\u001b[0m\u001b[0;34m.\u001b[0m\u001b[0mgrouper\u001b[0m\u001b[0;34m)\u001b[0m\u001b[0;34m)\u001b[0m\u001b[0;34m\u001b[0m\u001b[0;34m\u001b[0m\u001b[0m\n\u001b[0;32m--> 345\u001b[0;31m                     \u001b[0;32mraise\u001b[0m \u001b[0mValueError\u001b[0m\u001b[0;34m(\u001b[0m\u001b[0;34mf\"Grouper for '{t}' not 1-dimensional\"\u001b[0m\u001b[0;34m)\u001b[0m\u001b[0;34m\u001b[0m\u001b[0;34m\u001b[0m\u001b[0m\n\u001b[0m\u001b[1;32m    346\u001b[0m                 \u001b[0mself\u001b[0m\u001b[0;34m.\u001b[0m\u001b[0mgrouper\u001b[0m \u001b[0;34m=\u001b[0m \u001b[0mself\u001b[0m\u001b[0;34m.\u001b[0m\u001b[0mindex\u001b[0m\u001b[0;34m.\u001b[0m\u001b[0mmap\u001b[0m\u001b[0;34m(\u001b[0m\u001b[0mself\u001b[0m\u001b[0;34m.\u001b[0m\u001b[0mgrouper\u001b[0m\u001b[0;34m)\u001b[0m\u001b[0;34m\u001b[0m\u001b[0;34m\u001b[0m\u001b[0m\n\u001b[1;32m    347\u001b[0m                 if not (\n",
      "\u001b[0;31mValueError\u001b[0m: Grouper for 'daily_music_hr' not 1-dimensional"
     ]
    }
   ],
   "source": [
    "for i in df_columns.columns:\n",
    "    print(i)\n",
    "    print(pd.pivot_table(df_columns, index = i, values = 'daily_music_hr').sort_values(\"daily_music_hr\", ascending = False))"
   ]
  },
  {
   "cell_type": "markdown",
   "metadata": {
    "colab_type": "text",
    "id": "bTC7LE5FeNZ9"
   },
   "source": [
    "Relationship between age and positive effects & life change"
   ]
  },
  {
   "cell_type": "code",
   "execution_count": 0,
   "metadata": {
    "colab": {
     "base_uri": "https://localhost:8080/",
     "height": 204
    },
    "colab_type": "code",
    "id": "p7TJ7TyHZSZF",
    "outputId": "5d4f2617-f54a-473a-a0bc-8665c383caae"
   },
   "outputs": [
    {
     "data": {
      "text/html": [
       "<div>\n",
       "<style scoped>\n",
       "    .dataframe tbody tr th:only-of-type {\n",
       "        vertical-align: middle;\n",
       "    }\n",
       "\n",
       "    .dataframe tbody tr th {\n",
       "        vertical-align: top;\n",
       "    }\n",
       "\n",
       "    .dataframe thead th {\n",
       "        text-align: right;\n",
       "    }\n",
       "</style>\n",
       "<table border=\"1\" class=\"dataframe\">\n",
       "  <thead>\n",
       "    <tr style=\"text-align: right;\">\n",
       "      <th>life_chg</th>\n",
       "      <th>made fun of</th>\n",
       "      <th>none</th>\n",
       "      <th>others (combination of the negatives, small criticism)</th>\n",
       "      <th>reduced amount of sleep</th>\n",
       "      <th>reduced time of socialized with friends/family</th>\n",
       "    </tr>\n",
       "    <tr>\n",
       "      <th>pos_eff</th>\n",
       "      <th></th>\n",
       "      <th></th>\n",
       "      <th></th>\n",
       "      <th></th>\n",
       "      <th></th>\n",
       "    </tr>\n",
       "  </thead>\n",
       "  <tbody>\n",
       "    <tr>\n",
       "      <th>both reduced stress and made friends</th>\n",
       "      <td>24.000000</td>\n",
       "      <td>16.000000</td>\n",
       "      <td>18.0</td>\n",
       "      <td>19.200000</td>\n",
       "      <td>NaN</td>\n",
       "    </tr>\n",
       "    <tr>\n",
       "      <th>made friends</th>\n",
       "      <td>17.454545</td>\n",
       "      <td>19.090909</td>\n",
       "      <td>18.0</td>\n",
       "      <td>17.666667</td>\n",
       "      <td>19.090909</td>\n",
       "    </tr>\n",
       "    <tr>\n",
       "      <th>others (don't know, no effect, learning new things)</th>\n",
       "      <td>18.857143</td>\n",
       "      <td>20.000000</td>\n",
       "      <td>12.0</td>\n",
       "      <td>19.500000</td>\n",
       "      <td>21.000000</td>\n",
       "    </tr>\n",
       "    <tr>\n",
       "      <th>reduced stress/anxiety/depression</th>\n",
       "      <td>18.326923</td>\n",
       "      <td>18.277778</td>\n",
       "      <td>18.0</td>\n",
       "      <td>18.244444</td>\n",
       "      <td>17.538462</td>\n",
       "    </tr>\n",
       "  </tbody>\n",
       "</table>\n",
       "</div>"
      ],
      "text/plain": [
       "life_chg                                            made fun of  ...  reduced time of socialized with friends/family\n",
       "pos_eff                                                          ...                                                \n",
       "both reduced stress and made friends                  24.000000  ...                                             NaN\n",
       "made friends                                          17.454545  ...                                       19.090909\n",
       "others (don't know, no effect, learning new thi...    18.857143  ...                                       21.000000\n",
       "reduced stress/anxiety/depression                     18.326923  ...                                       17.538462\n",
       "\n",
       "[4 rows x 5 columns]"
      ]
     },
     "execution_count": 46,
     "metadata": {
      "tags": []
     },
     "output_type": "execute_result"
    }
   ],
   "source": [
    "pd.pivot_table(df_columns, index = \"pos_eff\", columns = \"life_chg\", values = \"age\")"
   ]
  },
  {
   "cell_type": "code",
   "execution_count": 0,
   "metadata": {
    "colab": {
     "base_uri": "https://localhost:8080/",
     "height": 173
    },
    "colab_type": "code",
    "id": "vXmO1rSagwQJ",
    "outputId": "5115a79c-32aa-4367-ba2b-cb926b7a4453"
   },
   "outputs": [
    {
     "data": {
      "text/html": [
       "<div>\n",
       "<style scoped>\n",
       "    .dataframe tbody tr th:only-of-type {\n",
       "        vertical-align: middle;\n",
       "    }\n",
       "\n",
       "    .dataframe tbody tr th {\n",
       "        vertical-align: top;\n",
       "    }\n",
       "\n",
       "    .dataframe thead th {\n",
       "        text-align: right;\n",
       "    }\n",
       "</style>\n",
       "<table border=\"1\" class=\"dataframe\">\n",
       "  <thead>\n",
       "    <tr style=\"text-align: right;\">\n",
       "      <th>bts_vs_others</th>\n",
       "      <th>bts</th>\n",
       "      <th>other(s)</th>\n",
       "    </tr>\n",
       "    <tr>\n",
       "      <th>concert_yn</th>\n",
       "      <th></th>\n",
       "      <th></th>\n",
       "    </tr>\n",
       "  </thead>\n",
       "  <tbody>\n",
       "    <tr>\n",
       "      <th>i want to, but the k-pop groups don't come to my city</th>\n",
       "      <td>72.848837</td>\n",
       "      <td>52.500000</td>\n",
       "    </tr>\n",
       "    <tr>\n",
       "      <th>no</th>\n",
       "      <td>47.115385</td>\n",
       "      <td>68.181818</td>\n",
       "    </tr>\n",
       "    <tr>\n",
       "      <th>yes</th>\n",
       "      <td>109.803922</td>\n",
       "      <td>179.807692</td>\n",
       "    </tr>\n",
       "  </tbody>\n",
       "</table>\n",
       "</div>"
      ],
      "text/plain": [
       "bts_vs_others                                              bts    other(s)\n",
       "concert_yn                                                                \n",
       "i want to, but the k-pop groups don't come to m...   72.848837   52.500000\n",
       "no                                                   47.115385   68.181818\n",
       "yes                                                 109.803922  179.807692"
      ]
     },
     "execution_count": 47,
     "metadata": {
      "tags": []
     },
     "output_type": "execute_result"
    }
   ],
   "source": [
    "pd.pivot_table(df_columns, index = \"concert_yn\", columns = \"bts_vs_others\", values = \"yr_merch_spent\")"
   ]
  },
  {
   "cell_type": "code",
   "execution_count": 0,
   "metadata": {
    "colab": {
     "base_uri": "https://localhost:8080/",
     "height": 283
    },
    "colab_type": "code",
    "id": "odAocAfRjgVj",
    "outputId": "c67e2b99-08f6-4129-d516-20600636293b"
   },
   "outputs": [
    {
     "data": {
      "text/html": [
       "<div>\n",
       "<style scoped>\n",
       "    .dataframe tbody tr th:only-of-type {\n",
       "        vertical-align: middle;\n",
       "    }\n",
       "\n",
       "    .dataframe tbody tr th {\n",
       "        vertical-align: top;\n",
       "    }\n",
       "\n",
       "    .dataframe thead th {\n",
       "        text-align: right;\n",
       "    }\n",
       "</style>\n",
       "<table border=\"1\" class=\"dataframe\">\n",
       "  <thead>\n",
       "    <tr style=\"text-align: right;\">\n",
       "      <th></th>\n",
       "      <th>country</th>\n",
       "      <th>australia</th>\n",
       "      <th>canada</th>\n",
       "      <th>france</th>\n",
       "      <th>germany</th>\n",
       "      <th>latin america</th>\n",
       "      <th>other asian countries</th>\n",
       "      <th>other european countries</th>\n",
       "      <th>others (south africa, new zealand, sweden, finland, turkey, caribbean)</th>\n",
       "      <th>uk</th>\n",
       "      <th>usa</th>\n",
       "    </tr>\n",
       "    <tr>\n",
       "      <th>concert_yn</th>\n",
       "      <th>bts_vs_others</th>\n",
       "      <th></th>\n",
       "      <th></th>\n",
       "      <th></th>\n",
       "      <th></th>\n",
       "      <th></th>\n",
       "      <th></th>\n",
       "      <th></th>\n",
       "      <th></th>\n",
       "      <th></th>\n",
       "      <th></th>\n",
       "    </tr>\n",
       "  </thead>\n",
       "  <tbody>\n",
       "    <tr>\n",
       "      <th rowspan=\"2\" valign=\"top\">i want to, but the k-pop groups don't come to my city</th>\n",
       "      <th>bts</th>\n",
       "      <td>58.333333</td>\n",
       "      <td>116.666667</td>\n",
       "      <td>50.0</td>\n",
       "      <td>76.666667</td>\n",
       "      <td>127.0</td>\n",
       "      <td>0.0</td>\n",
       "      <td>40.625000</td>\n",
       "      <td>31.25</td>\n",
       "      <td>41.666667</td>\n",
       "      <td>79.347826</td>\n",
       "    </tr>\n",
       "    <tr>\n",
       "      <th>other(s)</th>\n",
       "      <td>41.666667</td>\n",
       "      <td>150.000000</td>\n",
       "      <td>NaN</td>\n",
       "      <td>66.666667</td>\n",
       "      <td>25.0</td>\n",
       "      <td>NaN</td>\n",
       "      <td>70.000000</td>\n",
       "      <td>0.00</td>\n",
       "      <td>81.250000</td>\n",
       "      <td>45.000000</td>\n",
       "    </tr>\n",
       "    <tr>\n",
       "      <th rowspan=\"2\" valign=\"top\">no</th>\n",
       "      <th>bts</th>\n",
       "      <td>500.000000</td>\n",
       "      <td>NaN</td>\n",
       "      <td>25.0</td>\n",
       "      <td>NaN</td>\n",
       "      <td>NaN</td>\n",
       "      <td>50.0</td>\n",
       "      <td>0.000000</td>\n",
       "      <td>NaN</td>\n",
       "      <td>33.333333</td>\n",
       "      <td>27.941176</td>\n",
       "    </tr>\n",
       "    <tr>\n",
       "      <th>other(s)</th>\n",
       "      <td>NaN</td>\n",
       "      <td>NaN</td>\n",
       "      <td>NaN</td>\n",
       "      <td>NaN</td>\n",
       "      <td>NaN</td>\n",
       "      <td>50.0</td>\n",
       "      <td>NaN</td>\n",
       "      <td>NaN</td>\n",
       "      <td>0.000000</td>\n",
       "      <td>77.777778</td>\n",
       "    </tr>\n",
       "    <tr>\n",
       "      <th rowspan=\"2\" valign=\"top\">yes</th>\n",
       "      <th>bts</th>\n",
       "      <td>NaN</td>\n",
       "      <td>200.000000</td>\n",
       "      <td>62.5</td>\n",
       "      <td>NaN</td>\n",
       "      <td>NaN</td>\n",
       "      <td>75.0</td>\n",
       "      <td>58.333333</td>\n",
       "      <td>50.00</td>\n",
       "      <td>70.000000</td>\n",
       "      <td>107.031250</td>\n",
       "    </tr>\n",
       "    <tr>\n",
       "      <th>other(s)</th>\n",
       "      <td>NaN</td>\n",
       "      <td>383.333333</td>\n",
       "      <td>NaN</td>\n",
       "      <td>NaN</td>\n",
       "      <td>150.0</td>\n",
       "      <td>NaN</td>\n",
       "      <td>75.000000</td>\n",
       "      <td>500.00</td>\n",
       "      <td>187.500000</td>\n",
       "      <td>128.125000</td>\n",
       "    </tr>\n",
       "  </tbody>\n",
       "</table>\n",
       "</div>"
      ],
      "text/plain": [
       "country                                                            australia  ...         usa\n",
       "concert_yn                                         bts_vs_others              ...            \n",
       "i want to, but the k-pop groups don't come to m... bts             58.333333  ...   79.347826\n",
       "                                                   other(s)        41.666667  ...   45.000000\n",
       "no                                                 bts            500.000000  ...   27.941176\n",
       "                                                   other(s)              NaN  ...   77.777778\n",
       "yes                                                bts                   NaN  ...  107.031250\n",
       "                                                   other(s)              NaN  ...  128.125000\n",
       "\n",
       "[6 rows x 10 columns]"
      ]
     },
     "execution_count": 49,
     "metadata": {
      "tags": []
     },
     "output_type": "execute_result"
    }
   ],
   "source": [
    "pd.pivot_table(df_columns, index = [\"concert_yn\", \"bts_vs_others\"], columns = \"country\", values = \"yr_merch_spent\")"
   ]
  },
  {
   "cell_type": "code",
   "execution_count": 0,
   "metadata": {
    "colab": {},
    "colab_type": "code",
    "id": "TBUh_k-djySs"
   },
   "outputs": [],
   "source": []
  }
 ],
 "metadata": {
  "colab": {
   "collapsed_sections": [],
   "name": "K-pop_Exploratory_Data_Analysis.ipynb",
   "provenance": []
  },
  "kernelspec": {
   "display_name": "Python 3",
   "language": "python",
   "name": "python3"
  },
  "language_info": {
   "codemirror_mode": {
    "name": "ipython",
    "version": 3
   },
   "file_extension": ".py",
   "mimetype": "text/x-python",
   "name": "python",
   "nbconvert_exporter": "python",
   "pygments_lexer": "ipython3",
   "version": "3.7.9"
  }
 },
 "nbformat": 4,
 "nbformat_minor": 1
}
