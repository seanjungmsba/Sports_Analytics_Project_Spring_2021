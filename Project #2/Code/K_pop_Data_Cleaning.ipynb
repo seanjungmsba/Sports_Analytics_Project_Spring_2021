{
 "cells": [
  {
   "cell_type": "markdown",
   "metadata": {
    "colab_type": "text",
    "id": "-ORlSJfQfBNm"
   },
   "source": [
    "#**Analyzing K-Pop Using Machine Learning**\n",
    "#Part 1: Data Collection & Cleaning\n",
    "\n",
    "- Author: Jaemin Lee (aka. Import Data)\n",
    "\n",
    "- [Import Data YouTube Channel](https://www.youtube.com/channel/UCYDacpfRrCX6_8oDDlzTgFw)\n",
    "\n",
    "- [Dataset Link](https://doi.org/10.6084/m9.figshare.12093648.v2)\n",
    "- [Medium Blog](https://towardsdatascience.com/analyzing-k-pop-using-machine-learning-part-1-data-collection-cleaning-4b407baf7bce?source=friends_link&sk=5ea63fc8ed4f2ed6e55d1530b0ee9b61)"
   ]
  },
  {
   "cell_type": "markdown",
   "metadata": {
    "colab_type": "text",
    "id": "qgsRQ2Mu0CYy"
   },
   "source": [
    "# Import Basic Libraries"
   ]
  },
  {
   "cell_type": "code",
   "execution_count": 0,
   "metadata": {
    "colab": {},
    "colab_type": "code",
    "id": "LdLHkzVizPKR"
   },
   "outputs": [],
   "source": [
    "import pandas as pd\n",
    "import numpy as np"
   ]
  },
  {
   "cell_type": "markdown",
   "metadata": {
    "colab_type": "text",
    "id": "N8uWLJRO0238"
   },
   "source": [
    "# Import Data"
   ]
  },
  {
   "cell_type": "code",
   "execution_count": 0,
   "metadata": {
    "colab": {},
    "colab_type": "code",
    "id": "ff4a-a6N02dS"
   },
   "outputs": [],
   "source": [
    "df = pd.read_excel(\"/content/KPOP DATA.xlsx\")"
   ]
  },
  {
   "cell_type": "markdown",
   "metadata": {
    "colab_type": "text",
    "id": "feM9S1JP1rNV"
   },
   "source": [
    "# Data Cleaning\n",
    "\n"
   ]
  },
  {
   "cell_type": "code",
   "execution_count": 0,
   "metadata": {
    "colab": {},
    "colab_type": "code",
    "id": "vHbOpDoEenxt"
   },
   "outputs": [],
   "source": [
    "# function to remove the leading and trailing whtte space in the data frame\n",
    "def trim(dataset):\n",
    "  # using .strip() to remove the leading and the trailing white spaces in each cell\n",
    "  trim = lambda x: x.strip() if type(x) is str else x\n",
    "  return dataset.applymap(trim)\n",
    "\n",
    "df = trim(df)"
   ]
  },
  {
   "cell_type": "code",
   "execution_count": 0,
   "metadata": {
    "colab": {
     "base_uri": "https://localhost:8080/",
     "height": 989
    },
    "colab_type": "code",
    "id": "htN91rqY5y08",
    "outputId": "81e91761-4768-4c4c-d7b5-b4a726972815"
   },
   "outputs": [
    {
     "data": {
      "text/html": [
       "<div>\n",
       "<style scoped>\n",
       "    .dataframe tbody tr th:only-of-type {\n",
       "        vertical-align: middle;\n",
       "    }\n",
       "\n",
       "    .dataframe tbody tr th {\n",
       "        vertical-align: top;\n",
       "    }\n",
       "\n",
       "    .dataframe thead th {\n",
       "        text-align: right;\n",
       "    }\n",
       "</style>\n",
       "<table border=\"1\" class=\"dataframe\">\n",
       "  <thead>\n",
       "    <tr style=\"text-align: right;\">\n",
       "      <th></th>\n",
       "      <th>Timestamp</th>\n",
       "      <th>Which is your favourite K-Pop group?</th>\n",
       "      <th>Is K-Pop popular in your country?</th>\n",
       "      <th>Why do you like K-Pop?</th>\n",
       "      <th>When did you start listening to K-Pop?</th>\n",
       "      <th>Do you listen to K-Pop male groups more than girl group songs?</th>\n",
       "      <th>How many hours do you spend listening to K-Pop?</th>\n",
       "      <th>Do you watch K-Pop Youtube videos?</th>\n",
       "      <th>If you do watch K-Pop music videos, how long do you spend watching them?</th>\n",
       "      <th>Would you say that you are obsessed with K-Pop?</th>\n",
       "      <th>What do you do to keep up with K-Pop news?</th>\n",
       "      <th>Has K-Pop led you to pursue any of the following?</th>\n",
       "      <th>Has consuming K-Pop taken away most of your time?</th>\n",
       "      <th>Has consuming K-Pop affected your personal life in the following ways?</th>\n",
       "      <th>Have you experienced any positive effects after consuming K-Pop?</th>\n",
       "      <th>On an average, in one year, how much do you spend on K-Pop merchandise?</th>\n",
       "      <th>If you do spend money on K-Pop merchandise, where do you get money from?</th>\n",
       "      <th>Do you attend K-Pop concerts?</th>\n",
       "      <th>What is the craziest thing you have done in your pursuit and love for K-Pop?</th>\n",
       "      <th>How old are you?</th>\n",
       "      <th>Which country are you from?</th>\n",
       "      <th>What is your profession?</th>\n",
       "      <th>What is your gender?</th>\n",
       "    </tr>\n",
       "  </thead>\n",
       "  <tbody>\n",
       "    <tr>\n",
       "      <th>0</th>\n",
       "      <td>2019/02/23 4:04:31 AM GMT+5:30</td>\n",
       "      <td>BTS</td>\n",
       "      <td>Its gaining popularity</td>\n",
       "      <td>Its different from the usual music. I like som...</td>\n",
       "      <td>1 -2 years ago</td>\n",
       "      <td>Its about the music, not the gender</td>\n",
       "      <td>5 or more</td>\n",
       "      <td>Yes</td>\n",
       "      <td>2-3 hours</td>\n",
       "      <td>Not sure</td>\n",
       "      <td>Subscribe to K-Pop news sites;Subscribe to You...</td>\n",
       "      <td>Learning about Korean/Asian culture;Pursue dan...</td>\n",
       "      <td>No</td>\n",
       "      <td>Led to you being cajoled (made fun of) by clas...</td>\n",
       "      <td>Reduced stress/anxiety/depression</td>\n",
       "      <td>50 - 100 $</td>\n",
       "      <td>I have a full - time job</td>\n",
       "      <td>Yes</td>\n",
       "      <td>Missed days of work and school to attend concerts</td>\n",
       "      <td>15 - 20 years</td>\n",
       "      <td>A country in the UK</td>\n",
       "      <td>Sales</td>\n",
       "      <td>Female</td>\n",
       "    </tr>\n",
       "    <tr>\n",
       "      <th>1</th>\n",
       "      <td>2019/02/23 4:04:38 AM GMT+5:30</td>\n",
       "      <td>BTS</td>\n",
       "      <td>Its gaining popularity</td>\n",
       "      <td>Its different from the usual music. I like som...</td>\n",
       "      <td>3-4 years ago</td>\n",
       "      <td>I listen to both</td>\n",
       "      <td>2-4 hours</td>\n",
       "      <td>Yes</td>\n",
       "      <td>2-3 hours</td>\n",
       "      <td>Yes</td>\n",
       "      <td>Subscribe to K-Pop news sites;Subscribe to You...</td>\n",
       "      <td>Learning music - either an instrument or singi...</td>\n",
       "      <td>Yes</td>\n",
       "      <td>Led to you being cajoled (made fun of) by clas...</td>\n",
       "      <td>Made friends who are like-minded</td>\n",
       "      <td>Below 50$</td>\n",
       "      <td>Working part-time</td>\n",
       "      <td>I want to, but the K-Pop groups don't come to ...</td>\n",
       "      <td>Listened to K-Pop without studying or working ...</td>\n",
       "      <td>15 - 20 years</td>\n",
       "      <td>A country in the UK</td>\n",
       "      <td>Student</td>\n",
       "      <td>Female</td>\n",
       "    </tr>\n",
       "    <tr>\n",
       "      <th>2</th>\n",
       "      <td>2019/02/23 4:04:56 AM GMT+5:30</td>\n",
       "      <td>BTS;MONSTA X</td>\n",
       "      <td>Its gaining popularity</td>\n",
       "      <td>Its different from the usual music. I like som...</td>\n",
       "      <td>More than 4 years ago</td>\n",
       "      <td>Its about the music, not the gender</td>\n",
       "      <td>2-4 hours</td>\n",
       "      <td>Yes</td>\n",
       "      <td>2-3 hours</td>\n",
       "      <td>No</td>\n",
       "      <td>Subscribe to K-Pop news sites;Join K-pop socia...</td>\n",
       "      <td>Learning about Korean/Asian culture;Learn abou...</td>\n",
       "      <td>No</td>\n",
       "      <td>Led to you being cajoled (made fun of) by clas...</td>\n",
       "      <td>Made friends who are like-minded</td>\n",
       "      <td>50 - 100 $</td>\n",
       "      <td>Working part-time</td>\n",
       "      <td>Yes</td>\n",
       "      <td>Nothing as such</td>\n",
       "      <td>15 - 20 years</td>\n",
       "      <td>Other European countries</td>\n",
       "      <td>Student</td>\n",
       "      <td>Female</td>\n",
       "    </tr>\n",
       "    <tr>\n",
       "      <th>3</th>\n",
       "      <td>2019/02/23 4:04:58 AM GMT+5:30</td>\n",
       "      <td>BTS</td>\n",
       "      <td>Its gaining popularity</td>\n",
       "      <td>Its different from the usual music. I like som...</td>\n",
       "      <td>3-4 years ago</td>\n",
       "      <td>I listen to both</td>\n",
       "      <td>5 or more</td>\n",
       "      <td>Yes</td>\n",
       "      <td>3-4 hours</td>\n",
       "      <td>No</td>\n",
       "      <td>Subscribe to K-Pop news sites;Subscribe to You...</td>\n",
       "      <td>Learning about Korean/Asian culture;Visit Korea</td>\n",
       "      <td>No</td>\n",
       "      <td>Led to you being cajoled (made fun of) by clas...</td>\n",
       "      <td>Reduced stress/anxiety/depression</td>\n",
       "      <td>50 - 100 $</td>\n",
       "      <td>Working part-time</td>\n",
       "      <td>Yes</td>\n",
       "      <td>Nothing as such</td>\n",
       "      <td>21 - 26 years</td>\n",
       "      <td>USA</td>\n",
       "      <td>Student</td>\n",
       "      <td>Female</td>\n",
       "    </tr>\n",
       "    <tr>\n",
       "      <th>4</th>\n",
       "      <td>2019/02/23 4:05:12 AM GMT+5:30</td>\n",
       "      <td>BTS</td>\n",
       "      <td>Yes</td>\n",
       "      <td>Its different from the usual music. I like som...</td>\n",
       "      <td>3-4 years ago</td>\n",
       "      <td>Yes</td>\n",
       "      <td>5 or more</td>\n",
       "      <td>Yes</td>\n",
       "      <td>2-3 hours</td>\n",
       "      <td>Not sure</td>\n",
       "      <td>Subscribe to Youtube channels</td>\n",
       "      <td>Learning about Korean/Asian culture</td>\n",
       "      <td>Yes</td>\n",
       "      <td>Led to you being cajoled (made fun of) by clas...</td>\n",
       "      <td>Reduced stress/anxiety/depression</td>\n",
       "      <td>100 - 200$</td>\n",
       "      <td>Parents</td>\n",
       "      <td>I want to, but the K-Pop groups don't come to ...</td>\n",
       "      <td>Nothing as such</td>\n",
       "      <td>15 - 20 years</td>\n",
       "      <td>USA</td>\n",
       "      <td>Student</td>\n",
       "      <td>Female</td>\n",
       "    </tr>\n",
       "  </tbody>\n",
       "</table>\n",
       "</div>"
      ],
      "text/plain": [
       "                        Timestamp  ... What is your gender?\n",
       "0  2019/02/23 4:04:31 AM GMT+5:30  ...               Female\n",
       "1  2019/02/23 4:04:38 AM GMT+5:30  ...               Female\n",
       "2  2019/02/23 4:04:56 AM GMT+5:30  ...               Female\n",
       "3  2019/02/23 4:04:58 AM GMT+5:30  ...               Female\n",
       "4  2019/02/23 4:05:12 AM GMT+5:30  ...               Female\n",
       "\n",
       "[5 rows x 23 columns]"
      ]
     },
     "execution_count": 4,
     "metadata": {
      "tags": []
     },
     "output_type": "execute_result"
    }
   ],
   "source": [
    "df.head()"
   ]
  },
  {
   "cell_type": "code",
   "execution_count": 0,
   "metadata": {
    "colab": {},
    "colab_type": "code",
    "id": "Z68BYxAh10ZH"
   },
   "outputs": [],
   "source": [
    "# remove timestamp col using index\n",
    "df.drop(df.columns[[0]], axis = 1, inplace = True)"
   ]
  },
  {
   "cell_type": "code",
   "execution_count": 0,
   "metadata": {
    "colab": {
     "base_uri": "https://localhost:8080/",
     "height": 989
    },
    "colab_type": "code",
    "id": "q4jEe2uPBj5Z",
    "outputId": "98cfac1c-bc76-4df4-9f06-a40440309536"
   },
   "outputs": [
    {
     "data": {
      "text/html": [
       "<div>\n",
       "<style scoped>\n",
       "    .dataframe tbody tr th:only-of-type {\n",
       "        vertical-align: middle;\n",
       "    }\n",
       "\n",
       "    .dataframe tbody tr th {\n",
       "        vertical-align: top;\n",
       "    }\n",
       "\n",
       "    .dataframe thead th {\n",
       "        text-align: right;\n",
       "    }\n",
       "</style>\n",
       "<table border=\"1\" class=\"dataframe\">\n",
       "  <thead>\n",
       "    <tr style=\"text-align: right;\">\n",
       "      <th></th>\n",
       "      <th>Which is your favourite K-Pop group?</th>\n",
       "      <th>Is K-Pop popular in your country?</th>\n",
       "      <th>Why do you like K-Pop?</th>\n",
       "      <th>When did you start listening to K-Pop?</th>\n",
       "      <th>Do you listen to K-Pop male groups more than girl group songs?</th>\n",
       "      <th>How many hours do you spend listening to K-Pop?</th>\n",
       "      <th>Do you watch K-Pop Youtube videos?</th>\n",
       "      <th>If you do watch K-Pop music videos, how long do you spend watching them?</th>\n",
       "      <th>Would you say that you are obsessed with K-Pop?</th>\n",
       "      <th>What do you do to keep up with K-Pop news?</th>\n",
       "      <th>Has K-Pop led you to pursue any of the following?</th>\n",
       "      <th>Has consuming K-Pop taken away most of your time?</th>\n",
       "      <th>Has consuming K-Pop affected your personal life in the following ways?</th>\n",
       "      <th>Have you experienced any positive effects after consuming K-Pop?</th>\n",
       "      <th>On an average, in one year, how much do you spend on K-Pop merchandise?</th>\n",
       "      <th>If you do spend money on K-Pop merchandise, where do you get money from?</th>\n",
       "      <th>Do you attend K-Pop concerts?</th>\n",
       "      <th>What is the craziest thing you have done in your pursuit and love for K-Pop?</th>\n",
       "      <th>How old are you?</th>\n",
       "      <th>Which country are you from?</th>\n",
       "      <th>What is your profession?</th>\n",
       "      <th>What is your gender?</th>\n",
       "    </tr>\n",
       "  </thead>\n",
       "  <tbody>\n",
       "    <tr>\n",
       "      <th>0</th>\n",
       "      <td>BTS</td>\n",
       "      <td>Its gaining popularity</td>\n",
       "      <td>Its different from the usual music. I like som...</td>\n",
       "      <td>1 -2 years ago</td>\n",
       "      <td>Its about the music, not the gender</td>\n",
       "      <td>5 or more</td>\n",
       "      <td>Yes</td>\n",
       "      <td>2-3 hours</td>\n",
       "      <td>Not sure</td>\n",
       "      <td>Subscribe to K-Pop news sites;Subscribe to You...</td>\n",
       "      <td>Learning about Korean/Asian culture;Pursue dan...</td>\n",
       "      <td>No</td>\n",
       "      <td>Led to you being cajoled (made fun of) by clas...</td>\n",
       "      <td>Reduced stress/anxiety/depression</td>\n",
       "      <td>50 - 100 $</td>\n",
       "      <td>I have a full - time job</td>\n",
       "      <td>Yes</td>\n",
       "      <td>Missed days of work and school to attend concerts</td>\n",
       "      <td>15 - 20 years</td>\n",
       "      <td>A country in the UK</td>\n",
       "      <td>Sales</td>\n",
       "      <td>Female</td>\n",
       "    </tr>\n",
       "    <tr>\n",
       "      <th>1</th>\n",
       "      <td>BTS</td>\n",
       "      <td>Its gaining popularity</td>\n",
       "      <td>Its different from the usual music. I like som...</td>\n",
       "      <td>3-4 years ago</td>\n",
       "      <td>I listen to both</td>\n",
       "      <td>2-4 hours</td>\n",
       "      <td>Yes</td>\n",
       "      <td>2-3 hours</td>\n",
       "      <td>Yes</td>\n",
       "      <td>Subscribe to K-Pop news sites;Subscribe to You...</td>\n",
       "      <td>Learning music - either an instrument or singi...</td>\n",
       "      <td>Yes</td>\n",
       "      <td>Led to you being cajoled (made fun of) by clas...</td>\n",
       "      <td>Made friends who are like-minded</td>\n",
       "      <td>Below 50$</td>\n",
       "      <td>Working part-time</td>\n",
       "      <td>I want to, but the K-Pop groups don't come to ...</td>\n",
       "      <td>Listened to K-Pop without studying or working ...</td>\n",
       "      <td>15 - 20 years</td>\n",
       "      <td>A country in the UK</td>\n",
       "      <td>Student</td>\n",
       "      <td>Female</td>\n",
       "    </tr>\n",
       "    <tr>\n",
       "      <th>2</th>\n",
       "      <td>BTS;MONSTA X</td>\n",
       "      <td>Its gaining popularity</td>\n",
       "      <td>Its different from the usual music. I like som...</td>\n",
       "      <td>More than 4 years ago</td>\n",
       "      <td>Its about the music, not the gender</td>\n",
       "      <td>2-4 hours</td>\n",
       "      <td>Yes</td>\n",
       "      <td>2-3 hours</td>\n",
       "      <td>No</td>\n",
       "      <td>Subscribe to K-Pop news sites;Join K-pop socia...</td>\n",
       "      <td>Learning about Korean/Asian culture;Learn abou...</td>\n",
       "      <td>No</td>\n",
       "      <td>Led to you being cajoled (made fun of) by clas...</td>\n",
       "      <td>Made friends who are like-minded</td>\n",
       "      <td>50 - 100 $</td>\n",
       "      <td>Working part-time</td>\n",
       "      <td>Yes</td>\n",
       "      <td>Nothing as such</td>\n",
       "      <td>15 - 20 years</td>\n",
       "      <td>Other European countries</td>\n",
       "      <td>Student</td>\n",
       "      <td>Female</td>\n",
       "    </tr>\n",
       "    <tr>\n",
       "      <th>3</th>\n",
       "      <td>BTS</td>\n",
       "      <td>Its gaining popularity</td>\n",
       "      <td>Its different from the usual music. I like som...</td>\n",
       "      <td>3-4 years ago</td>\n",
       "      <td>I listen to both</td>\n",
       "      <td>5 or more</td>\n",
       "      <td>Yes</td>\n",
       "      <td>3-4 hours</td>\n",
       "      <td>No</td>\n",
       "      <td>Subscribe to K-Pop news sites;Subscribe to You...</td>\n",
       "      <td>Learning about Korean/Asian culture;Visit Korea</td>\n",
       "      <td>No</td>\n",
       "      <td>Led to you being cajoled (made fun of) by clas...</td>\n",
       "      <td>Reduced stress/anxiety/depression</td>\n",
       "      <td>50 - 100 $</td>\n",
       "      <td>Working part-time</td>\n",
       "      <td>Yes</td>\n",
       "      <td>Nothing as such</td>\n",
       "      <td>21 - 26 years</td>\n",
       "      <td>USA</td>\n",
       "      <td>Student</td>\n",
       "      <td>Female</td>\n",
       "    </tr>\n",
       "    <tr>\n",
       "      <th>4</th>\n",
       "      <td>BTS</td>\n",
       "      <td>Yes</td>\n",
       "      <td>Its different from the usual music. I like som...</td>\n",
       "      <td>3-4 years ago</td>\n",
       "      <td>Yes</td>\n",
       "      <td>5 or more</td>\n",
       "      <td>Yes</td>\n",
       "      <td>2-3 hours</td>\n",
       "      <td>Not sure</td>\n",
       "      <td>Subscribe to Youtube channels</td>\n",
       "      <td>Learning about Korean/Asian culture</td>\n",
       "      <td>Yes</td>\n",
       "      <td>Led to you being cajoled (made fun of) by clas...</td>\n",
       "      <td>Reduced stress/anxiety/depression</td>\n",
       "      <td>100 - 200$</td>\n",
       "      <td>Parents</td>\n",
       "      <td>I want to, but the K-Pop groups don't come to ...</td>\n",
       "      <td>Nothing as such</td>\n",
       "      <td>15 - 20 years</td>\n",
       "      <td>USA</td>\n",
       "      <td>Student</td>\n",
       "      <td>Female</td>\n",
       "    </tr>\n",
       "  </tbody>\n",
       "</table>\n",
       "</div>"
      ],
      "text/plain": [
       "  Which is your favourite K-Pop group?  ... What is your gender?\n",
       "0                                  BTS  ...               Female\n",
       "1                                  BTS  ...               Female\n",
       "2                         BTS;MONSTA X  ...               Female\n",
       "3                                  BTS  ...               Female\n",
       "4                                  BTS  ...               Female\n",
       "\n",
       "[5 rows x 22 columns]"
      ]
     },
     "execution_count": 6,
     "metadata": {
      "tags": []
     },
     "output_type": "execute_result"
    }
   ],
   "source": [
    "df.head()"
   ]
  },
  {
   "cell_type": "code",
   "execution_count": 0,
   "metadata": {
    "colab": {},
    "colab_type": "code",
    "id": "fi5UTBeF4NXv"
   },
   "outputs": [],
   "source": [
    "# rename column names as they are long\n",
    "df = df.rename(columns = {'Which is your favourite K-Pop group?': 'fav_grp',\n",
    "                          'Is K-Pop popular in your country? ': 'popl_by_co_yn',\n",
    "                          'Why do you like K-Pop?': 'reason',\n",
    "                          'When did you start listening to K-Pop?': 'yr_listened',\n",
    "                          'Do you listen to K-Pop male groups more than girl group songs?': 'gender_pref',\n",
    "                          'How many hours do you spend listening to K-Pop?': 'daily_music_hr',\n",
    "                          'Do you watch K-Pop Youtube videos?': 'watch_MV_yn',\n",
    "                          'If you do watch K-Pop music videos, how long do you spend watching them?': 'daily_MV_hr',\n",
    "                          'Would you say that you are obsessed with K-Pop?': 'obsessed_yn',\n",
    "                          'What do you do to keep up with K-Pop news?': 'news_medium',\n",
    "                          'Has K-Pop led you to pursue any of the following?': 'pursuit',\n",
    "                          'Has consuming K-Pop taken away most of your time?': 'time_cons_yn',\n",
    "                          'Has consuming K-Pop affected your personal life in the following ways?': 'life_chg',\n",
    "                          'Have you experienced any positive effects after consuming K-Pop? ': 'pos_eff',\n",
    "                          'On an average, in one year, how much do you spend on K-Pop merchandise?': 'yr_merch_spent',\n",
    "                          'If you do spend money on K-Pop merchandise, where do you get money from?': 'money_src',\n",
    "                          'Do you attend K-Pop concerts?': 'concert_yn',\n",
    "                          'What is the craziest thing you have done in your pursuit and love for K-Pop?': 'crazy_ev',\n",
    "                          'How old are you?': 'age',\n",
    "                          'Which country are you from?': 'country',\n",
    "                          'What is your profession?': 'job',\n",
    "                          'What is your gender?': 'gender'\n",
    "                          })"
   ]
  },
  {
   "cell_type": "code",
   "execution_count": 0,
   "metadata": {
    "colab": {
     "base_uri": "https://localhost:8080/",
     "height": 408
    },
    "colab_type": "code",
    "id": "5u5VPmWzCbMr",
    "outputId": "18901dc5-d5aa-4c59-9d37-b6d339ccf494"
   },
   "outputs": [
    {
     "data": {
      "text/plain": [
       "fav_grp           0\n",
       "popl_by_co_yn     0\n",
       "reason            0\n",
       "yr_listened       0\n",
       "gender_pref       0\n",
       "daily_music_hr    0\n",
       "watch_MV_yn       0\n",
       "daily_MV_hr       5\n",
       "obsessed_yn       0\n",
       "news_medium       0\n",
       "pursuit           0\n",
       "time_cons_yn      0\n",
       "life_chg          1\n",
       "pos_eff           0\n",
       "yr_merch_spent    0\n",
       "money_src         1\n",
       "concert_yn        0\n",
       "crazy_ev          0\n",
       "age               0\n",
       "country           0\n",
       "job               0\n",
       "gender            0\n",
       "dtype: int64"
      ]
     },
     "execution_count": 8,
     "metadata": {
      "tags": []
     },
     "output_type": "execute_result"
    }
   ],
   "source": [
    "## check for null value\n",
    "df.isnull().sum()"
   ]
  },
  {
   "cell_type": "markdown",
   "metadata": {
    "colab_type": "text",
    "id": "Tzk9J_3SnXlC"
   },
   "source": [
    "Replace the null value in the \"life_chg\" column"
   ]
  },
  {
   "cell_type": "code",
   "execution_count": 0,
   "metadata": {
    "colab": {
     "base_uri": "https://localhost:8080/",
     "height": 408
    },
    "colab_type": "code",
    "id": "VEUrP9VVndGY",
    "outputId": "17191298-ad45-4c3a-ac65-ce43d91f4668"
   },
   "outputs": [
    {
     "data": {
      "text/plain": [
       "fav_grp           0\n",
       "popl_by_co_yn     0\n",
       "reason            0\n",
       "yr_listened       0\n",
       "gender_pref       0\n",
       "daily_music_hr    0\n",
       "watch_MV_yn       0\n",
       "daily_MV_hr       5\n",
       "obsessed_yn       0\n",
       "news_medium       0\n",
       "pursuit           0\n",
       "time_cons_yn      0\n",
       "life_chg          0\n",
       "pos_eff           0\n",
       "yr_merch_spent    0\n",
       "money_src         1\n",
       "concert_yn        0\n",
       "crazy_ev          0\n",
       "age               0\n",
       "country           0\n",
       "job               0\n",
       "gender            0\n",
       "dtype: int64"
      ]
     },
     "execution_count": 9,
     "metadata": {
      "tags": []
     },
     "output_type": "execute_result"
    }
   ],
   "source": [
    "# simply replace it with \"none\"\n",
    "df[\"life_chg\"].fillna(\"none\", inplace = True)\n",
    "df.isnull().sum()"
   ]
  },
  {
   "cell_type": "markdown",
   "metadata": {
    "colab_type": "text",
    "id": "lPQ3sgwCqH7I"
   },
   "source": [
    "Replace the null value in the \"money_src\" column"
   ]
  },
  {
   "cell_type": "code",
   "execution_count": 0,
   "metadata": {
    "colab": {
     "base_uri": "https://localhost:8080/",
     "height": 408
    },
    "colab_type": "code",
    "id": "9i-dWTS7qHHX",
    "outputId": "46e0020e-ec91-477e-8f86-3556fbd7a6f9"
   },
   "outputs": [
    {
     "data": {
      "text/plain": [
       "fav_grp           0\n",
       "popl_by_co_yn     0\n",
       "reason            0\n",
       "yr_listened       0\n",
       "gender_pref       0\n",
       "daily_music_hr    0\n",
       "watch_MV_yn       0\n",
       "daily_MV_hr       5\n",
       "obsessed_yn       0\n",
       "news_medium       0\n",
       "pursuit           0\n",
       "time_cons_yn      0\n",
       "life_chg          0\n",
       "pos_eff           0\n",
       "yr_merch_spent    0\n",
       "money_src         0\n",
       "concert_yn        0\n",
       "crazy_ev          0\n",
       "age               0\n",
       "country           0\n",
       "job               0\n",
       "gender            0\n",
       "dtype: int64"
      ]
     },
     "execution_count": 10,
     "metadata": {
      "tags": []
     },
     "output_type": "execute_result"
    }
   ],
   "source": [
    "# simply replace it with \"none\"\n",
    "df[\"money_src\"].fillna(\"none\", inplace = True)\n",
    "df.isnull().sum()"
   ]
  },
  {
   "cell_type": "markdown",
   "metadata": {
    "colab_type": "text",
    "id": "xkHJAoG2PQTB"
   },
   "source": [
    "Cleaning the null values in the \"daily_MV_hr\" column\n"
   ]
  },
  {
   "cell_type": "code",
   "execution_count": 0,
   "metadata": {
    "colab": {
     "base_uri": "https://localhost:8080/",
     "height": 102
    },
    "colab_type": "code",
    "id": "RKE8SgLxJFx8",
    "outputId": "592ddc43-fbe8-4b24-bb0a-17f8e4e7c5db"
   },
   "outputs": [
    {
     "data": {
      "text/plain": [
       "1 hour                  118\n",
       "2-3 hours                84\n",
       "3-4 hours                20\n",
       "More than four hours     13\n",
       "Name: daily_MV_hr, dtype: int64"
      ]
     },
     "execution_count": 11,
     "metadata": {
      "tags": []
     },
     "output_type": "execute_result"
    }
   ],
   "source": [
    "# get the hang of what the values look like\n",
    "df[\"daily_MV_hr\"].value_counts()"
   ]
  },
  {
   "cell_type": "code",
   "execution_count": 0,
   "metadata": {
    "colab": {
     "base_uri": "https://localhost:8080/",
     "height": 408
    },
    "colab_type": "code",
    "id": "1MuIWmGoWFot",
    "outputId": "c86cf2dc-0328-4300-e725-49828c435c09"
   },
   "outputs": [
    {
     "data": {
      "text/plain": [
       "fav_grp           0\n",
       "popl_by_co_yn     0\n",
       "reason            0\n",
       "yr_listened       0\n",
       "gender_pref       0\n",
       "daily_music_hr    0\n",
       "watch_MV_yn       0\n",
       "daily_MV_hr       0\n",
       "obsessed_yn       0\n",
       "news_medium       0\n",
       "pursuit           0\n",
       "time_cons_yn      0\n",
       "life_chg          0\n",
       "pos_eff           0\n",
       "yr_merch_spent    0\n",
       "money_src         0\n",
       "concert_yn        0\n",
       "crazy_ev          0\n",
       "age               0\n",
       "country           0\n",
       "job               0\n",
       "gender            0\n",
       "dtype: int64"
      ]
     },
     "execution_count": 12,
     "metadata": {
      "tags": []
     },
     "output_type": "execute_result"
    }
   ],
   "source": [
    "# replace the null with the average\n",
    "df[\"daily_MV_hr\"].fillna(\"2.5\", inplace = True)\n",
    "df.isnull().sum()"
   ]
  },
  {
   "cell_type": "code",
   "execution_count": 0,
   "metadata": {
    "colab": {
     "base_uri": "https://localhost:8080/",
     "height": 119
    },
    "colab_type": "code",
    "id": "SNOCePLA7UHM",
    "outputId": "eb63849b-7865-4120-ff73-014c852d815d"
   },
   "outputs": [
    {
     "data": {
      "text/plain": [
       "1 hour       118\n",
       "2-3 hours     84\n",
       "3-4 hours     20\n",
       "4.5           13\n",
       "2.5            5\n",
       "Name: daily_MV_hr, dtype: int64"
      ]
     },
     "execution_count": 13,
     "metadata": {
      "tags": []
     },
     "output_type": "execute_result"
    }
   ],
   "source": [
    "# convert \"More than four hours\" to 4.5\n",
    "daily_mv = df[\"daily_MV_hr\"]\n",
    "daily_mv = daily_mv.str.replace('More than four hours', '4.5')\n",
    "daily_mv.value_counts()"
   ]
  },
  {
   "cell_type": "code",
   "execution_count": 0,
   "metadata": {
    "colab": {
     "base_uri": "https://localhost:8080/",
     "height": 119
    },
    "colab_type": "code",
    "id": "wQQ_5eT57_GM",
    "outputId": "3bc58f0f-c459-4b33-8944-168a41593dfb"
   },
   "outputs": [
    {
     "data": {
      "text/plain": [
       "1      118\n",
       "2-3     84\n",
       "3-4     20\n",
       "4.5     13\n",
       "2.5      5\n",
       "Name: daily_MV_hr, dtype: int64"
      ]
     },
     "execution_count": 14,
     "metadata": {
      "tags": []
     },
     "output_type": "execute_result"
    }
   ],
   "source": [
    "# parse the hours\n",
    "daily_mv = daily_mv.apply(lambda x: x.split(' ')[0]) # look for the whitespace, split it and get the first element\n",
    "daily_mv.value_counts()"
   ]
  },
  {
   "cell_type": "code",
   "execution_count": 0,
   "metadata": {
    "colab": {},
    "colab_type": "code",
    "id": "-5VRTe9K-WCQ"
   },
   "outputs": [],
   "source": [
    "# function to find the mean when some have ranges and others don't\n",
    "def split_mean(x):\n",
    "  # split before and after the hyphen (-)\n",
    "  split_num = x.split(\"-\")\n",
    "  if len(split_num) == 2:\n",
    "     return (float(split_num[0])+float(split_num[1]))/2\n",
    "  # those who aren't in the range\n",
    "  else:\n",
    "     return float(x)\n",
    "\n",
    "# apply the split_mean function to the \"daily MV hours\" column\n",
    "daily_mv = daily_mv.apply(lambda x: split_mean(x))"
   ]
  },
  {
   "cell_type": "code",
   "execution_count": 0,
   "metadata": {
    "colab": {
     "base_uri": "https://localhost:8080/",
     "height": 102
    },
    "colab_type": "code",
    "id": "2JzglGAeYP8V",
    "outputId": "24d38246-0956-4720-d1eb-8229d3c7f9af"
   },
   "outputs": [
    {
     "data": {
      "text/plain": [
       "1.0    118\n",
       "2.5     89\n",
       "3.5     20\n",
       "4.5     13\n",
       "Name: daily_MV_hr, dtype: int64"
      ]
     },
     "execution_count": 16,
     "metadata": {
      "tags": []
     },
     "output_type": "execute_result"
    }
   ],
   "source": [
    "# overwrite it to the original dataset\n",
    "df[\"daily_MV_hr\"] = daily_mv\n",
    "\n",
    "df[\"daily_MV_hr\"].value_counts()"
   ]
  },
  {
   "cell_type": "markdown",
   "metadata": {
    "colab_type": "text",
    "id": "U5U3SxBWWeXA"
   },
   "source": [
    "Cleaning the \"yr_listened\" column"
   ]
  },
  {
   "cell_type": "code",
   "execution_count": 0,
   "metadata": {
    "colab": {
     "base_uri": "https://localhost:8080/",
     "height": 258
    },
    "colab_type": "code",
    "id": "wMrkVMVoWdlM",
    "outputId": "afb2ef25-19f0-4a9f-ac37-599f40d836a4"
   },
   "outputs": [
    {
     "data": {
      "text/plain": [
       "3-4 years ago                                                                                                                                                                                               89\n",
       "More than 4 years ago                                                                                                                                                                                       69\n",
       "1 -2 years ago                                                                                                                                                                                              66\n",
       "Less than a year ago                                                                                                                                                                                         7\n",
       "7 years ago                                                                                                                                                                                                  2\n",
       "7 years                                                                                                                                                                                                      1\n",
       "Started in 2006                                                                                                                                                                                              1\n",
       "Iâ€™ve been listening to it all my life basically, my cousins are Asian, and Iâ€™m mexican, so people think Iâ€™m just a koreaboo, when in reality Iâ€™ve only ever listened to korean and Chinese music     1\n",
       "9 years coming April                                                                                                                                                                                         1\n",
       "8+ years ago                                                                                                                                                                                                 1\n",
       "9 years, since 2010                                                                                                                                                                                          1\n",
       "About 6 years ago, I got introduced to 2ne1 which was their song called â€œI am the bestâ€. So sad they disbanded                                                                                           1\n",
       "Name: yr_listened, dtype: int64"
      ]
     },
     "execution_count": 17,
     "metadata": {
      "tags": []
     },
     "output_type": "execute_result"
    }
   ],
   "source": [
    "df[\"yr_listened\"].value_counts()"
   ]
  },
  {
   "cell_type": "code",
   "execution_count": 0,
   "metadata": {
    "colab": {
     "base_uri": "https://localhost:8080/",
     "height": 221
    },
    "colab_type": "code",
    "id": "wb2LtfDSXZe1",
    "outputId": "77e33c56-fc87-4fdb-e566-395f77ac74cd"
   },
   "outputs": [
    {
     "data": {
      "text/plain": [
       "3.5                     89\n",
       "4                       69\n",
       "1.5                     66\n",
       "1                        7\n",
       "6                        2\n",
       "7 years ago              2\n",
       "9 years, since 2010      1\n",
       "7 years                  1\n",
       "14                       1\n",
       "9 years coming April     1\n",
       "8+ years ago             1\n",
       "Name: yr_listened, dtype: int64"
      ]
     },
     "execution_count": 18,
     "metadata": {
      "tags": []
     },
     "output_type": "execute_result"
    }
   ],
   "source": [
    "# replace certain strings\n",
    "df[\"yr_listened\"] = df[\"yr_listened\"].str.replace(\"3-4 years ago\", \"3.5\")\n",
    "df[\"yr_listened\"] = df[\"yr_listened\"].str.replace(\"1 -2 years ago\", \"1.5\")\n",
    "df[\"yr_listened\"] = df[\"yr_listened\"].str.replace(\"More than 4 years ago\", \"4\")\n",
    "df[\"yr_listened\"] = df[\"yr_listened\"].str.replace(\"Less than a year ago\", \"1\")\n",
    "df[\"yr_listened\"] = df[\"yr_listened\"].str.replace(\"Iâ€™ve been listening to it all my life basically, my cousins are Asian, and Iâ€™m mexican, so people think Iâ€™m just a koreaboo, when in reality Iâ€™ve only ever listened to korean and Chinese music\", \"6\")\n",
    "df[\"yr_listened\"] = df[\"yr_listened\"].str.replace(\"About 6 years ago, I got introduced to 2ne1 which was their song called â€œI am the bestâ€. So sad they disbanded\", \"6\")\n",
    "df[\"yr_listened\"] = df[\"yr_listened\"].str.replace(\"Started in 2006\", \"14\")\n",
    "\n",
    "df[\"yr_listened\"].value_counts()"
   ]
  },
  {
   "cell_type": "code",
   "execution_count": 0,
   "metadata": {
    "colab": {
     "base_uri": "https://localhost:8080/",
     "height": 187
    },
    "colab_type": "code",
    "id": "1piVxwQZn_RF",
    "outputId": "f3d83a09-4bb9-4674-8ac3-665e82424863"
   },
   "outputs": [
    {
     "data": {
      "text/plain": [
       "3.5    89\n",
       "4      69\n",
       "1.5    66\n",
       "1       7\n",
       "7       3\n",
       "9       2\n",
       "6       2\n",
       "8+      1\n",
       "14      1\n",
       "Name: yr_listened, dtype: int64"
      ]
     },
     "execution_count": 19,
     "metadata": {
      "tags": []
     },
     "output_type": "execute_result"
    }
   ],
   "source": [
    "# parse the years\n",
    "yrs_listen = df[\"yr_listened\"].apply(lambda x: x.split(' ')[0]) # look for the whitespace, split it and get the first element\n",
    "yrs_listen.value_counts()"
   ]
  },
  {
   "cell_type": "code",
   "execution_count": 0,
   "metadata": {
    "colab": {
     "base_uri": "https://localhost:8080/",
     "height": 187
    },
    "colab_type": "code",
    "id": "iozKJIPvobS2",
    "outputId": "a7a96ac7-3b87-4bf4-a259-f999340e2f83"
   },
   "outputs": [
    {
     "data": {
      "text/plain": [
       "3.5    89\n",
       "4      69\n",
       "1.5    66\n",
       "1       7\n",
       "7       3\n",
       "9       2\n",
       "6       2\n",
       "14      1\n",
       "8       1\n",
       "Name: yr_listened, dtype: int64"
      ]
     },
     "execution_count": 20,
     "metadata": {
      "tags": []
     },
     "output_type": "execute_result"
    }
   ],
   "source": [
    "# remove the + sign\n",
    "yrs_listen = yrs_listen.apply(lambda x: x.replace('+', \"\"))\n",
    "yrs_listen.value_counts()"
   ]
  },
  {
   "cell_type": "code",
   "execution_count": 0,
   "metadata": {
    "colab": {
     "base_uri": "https://localhost:8080/",
     "height": 187
    },
    "colab_type": "code",
    "id": "L5HLiJO1F_a-",
    "outputId": "e3a18575-6a27-4f12-e9b3-6c25bbd9c2e6"
   },
   "outputs": [
    {
     "data": {
      "text/plain": [
       "3.5    89\n",
       "4      69\n",
       "1.5    66\n",
       "1       7\n",
       "7       3\n",
       "9       2\n",
       "6       2\n",
       "14      1\n",
       "8       1\n",
       "Name: yr_listened, dtype: int64"
      ]
     },
     "execution_count": 21,
     "metadata": {
      "tags": []
     },
     "output_type": "execute_result"
    }
   ],
   "source": [
    "# overwrite it to the original column\n",
    "df[\"yr_listened\"] = yrs_listen\n",
    "df.yr_listened.value_counts()"
   ]
  },
  {
   "cell_type": "markdown",
   "metadata": {
    "colab_type": "text",
    "id": "CJcnuSuJpCrL"
   },
   "source": [
    "Cleaning the \"daily_music_hr\" column"
   ]
  },
  {
   "cell_type": "code",
   "execution_count": 0,
   "metadata": {
    "colab": {
     "base_uri": "https://localhost:8080/",
     "height": 479
    },
    "colab_type": "code",
    "id": "twKdXsyzo_PA",
    "outputId": "92cd3226-c329-417c-ca7a-3115f2fbcc98"
   },
   "outputs": [
    {
     "data": {
      "text/plain": [
       "2-4 hours                                                                                                                                                                                                                                                                                                                                                               106\n",
       "5 or more                                                                                                                                                                                                                                                                                                                                                                99\n",
       "Less than an hour                                                                                                                                                                                                                                                                                                                                                        11\n",
       "Everyday                                                                                                                                                                                                                                                                                                                                                                  2\n",
       "2020-07-24 00:00:00                                                                                                                                                                                                                                                                                                                                                       2\n",
       "Nearly every hour unless im sleeping                                                                                                                                                                                                                                                                                                                                      1\n",
       "Over half of my day (12+ hours)                                                                                                                                                                                                                                                                                                                                           1\n",
       "I mix in other songs in other languages too so very Day is different                                                                                                                                                                                                                                                                                                      1\n",
       "Almost all day                                                                                                                                                                                                                                                                                                                                                            1\n",
       "Any chance that i get. (I dont really count the hours)                                                                                                                                                                                                                                                                                                                    1\n",
       "Everyday, constantly                                                                                                                                                                                                                                                                                                                                                      1\n",
       "Idk depends on my mood. But I can liste during multiple hours definitely.                                                                                                                                                                                                                                                                                                 1\n",
       "Anytime I listen to music thatâ€™s all I listen to                                                                                                                                                                                                                                                                                                                        1\n",
       "Most of the time.                                                                                                                                                                                                                                                                                                                                                         1\n",
       "It's depend on day. Usually one or two hours, sometimes more, sometimes, when I overeat kpop I need to do break.                                                                                                                                                                                                                                                          1\n",
       "Every time but only when I get the chance cause Iâ€™m busy with school .                                                                                                                                                                                                                                                                                                  1\n",
       "The whole day almost                                                                                                                                                                                                                                                                                                                                                      1\n",
       "depends if iâ€™m in the mood for it                                                                                                                                                                                                                                                                                                                                       1\n",
       "All day                                                                                                                                                                                                                                                                                                                                                                   1\n",
       "All the time.                                                                                                                                                                                                                                                                                                                                                             1\n",
       "I don't rlly listen to music, music is like food to me. When I crave a song, I listen to it. So probably less than an hour? When Monsta X has comebacks I do stream (but it's just playing in the background sometimes my earphones are plugged in so I don't actually hear it)... I listen to it for almost the whole day I guess... gotta get those views and wins      1\n",
       "Eh                                                                                                                                                                                                                                                                                                                                                                        1\n",
       "Hours on end                                                                                                                                                                                                                                                                                                                                                              1\n",
       "Itâ€™s mainly the only music I listen to anymore, I listen to music all the time                                                                                                                                                                                                                                                                                          1\n",
       "Whenever Iâ€™m listening to music, basically                                                                                                                                                                                                                                                                                                                              1\n",
       "Name: daily_music_hr, dtype: int64"
      ]
     },
     "execution_count": 22,
     "metadata": {
      "tags": []
     },
     "output_type": "execute_result"
    }
   ],
   "source": [
    "df[\"daily_music_hr\"].value_counts()"
   ]
  },
  {
   "cell_type": "code",
   "execution_count": 0,
   "metadata": {
    "colab": {
     "base_uri": "https://localhost:8080/",
     "height": 462
    },
    "colab_type": "code",
    "id": "gGouVjdu2SNi",
    "outputId": "5c8d9a2e-57c7-41f9-ec92-57d7ce784dc9"
   },
   "outputs": [
    {
     "data": {
      "text/plain": [
       "2-4 hours                                                                                                                                                                                                                                                                                                                                                               106\n",
       "5 or more                                                                                                                                                                                                                                                                                                                                                               101\n",
       "Less than an hour                                                                                                                                                                                                                                                                                                                                                        11\n",
       "Everyday                                                                                                                                                                                                                                                                                                                                                                  2\n",
       "Nearly every hour unless im sleeping                                                                                                                                                                                                                                                                                                                                      1\n",
       "It's depend on day. Usually one or two hours, sometimes more, sometimes, when I overeat kpop I need to do break.                                                                                                                                                                                                                                                          1\n",
       "Over half of my day (12+ hours)                                                                                                                                                                                                                                                                                                                                           1\n",
       "I mix in other songs in other languages too so very Day is different                                                                                                                                                                                                                                                                                                      1\n",
       "Almost all day                                                                                                                                                                                                                                                                                                                                                            1\n",
       "Any chance that i get. (I dont really count the hours)                                                                                                                                                                                                                                                                                                                    1\n",
       "Everyday, constantly                                                                                                                                                                                                                                                                                                                                                      1\n",
       "Idk depends on my mood. But I can liste during multiple hours definitely.                                                                                                                                                                                                                                                                                                 1\n",
       "Anytime I listen to music thatâ€™s all I listen to                                                                                                                                                                                                                                                                                                                        1\n",
       "Most of the time.                                                                                                                                                                                                                                                                                                                                                         1\n",
       "Every time but only when I get the chance cause Iâ€™m busy with school .                                                                                                                                                                                                                                                                                                  1\n",
       "The whole day almost                                                                                                                                                                                                                                                                                                                                                      1\n",
       "depends if iâ€™m in the mood for it                                                                                                                                                                                                                                                                                                                                       1\n",
       "All day                                                                                                                                                                                                                                                                                                                                                                   1\n",
       "All the time.                                                                                                                                                                                                                                                                                                                                                             1\n",
       "I don't rlly listen to music, music is like food to me. When I crave a song, I listen to it. So probably less than an hour? When Monsta X has comebacks I do stream (but it's just playing in the background sometimes my earphones are plugged in so I don't actually hear it)... I listen to it for almost the whole day I guess... gotta get those views and wins      1\n",
       "Eh                                                                                                                                                                                                                                                                                                                                                                        1\n",
       "Hours on end                                                                                                                                                                                                                                                                                                                                                              1\n",
       "Itâ€™s mainly the only music I listen to anymore, I listen to music all the time                                                                                                                                                                                                                                                                                          1\n",
       "Whenever Iâ€™m listening to music, basically                                                                                                                                                                                                                                                                                                                              1\n",
       "Name: daily_music_hr, dtype: int64"
      ]
     },
     "execution_count": 23,
     "metadata": {
      "tags": []
     },
     "output_type": "execute_result"
    }
   ],
   "source": [
    "# replace the timestamp (2020-07-24 00:00:00) with 5 or more\n",
    "df.iloc[156, 5] = \"5 or more\"\n",
    "df.iloc[170, 5] = \"5 or more\"\n",
    "\n",
    "df[\"daily_music_hr\"].value_counts()"
   ]
  },
  {
   "cell_type": "code",
   "execution_count": 0,
   "metadata": {
    "colab": {
     "base_uri": "https://localhost:8080/",
     "height": 408
    },
    "colab_type": "code",
    "id": "OLPbkb29z6SS",
    "outputId": "db0a6904-5aa4-458c-a629-0d124124cd0e"
   },
   "outputs": [
    {
     "data": {
      "text/plain": [
       "2-4          106\n",
       "5            101\n",
       "Less          11\n",
       "All            2\n",
       "Everyday       2\n",
       "I              2\n",
       "Itâ€™s         1\n",
       "depends        1\n",
       "Anytime        1\n",
       "Idk            1\n",
       "Whenever       1\n",
       "Eh             1\n",
       "Over           1\n",
       "Every          1\n",
       "Most           1\n",
       "Almost         1\n",
       "Nearly         1\n",
       "Everyday,      1\n",
       "Hours          1\n",
       "Any            1\n",
       "The            1\n",
       "It's           1\n",
       "Name: daily_music_hr, dtype: int64"
      ]
     },
     "execution_count": 24,
     "metadata": {
      "tags": []
     },
     "output_type": "execute_result"
    }
   ],
   "source": [
    "# parse the hour\n",
    "df[\"daily_music_hr\"] = df[\"daily_music_hr\"].apply(lambda x: x.split(\" \")[0])\n",
    "df[\"daily_music_hr\"].value_counts()"
   ]
  },
  {
   "cell_type": "code",
   "execution_count": 0,
   "metadata": {
    "colab": {
     "base_uri": "https://localhost:8080/",
     "height": 34
    },
    "colab_type": "code",
    "id": "_76ZvVuLvurO",
    "outputId": "a6bea62a-5605-401a-bdea-e4b62bc97515"
   },
   "outputs": [
    {
     "data": {
      "text/plain": [
       "5"
      ]
     },
     "execution_count": 25,
     "metadata": {
      "tags": []
     },
     "output_type": "execute_result"
    }
   ],
   "source": [
    "# get the location of \"daily music hourst\" for the for loop\n",
    "df.columns.get_loc(\"daily_music_hr\")"
   ]
  },
  {
   "cell_type": "code",
   "execution_count": 0,
   "metadata": {
    "colab": {
     "base_uri": "https://localhost:8080/",
     "height": 102
    },
    "colab_type": "code",
    "id": "2v1OKD6CsCyb",
    "outputId": "9b145e15-d20d-4588-9359-08fc92ec6126"
   },
   "outputs": [
    {
     "data": {
      "text/plain": [
       "3      106\n",
       "5      101\n",
       "10      22\n",
       "0.5     11\n",
       "Name: daily_music_hr, dtype: int64"
      ]
     },
     "execution_count": 26,
     "metadata": {
      "tags": []
     },
     "output_type": "execute_result"
    }
   ],
   "source": [
    "# write a for loop to clean the data\n",
    "for row in range(0, len(df[\"daily_music_hr\"])):\n",
    "  if '2-4' in df.iloc[row, 5]:\n",
    "    # mean of 2+4\n",
    "    df.iloc[row, 5] = \"3\"\n",
    "  elif '5' in df.iloc[row, 5]:\n",
    "    df.iloc[row, 5] = \"5\"\n",
    "  elif 'Less' in df.iloc[row, 5]:\n",
    "    df.iloc[row, 5] = \"0.5\"\n",
    "  else:\n",
    "    df.iloc[row, 5] = \"10\"\n",
    "\n",
    "df[\"daily_music_hr\"].value_counts()"
   ]
  },
  {
   "cell_type": "markdown",
   "metadata": {
    "colab_type": "text",
    "id": "PkTo-82Me2ix"
   },
   "source": [
    "Clean the \"yr_merch_spent\" column"
   ]
  },
  {
   "cell_type": "code",
   "execution_count": 0,
   "metadata": {
    "colab": {
     "base_uri": "https://localhost:8080/",
     "height": 408
    },
    "colab_type": "code",
    "id": "WlcIlcaOe1nc",
    "outputId": "225dded4-113d-42a1-92e3-d6e76af5f13e"
   },
   "outputs": [
    {
     "data": {
      "text/plain": [
       "Below 50$                                                                                                                                         91\n",
       "50 - 100 $                                                                                                                                        57\n",
       "I don't spend anything on merchandise                                                                                                             49\n",
       "100 - 200$                                                                                                                                        25\n",
       "A lot I donâ€™t even want to know how much                                                                                                         1\n",
       "Because Iâ€™m younger I donâ€™t have the money to spend on official kpop mercy but I do buy smaller things to represent the groups.                1\n",
       "Iâ€™ve spent 200-300 dollars, but i chose not to spend much more unless its clothing or a physical concert. Plus i rlly only ult stan 2 groups     1\n",
       "Never until Monsta X existed and it's about $300 a year                                                                                            1\n",
       "I spend less than $50 cuz I'm broke, but if I had money, I would probably spend $200+                                                              1\n",
       "Iâ€™ve spent probably over $5,000 total on kpop merch (including tickets)                                                                          1\n",
       "What if you don't know, since everything you own that is K-Pop related were all gifts?                                                             1\n",
       "More than $200                                                                                                                                     1\n",
       "Kpop is an expensive hobby I go to concerts and buy albums so I would say Iâ€™ve spent more than 1k                                                1\n",
       "Depends month to month and what i want to buy                                                                                                      1\n",
       "$2,000                                                                                                                                             1\n",
       "10?                                                                                                                                                1\n",
       "I would like to but I don't have money                                                                                                             1\n",
       "I've bought some albums over the past few years but its just like a xmas / bday thing i do so twice a year i just purchase however many i can      1\n",
       "I've only ever bought merchandise from the two concerts I've been too and that's it.                                                               1\n",
       "Depends but usually not a lot.                                                                                                                     1\n",
       "I donâ€™t buy everything. I buy things if I feel I will use them                                                                                   1\n",
       "Below 30$                                                                                                                                          1\n",
       "Name: yr_merch_spent, dtype: int64"
      ]
     },
     "execution_count": 27,
     "metadata": {
      "tags": []
     },
     "output_type": "execute_result"
    }
   ],
   "source": [
    "df[\"yr_merch_spent\"].value_counts()"
   ]
  },
  {
   "cell_type": "code",
   "execution_count": 0,
   "metadata": {
    "colab": {
     "base_uri": "https://localhost:8080/",
     "height": 34
    },
    "colab_type": "code",
    "id": "4Ng34TorgIox",
    "outputId": "a642147e-c7bb-407e-f946-6ad296fc76c9"
   },
   "outputs": [
    {
     "data": {
      "text/plain": [
       "14"
      ]
     },
     "execution_count": 28,
     "metadata": {
      "tags": []
     },
     "output_type": "execute_result"
    }
   ],
   "source": [
    "# get the location of \"yr_merch_spent\" for the for loop\n",
    "df.columns.get_loc(\"yr_merch_spent\")"
   ]
  },
  {
   "cell_type": "code",
   "execution_count": 0,
   "metadata": {
    "colab": {
     "base_uri": "https://localhost:8080/",
     "height": 153
    },
    "colab_type": "code",
    "id": "YpSS_uOFe0qA",
    "outputId": "9e9ee979-b76f-42b9-f6b7-2079bb1ab9d9"
   },
   "outputs": [
    {
     "data": {
      "text/plain": [
       "50     91\n",
       "75     57\n",
       "0      49\n",
       "150    25\n",
       "500    16\n",
       "10      1\n",
       "30      1\n",
       "Name: yr_merch_spent, dtype: int64"
      ]
     },
     "execution_count": 29,
     "metadata": {
      "tags": []
     },
     "output_type": "execute_result"
    }
   ],
   "source": [
    "# write a for loop to clean the data\n",
    "for row in range(0, len(df[\"yr_merch_spent\"])):\n",
    "  if 'Below 50' in df.iloc[row, 14]:\n",
    "    df.iloc[row, 14] = \"50\"\n",
    "  elif '50 - 100' in df.iloc[row, 14]:\n",
    "    df.iloc[row, 14] = \"75\"\n",
    "  elif \"I don't spend anything on merchandise\" in df.iloc[row, 14]:\n",
    "    df.iloc[row, 14] = \"0\"\n",
    "  elif '100 - 200' in df.iloc[row, 14]:\n",
    "    df.iloc[row, 14] = \"150\"\n",
    "  elif 'Below 30' in df.iloc[row, 14]:\n",
    "    df.iloc[row, 14] = \"30\"\n",
    "  elif '10?' in df.iloc[row, 14]:\n",
    "    df.iloc[row, 14] = \"10\"\n",
    "  else:\n",
    "    df.iloc[row, 14] = \"500\"\n",
    "\n",
    "df[\"yr_merch_spent\"].value_counts()"
   ]
  },
  {
   "cell_type": "markdown",
   "metadata": {
    "colab_type": "text",
    "id": "XH-JGhuVcRE0"
   },
   "source": [
    "Clean the \"age\" column"
   ]
  },
  {
   "cell_type": "code",
   "execution_count": 0,
   "metadata": {
    "colab": {
     "base_uri": "https://localhost:8080/",
     "height": 102
    },
    "colab_type": "code",
    "id": "N_7uPOUij706",
    "outputId": "4efdfd4c-10bc-4ab9-8aa2-133ffbee1d4d"
   },
   "outputs": [
    {
     "data": {
      "text/plain": [
       "15 - 20 years    166\n",
       "21 - 26 years     37\n",
       "10 - 14 years     34\n",
       "27 - 30            3\n",
       "Name: age, dtype: int64"
      ]
     },
     "execution_count": 30,
     "metadata": {
      "tags": []
     },
     "output_type": "execute_result"
    }
   ],
   "source": [
    "df[\"age\"].value_counts()"
   ]
  },
  {
   "cell_type": "code",
   "execution_count": 0,
   "metadata": {
    "colab": {
     "base_uri": "https://localhost:8080/",
     "height": 102
    },
    "colab_type": "code",
    "id": "_d7j11Hhknhk",
    "outputId": "b3d0847e-f44e-4ba6-da44-0d1ee0e0c20f"
   },
   "outputs": [
    {
     "data": {
      "text/plain": [
       "15-20    166\n",
       "21-26     37\n",
       "10-14     34\n",
       "27-30      3\n",
       "Name: age, dtype: int64"
      ]
     },
     "execution_count": 31,
     "metadata": {
      "tags": []
     },
     "output_type": "execute_result"
    }
   ],
   "source": [
    "# remove \"years\"\n",
    "age = df[\"age\"].apply(lambda x: x.split('y')[0])\n",
    "age = age.str.replace(\" \", \"\")\n",
    "age.value_counts()"
   ]
  },
  {
   "cell_type": "code",
   "execution_count": 0,
   "metadata": {
    "colab": {
     "base_uri": "https://localhost:8080/",
     "height": 102
    },
    "colab_type": "code",
    "id": "vbZpnVQfmqfN",
    "outputId": "6f21fdca-6881-4b9d-f750-6b428bb5e42a"
   },
   "outputs": [
    {
     "data": {
      "text/plain": [
       "17.5    166\n",
       "23.5     37\n",
       "12.0     34\n",
       "28.5      3\n",
       "Name: age, dtype: int64"
      ]
     },
     "execution_count": 32,
     "metadata": {
      "tags": []
     },
     "output_type": "execute_result"
    }
   ],
   "source": [
    "# apply split mean on age\n",
    "df[\"age\"] = age.apply(lambda x: split_mean(x))\n",
    "df[\"age\"].value_counts()"
   ]
  },
  {
   "cell_type": "code",
   "execution_count": 0,
   "metadata": {
    "colab": {
     "base_uri": "https://localhost:8080/",
     "height": 102
    },
    "colab_type": "code",
    "id": "eRUsyywAw-Md",
    "outputId": "a5148364-ae7e-4e12-9efa-9cf4f0d124eb"
   },
   "outputs": [
    {
     "data": {
      "text/plain": [
       "18    166\n",
       "24     37\n",
       "12     34\n",
       "29      3\n",
       "Name: age, dtype: int64"
      ]
     },
     "execution_count": 33,
     "metadata": {
      "tags": []
     },
     "output_type": "execute_result"
    }
   ],
   "source": [
    "# round up the age\n",
    "df[\"age\"] = np.ceil(df[\"age\"]).astype(int)\n",
    "df[\"age\"].value_counts()"
   ]
  },
  {
   "cell_type": "markdown",
   "metadata": {
    "colab_type": "text",
    "id": "LtB0GUOKusm_"
   },
   "source": [
    "Clean \"fav_grp\""
   ]
  },
  {
   "cell_type": "code",
   "execution_count": 0,
   "metadata": {
    "colab": {
     "base_uri": "https://localhost:8080/",
     "height": 68
    },
    "colab_type": "code",
    "id": "_EtbEPTZUahQ",
    "outputId": "bc70dde9-48bf-4f47-cba8-08ea0c72340e"
   },
   "outputs": [
    {
     "data": {
      "text/plain": [
       "bts         163\n",
       "other(s)     77\n",
       "Name: fav_grp, dtype: int64"
      ]
     },
     "execution_count": 45,
     "metadata": {
      "tags": []
     },
     "output_type": "execute_result"
    }
   ],
   "source": [
    "df['fav_grp'].value_counts()"
   ]
  },
  {
   "cell_type": "code",
   "execution_count": 0,
   "metadata": {
    "colab": {},
    "colab_type": "code",
    "id": "er3mNUBYeVpS"
   },
   "outputs": [],
   "source": [
    "# check how the groups are separated\n",
    "# ; and , / & .\n",
    "# replace the above with commas\n",
    "grp = df['fav_grp']\n",
    "\n",
    "grp = grp.apply(lambda x: x.lower().replace(\";\", \",\").replace(\" and \", \",\").replace(\", \", \",\").replace(\" / \", \",\").replace(\" & \", \",\").replace(\". \", \",\"))"
   ]
  },
  {
   "cell_type": "code",
   "execution_count": 0,
   "metadata": {
    "colab": {
     "base_uri": "https://localhost:8080/",
     "height": 34
    },
    "colab_type": "code",
    "id": "cLYuk79nDE8T",
    "outputId": "0242addd-b544-45b7-d553-fe030204adb8"
   },
   "outputs": [
    {
     "data": {
      "text/plain": [
       "1"
      ]
     },
     "execution_count": 47,
     "metadata": {
      "tags": []
     },
     "output_type": "execute_result"
    }
   ],
   "source": [
    "grp[2].count(\",\")+1"
   ]
  },
  {
   "cell_type": "code",
   "execution_count": 0,
   "metadata": {
    "colab": {},
    "colab_type": "code",
    "id": "ZVfXy4dShys9"
   },
   "outputs": [],
   "source": [
    "# grp[0].count(\",\")+1\n",
    "\n",
    "# create a function that returns the num of groups they like\n",
    "def num_grp_like(df):\n",
    "  tmpArr = []\n",
    "  for i in range(0, 240):\n",
    "    num_grp = grp[i].count(\",\")+1\n",
    "    tmpArr.append(num_grp)\n",
    "  return tmpArr"
   ]
  },
  {
   "cell_type": "code",
   "execution_count": 0,
   "metadata": {
    "colab": {
     "base_uri": "https://localhost:8080/",
     "height": 51
    },
    "colab_type": "code",
    "id": "qPAAa7rxm1Hx",
    "outputId": "6d729305-2075-49b9-90a2-d0b0922dcba4"
   },
   "outputs": [
    {
     "data": {
      "text/plain": [
       "1    240\n",
       "Name: num_gr_like, dtype: int64"
      ]
     },
     "execution_count": 49,
     "metadata": {
      "tags": []
     },
     "output_type": "execute_result"
    }
   ],
   "source": [
    "# append a new column \n",
    "df['num_gr_like'] = num_grp_like(df['fav_grp'])\n",
    "df['num_gr_like'].value_counts()"
   ]
  },
  {
   "cell_type": "code",
   "execution_count": 0,
   "metadata": {
    "colab": {
     "base_uri": "https://localhost:8080/",
     "height": 819
    },
    "colab_type": "code",
    "id": "0MhtXVd3kgUA",
    "outputId": "e56da636-aba5-4b2b-c114-5a3537cb6a96"
   },
   "outputs": [
    {
     "data": {
      "text/html": [
       "<div>\n",
       "<style scoped>\n",
       "    .dataframe tbody tr th:only-of-type {\n",
       "        vertical-align: middle;\n",
       "    }\n",
       "\n",
       "    .dataframe tbody tr th {\n",
       "        vertical-align: top;\n",
       "    }\n",
       "\n",
       "    .dataframe thead th {\n",
       "        text-align: right;\n",
       "    }\n",
       "</style>\n",
       "<table border=\"1\" class=\"dataframe\">\n",
       "  <thead>\n",
       "    <tr style=\"text-align: right;\">\n",
       "      <th></th>\n",
       "      <th>fav_grp</th>\n",
       "      <th>popl_by_co_yn</th>\n",
       "      <th>reason</th>\n",
       "      <th>yr_listened</th>\n",
       "      <th>gender_pref</th>\n",
       "      <th>daily_music_hr</th>\n",
       "      <th>watch_MV_yn</th>\n",
       "      <th>daily_MV_hr</th>\n",
       "      <th>obsessed_yn</th>\n",
       "      <th>news_medium</th>\n",
       "      <th>pursuit</th>\n",
       "      <th>time_cons_yn</th>\n",
       "      <th>life_chg</th>\n",
       "      <th>pos_eff</th>\n",
       "      <th>yr_merch_spent</th>\n",
       "      <th>money_src</th>\n",
       "      <th>concert_yn</th>\n",
       "      <th>crazy_ev</th>\n",
       "      <th>age</th>\n",
       "      <th>country</th>\n",
       "      <th>job</th>\n",
       "      <th>gender</th>\n",
       "      <th>num_gr_like</th>\n",
       "      <th>bts_vs_others</th>\n",
       "    </tr>\n",
       "  </thead>\n",
       "  <tbody>\n",
       "    <tr>\n",
       "      <th>0</th>\n",
       "      <td>bts</td>\n",
       "      <td>Its gaining popularity</td>\n",
       "      <td>Its different from the usual music. I like som...</td>\n",
       "      <td>1.5</td>\n",
       "      <td>Its about the music, not the gender</td>\n",
       "      <td>5</td>\n",
       "      <td>Yes</td>\n",
       "      <td>2.5</td>\n",
       "      <td>Not sure</td>\n",
       "      <td>Subscribe to K-Pop news sites;Subscribe to You...</td>\n",
       "      <td>Learning about Korean/Asian culture;Pursue dan...</td>\n",
       "      <td>No</td>\n",
       "      <td>Led to you being cajoled (made fun of) by clas...</td>\n",
       "      <td>Reduced stress/anxiety/depression</td>\n",
       "      <td>75</td>\n",
       "      <td>I have a full - time job</td>\n",
       "      <td>Yes</td>\n",
       "      <td>Missed days of work and school to attend concerts</td>\n",
       "      <td>18</td>\n",
       "      <td>A country in the UK</td>\n",
       "      <td>Sales</td>\n",
       "      <td>Female</td>\n",
       "      <td>1</td>\n",
       "      <td>bts</td>\n",
       "    </tr>\n",
       "    <tr>\n",
       "      <th>1</th>\n",
       "      <td>bts</td>\n",
       "      <td>Its gaining popularity</td>\n",
       "      <td>Its different from the usual music. I like som...</td>\n",
       "      <td>3.5</td>\n",
       "      <td>I listen to both</td>\n",
       "      <td>3</td>\n",
       "      <td>Yes</td>\n",
       "      <td>2.5</td>\n",
       "      <td>Yes</td>\n",
       "      <td>Subscribe to K-Pop news sites;Subscribe to You...</td>\n",
       "      <td>Learning music - either an instrument or singi...</td>\n",
       "      <td>Yes</td>\n",
       "      <td>Led to you being cajoled (made fun of) by clas...</td>\n",
       "      <td>Made friends who are like-minded</td>\n",
       "      <td>50</td>\n",
       "      <td>Working part-time</td>\n",
       "      <td>I want to, but the K-Pop groups don't come to ...</td>\n",
       "      <td>Listened to K-Pop without studying or working ...</td>\n",
       "      <td>18</td>\n",
       "      <td>A country in the UK</td>\n",
       "      <td>Student</td>\n",
       "      <td>Female</td>\n",
       "      <td>1</td>\n",
       "      <td>bts</td>\n",
       "    </tr>\n",
       "    <tr>\n",
       "      <th>2</th>\n",
       "      <td>bts</td>\n",
       "      <td>Its gaining popularity</td>\n",
       "      <td>Its different from the usual music. I like som...</td>\n",
       "      <td>4</td>\n",
       "      <td>Its about the music, not the gender</td>\n",
       "      <td>3</td>\n",
       "      <td>Yes</td>\n",
       "      <td>2.5</td>\n",
       "      <td>No</td>\n",
       "      <td>Subscribe to K-Pop news sites;Join K-pop socia...</td>\n",
       "      <td>Learning about Korean/Asian culture;Learn abou...</td>\n",
       "      <td>No</td>\n",
       "      <td>Led to you being cajoled (made fun of) by clas...</td>\n",
       "      <td>Made friends who are like-minded</td>\n",
       "      <td>75</td>\n",
       "      <td>Working part-time</td>\n",
       "      <td>Yes</td>\n",
       "      <td>Nothing as such</td>\n",
       "      <td>18</td>\n",
       "      <td>Other European countries</td>\n",
       "      <td>Student</td>\n",
       "      <td>Female</td>\n",
       "      <td>1</td>\n",
       "      <td>bts</td>\n",
       "    </tr>\n",
       "    <tr>\n",
       "      <th>3</th>\n",
       "      <td>bts</td>\n",
       "      <td>Its gaining popularity</td>\n",
       "      <td>Its different from the usual music. I like som...</td>\n",
       "      <td>3.5</td>\n",
       "      <td>I listen to both</td>\n",
       "      <td>5</td>\n",
       "      <td>Yes</td>\n",
       "      <td>3.5</td>\n",
       "      <td>No</td>\n",
       "      <td>Subscribe to K-Pop news sites;Subscribe to You...</td>\n",
       "      <td>Learning about Korean/Asian culture;Visit Korea</td>\n",
       "      <td>No</td>\n",
       "      <td>Led to you being cajoled (made fun of) by clas...</td>\n",
       "      <td>Reduced stress/anxiety/depression</td>\n",
       "      <td>75</td>\n",
       "      <td>Working part-time</td>\n",
       "      <td>Yes</td>\n",
       "      <td>Nothing as such</td>\n",
       "      <td>24</td>\n",
       "      <td>USA</td>\n",
       "      <td>Student</td>\n",
       "      <td>Female</td>\n",
       "      <td>1</td>\n",
       "      <td>bts</td>\n",
       "    </tr>\n",
       "    <tr>\n",
       "      <th>4</th>\n",
       "      <td>bts</td>\n",
       "      <td>Yes</td>\n",
       "      <td>Its different from the usual music. I like som...</td>\n",
       "      <td>3.5</td>\n",
       "      <td>Yes</td>\n",
       "      <td>5</td>\n",
       "      <td>Yes</td>\n",
       "      <td>2.5</td>\n",
       "      <td>Not sure</td>\n",
       "      <td>Subscribe to Youtube channels</td>\n",
       "      <td>Learning about Korean/Asian culture</td>\n",
       "      <td>Yes</td>\n",
       "      <td>Led to you being cajoled (made fun of) by clas...</td>\n",
       "      <td>Reduced stress/anxiety/depression</td>\n",
       "      <td>150</td>\n",
       "      <td>Parents</td>\n",
       "      <td>I want to, but the K-Pop groups don't come to ...</td>\n",
       "      <td>Nothing as such</td>\n",
       "      <td>18</td>\n",
       "      <td>USA</td>\n",
       "      <td>Student</td>\n",
       "      <td>Female</td>\n",
       "      <td>1</td>\n",
       "      <td>bts</td>\n",
       "    </tr>\n",
       "  </tbody>\n",
       "</table>\n",
       "</div>"
      ],
      "text/plain": [
       "  fav_grp           popl_by_co_yn  ... num_gr_like bts_vs_others\n",
       "0     bts  Its gaining popularity  ...           1           bts\n",
       "1     bts  Its gaining popularity  ...           1           bts\n",
       "2     bts  Its gaining popularity  ...           1           bts\n",
       "3     bts  Its gaining popularity  ...           1           bts\n",
       "4     bts                     Yes  ...           1           bts\n",
       "\n",
       "[5 rows x 24 columns]"
      ]
     },
     "execution_count": 50,
     "metadata": {
      "tags": []
     },
     "output_type": "execute_result"
    }
   ],
   "source": [
    "df['fav_grp'] = grp\n",
    "df.head()"
   ]
  },
  {
   "cell_type": "code",
   "execution_count": 0,
   "metadata": {
    "colab": {
     "base_uri": "https://localhost:8080/",
     "height": 51
    },
    "colab_type": "code",
    "id": "FJMBnblfriM-",
    "outputId": "9bfca075-f421-47b2-8743-0ce91edfe490"
   },
   "outputs": [
    {
     "data": {
      "text/plain": [
       "bts    240\n",
       "Name: bts_vs_others, dtype: int64"
      ]
     },
     "execution_count": 51,
     "metadata": {
      "tags": []
     },
     "output_type": "execute_result"
    }
   ],
   "source": [
    "bts_vs_others = grp\n",
    "\n",
    "for row in range(0, 240):\n",
    "  if \";\" not in bts_vs_others.iloc[row]:\n",
    "    bts_vs_others.iloc[row] = \"bts\"\n",
    "  else:\n",
    "    bts_vs_others.iloc[row] = \"other(s)\"\n",
    "\n",
    "df[\"bts_vs_others\"] = bts_vs_others\n",
    "\n",
    "df.bts_vs_others.value_counts()"
   ]
  },
  {
   "cell_type": "code",
   "execution_count": 0,
   "metadata": {
    "colab": {
     "base_uri": "https://localhost:8080/",
     "height": 1000
    },
    "colab_type": "code",
    "id": "CuKEPC0EvbF8",
    "outputId": "9d5f059b-0e84-41b8-d426-55162926340e"
   },
   "outputs": [
    {
     "data": {
      "text/html": [
       "<div>\n",
       "<style scoped>\n",
       "    .dataframe tbody tr th:only-of-type {\n",
       "        vertical-align: middle;\n",
       "    }\n",
       "\n",
       "    .dataframe tbody tr th {\n",
       "        vertical-align: top;\n",
       "    }\n",
       "\n",
       "    .dataframe thead th {\n",
       "        text-align: right;\n",
       "    }\n",
       "</style>\n",
       "<table border=\"1\" class=\"dataframe\">\n",
       "  <thead>\n",
       "    <tr style=\"text-align: right;\">\n",
       "      <th></th>\n",
       "      <th>fav_grp</th>\n",
       "      <th>popl_by_co_yn</th>\n",
       "      <th>reason</th>\n",
       "      <th>yr_listened</th>\n",
       "      <th>gender_pref</th>\n",
       "      <th>daily_music_hr</th>\n",
       "      <th>watch_MV_yn</th>\n",
       "      <th>daily_MV_hr</th>\n",
       "      <th>obsessed_yn</th>\n",
       "      <th>news_medium</th>\n",
       "      <th>pursuit</th>\n",
       "      <th>time_cons_yn</th>\n",
       "      <th>life_chg</th>\n",
       "      <th>pos_eff</th>\n",
       "      <th>yr_merch_spent</th>\n",
       "      <th>money_src</th>\n",
       "      <th>concert_yn</th>\n",
       "      <th>crazy_ev</th>\n",
       "      <th>age</th>\n",
       "      <th>country</th>\n",
       "      <th>job</th>\n",
       "      <th>gender</th>\n",
       "      <th>num_gr_like</th>\n",
       "      <th>bts_vs_others</th>\n",
       "    </tr>\n",
       "  </thead>\n",
       "  <tbody>\n",
       "    <tr>\n",
       "      <th>0</th>\n",
       "      <td>bts</td>\n",
       "      <td>Its gaining popularity</td>\n",
       "      <td>Its different from the usual music. I like som...</td>\n",
       "      <td>1.5</td>\n",
       "      <td>Its about the music, not the gender</td>\n",
       "      <td>5</td>\n",
       "      <td>Yes</td>\n",
       "      <td>2.5</td>\n",
       "      <td>Not sure</td>\n",
       "      <td>Subscribe to K-Pop news sites;Subscribe to You...</td>\n",
       "      <td>Learning about Korean/Asian culture;Pursue dan...</td>\n",
       "      <td>No</td>\n",
       "      <td>Led to you being cajoled (made fun of) by clas...</td>\n",
       "      <td>Reduced stress/anxiety/depression</td>\n",
       "      <td>75</td>\n",
       "      <td>I have a full - time job</td>\n",
       "      <td>Yes</td>\n",
       "      <td>Missed days of work and school to attend concerts</td>\n",
       "      <td>18</td>\n",
       "      <td>A country in the UK</td>\n",
       "      <td>Sales</td>\n",
       "      <td>Female</td>\n",
       "      <td>1</td>\n",
       "      <td>bts</td>\n",
       "    </tr>\n",
       "    <tr>\n",
       "      <th>1</th>\n",
       "      <td>bts</td>\n",
       "      <td>Its gaining popularity</td>\n",
       "      <td>Its different from the usual music. I like som...</td>\n",
       "      <td>3.5</td>\n",
       "      <td>I listen to both</td>\n",
       "      <td>3</td>\n",
       "      <td>Yes</td>\n",
       "      <td>2.5</td>\n",
       "      <td>Yes</td>\n",
       "      <td>Subscribe to K-Pop news sites;Subscribe to You...</td>\n",
       "      <td>Learning music - either an instrument or singi...</td>\n",
       "      <td>Yes</td>\n",
       "      <td>Led to you being cajoled (made fun of) by clas...</td>\n",
       "      <td>Made friends who are like-minded</td>\n",
       "      <td>50</td>\n",
       "      <td>Working part-time</td>\n",
       "      <td>I want to, but the K-Pop groups don't come to ...</td>\n",
       "      <td>Listened to K-Pop without studying or working ...</td>\n",
       "      <td>18</td>\n",
       "      <td>A country in the UK</td>\n",
       "      <td>Student</td>\n",
       "      <td>Female</td>\n",
       "      <td>1</td>\n",
       "      <td>bts</td>\n",
       "    </tr>\n",
       "    <tr>\n",
       "      <th>2</th>\n",
       "      <td>bts,monsta x</td>\n",
       "      <td>Its gaining popularity</td>\n",
       "      <td>Its different from the usual music. I like som...</td>\n",
       "      <td>4</td>\n",
       "      <td>Its about the music, not the gender</td>\n",
       "      <td>3</td>\n",
       "      <td>Yes</td>\n",
       "      <td>2.5</td>\n",
       "      <td>No</td>\n",
       "      <td>Subscribe to K-Pop news sites;Join K-pop socia...</td>\n",
       "      <td>Learning about Korean/Asian culture;Learn abou...</td>\n",
       "      <td>No</td>\n",
       "      <td>Led to you being cajoled (made fun of) by clas...</td>\n",
       "      <td>Made friends who are like-minded</td>\n",
       "      <td>75</td>\n",
       "      <td>Working part-time</td>\n",
       "      <td>Yes</td>\n",
       "      <td>Nothing as such</td>\n",
       "      <td>18</td>\n",
       "      <td>Other European countries</td>\n",
       "      <td>Student</td>\n",
       "      <td>Female</td>\n",
       "      <td>2</td>\n",
       "      <td>bts</td>\n",
       "    </tr>\n",
       "    <tr>\n",
       "      <th>3</th>\n",
       "      <td>bts</td>\n",
       "      <td>Its gaining popularity</td>\n",
       "      <td>Its different from the usual music. I like som...</td>\n",
       "      <td>3.5</td>\n",
       "      <td>I listen to both</td>\n",
       "      <td>5</td>\n",
       "      <td>Yes</td>\n",
       "      <td>3.5</td>\n",
       "      <td>No</td>\n",
       "      <td>Subscribe to K-Pop news sites;Subscribe to You...</td>\n",
       "      <td>Learning about Korean/Asian culture;Visit Korea</td>\n",
       "      <td>No</td>\n",
       "      <td>Led to you being cajoled (made fun of) by clas...</td>\n",
       "      <td>Reduced stress/anxiety/depression</td>\n",
       "      <td>75</td>\n",
       "      <td>Working part-time</td>\n",
       "      <td>Yes</td>\n",
       "      <td>Nothing as such</td>\n",
       "      <td>24</td>\n",
       "      <td>USA</td>\n",
       "      <td>Student</td>\n",
       "      <td>Female</td>\n",
       "      <td>1</td>\n",
       "      <td>bts</td>\n",
       "    </tr>\n",
       "    <tr>\n",
       "      <th>4</th>\n",
       "      <td>bts</td>\n",
       "      <td>Yes</td>\n",
       "      <td>Its different from the usual music. I like som...</td>\n",
       "      <td>3.5</td>\n",
       "      <td>Yes</td>\n",
       "      <td>5</td>\n",
       "      <td>Yes</td>\n",
       "      <td>2.5</td>\n",
       "      <td>Not sure</td>\n",
       "      <td>Subscribe to Youtube channels</td>\n",
       "      <td>Learning about Korean/Asian culture</td>\n",
       "      <td>Yes</td>\n",
       "      <td>Led to you being cajoled (made fun of) by clas...</td>\n",
       "      <td>Reduced stress/anxiety/depression</td>\n",
       "      <td>150</td>\n",
       "      <td>Parents</td>\n",
       "      <td>I want to, but the K-Pop groups don't come to ...</td>\n",
       "      <td>Nothing as such</td>\n",
       "      <td>18</td>\n",
       "      <td>USA</td>\n",
       "      <td>Student</td>\n",
       "      <td>Female</td>\n",
       "      <td>1</td>\n",
       "      <td>bts</td>\n",
       "    </tr>\n",
       "    <tr>\n",
       "      <th>5</th>\n",
       "      <td>bts,exo,blackpink,monsta x,iâ€™m a multi-stan</td>\n",
       "      <td>Its gaining popularity</td>\n",
       "      <td>Its different from the usual music. I like som...</td>\n",
       "      <td>4</td>\n",
       "      <td>Yes</td>\n",
       "      <td>3</td>\n",
       "      <td>Yes</td>\n",
       "      <td>1.0</td>\n",
       "      <td>No</td>\n",
       "      <td>Subscribe to K-Pop news sites</td>\n",
       "      <td>Learning about Korean/Asian culture</td>\n",
       "      <td>No</td>\n",
       "      <td>Led to you being cajoled (made fun of) by clas...</td>\n",
       "      <td>Made friends who are like-minded</td>\n",
       "      <td>50</td>\n",
       "      <td>Working part-time</td>\n",
       "      <td>I want to, but the K-Pop groups don't come to ...</td>\n",
       "      <td>Constantly avoid going out with friends/family...</td>\n",
       "      <td>18</td>\n",
       "      <td>USA</td>\n",
       "      <td>Student</td>\n",
       "      <td>Female</td>\n",
       "      <td>5</td>\n",
       "      <td>bts</td>\n",
       "    </tr>\n",
       "    <tr>\n",
       "      <th>6</th>\n",
       "      <td>bts</td>\n",
       "      <td>I'm not sure</td>\n",
       "      <td>The idols connect with their fans in a way tha...</td>\n",
       "      <td>3.5</td>\n",
       "      <td>I listen to both</td>\n",
       "      <td>5</td>\n",
       "      <td>Yes</td>\n",
       "      <td>1.0</td>\n",
       "      <td>Yes</td>\n",
       "      <td>Subscribe to Youtube channels</td>\n",
       "      <td>Learn about Korean fashion/makeup</td>\n",
       "      <td>Yes</td>\n",
       "      <td>Reduced the amount of sleep you get</td>\n",
       "      <td>Made friends who are like-minded</td>\n",
       "      <td>50</td>\n",
       "      <td>Parents</td>\n",
       "      <td>I want to, but the K-Pop groups don't come to ...</td>\n",
       "      <td>Nothing as such</td>\n",
       "      <td>12</td>\n",
       "      <td>Canada</td>\n",
       "      <td>Student</td>\n",
       "      <td>Female</td>\n",
       "      <td>1</td>\n",
       "      <td>bts</td>\n",
       "    </tr>\n",
       "    <tr>\n",
       "      <th>7</th>\n",
       "      <td>bts</td>\n",
       "      <td>Yes</td>\n",
       "      <td>Its different from the usual music. I like som...</td>\n",
       "      <td>4</td>\n",
       "      <td>I listen to both</td>\n",
       "      <td>3</td>\n",
       "      <td>Yes</td>\n",
       "      <td>1.0</td>\n",
       "      <td>Yes</td>\n",
       "      <td>Subscribe to K-Pop news sites;Subscribe to You...</td>\n",
       "      <td>Learning about Korean/Asian culture;Pursue dan...</td>\n",
       "      <td>Not sure</td>\n",
       "      <td>Nothing really</td>\n",
       "      <td>Reduced stress/anxiety/depression</td>\n",
       "      <td>50</td>\n",
       "      <td>Parents</td>\n",
       "      <td>Yes</td>\n",
       "      <td>Nothing as such</td>\n",
       "      <td>18</td>\n",
       "      <td>USA</td>\n",
       "      <td>Student</td>\n",
       "      <td>Female</td>\n",
       "      <td>1</td>\n",
       "      <td>bts</td>\n",
       "    </tr>\n",
       "    <tr>\n",
       "      <th>8</th>\n",
       "      <td>nct,ateez</td>\n",
       "      <td>Its gaining popularity</td>\n",
       "      <td>Its different from the usual music. I like som...</td>\n",
       "      <td>3.5</td>\n",
       "      <td>I listen to both</td>\n",
       "      <td>5</td>\n",
       "      <td>Yes</td>\n",
       "      <td>2.5</td>\n",
       "      <td>Not sure</td>\n",
       "      <td>Subscribe to Youtube channels</td>\n",
       "      <td>Learning about Korean/Asian culture;Pursue dan...</td>\n",
       "      <td>Yes</td>\n",
       "      <td>Reduced the amount of sleep you get</td>\n",
       "      <td>Made friends who are like-minded</td>\n",
       "      <td>50</td>\n",
       "      <td>Parents</td>\n",
       "      <td>I want to, but the K-Pop groups don't come to ...</td>\n",
       "      <td>Listened to K-Pop without studying or working ...</td>\n",
       "      <td>12</td>\n",
       "      <td>A country in the UK</td>\n",
       "      <td>Student</td>\n",
       "      <td>Female</td>\n",
       "      <td>2</td>\n",
       "      <td>other(s)</td>\n",
       "    </tr>\n",
       "    <tr>\n",
       "      <th>9</th>\n",
       "      <td>bts</td>\n",
       "      <td>Yes</td>\n",
       "      <td>Its different from the usual music. I like som...</td>\n",
       "      <td>4</td>\n",
       "      <td>I listen to both</td>\n",
       "      <td>10</td>\n",
       "      <td>Yes</td>\n",
       "      <td>1.0</td>\n",
       "      <td>No</td>\n",
       "      <td>Subscribe to Youtube channels</td>\n",
       "      <td>Learning about Korean/Asian culture;Learn abou...</td>\n",
       "      <td>No</td>\n",
       "      <td>Nope</td>\n",
       "      <td>Reduced stress/anxiety/depression</td>\n",
       "      <td>0</td>\n",
       "      <td>Working part-time</td>\n",
       "      <td>I want to, but the K-Pop groups don't come to ...</td>\n",
       "      <td>Nothing as such</td>\n",
       "      <td>18</td>\n",
       "      <td>USA</td>\n",
       "      <td>Student</td>\n",
       "      <td>Female</td>\n",
       "      <td>1</td>\n",
       "      <td>bts</td>\n",
       "    </tr>\n",
       "  </tbody>\n",
       "</table>\n",
       "</div>"
      ],
      "text/plain": [
       "                                         fav_grp  ... bts_vs_others\n",
       "0                                            bts  ...           bts\n",
       "1                                            bts  ...           bts\n",
       "2                                   bts,monsta x  ...           bts\n",
       "3                                            bts  ...           bts\n",
       "4                                            bts  ...           bts\n",
       "5  bts,exo,blackpink,monsta x,iâ€™m a multi-stan  ...           bts\n",
       "6                                            bts  ...           bts\n",
       "7                                            bts  ...           bts\n",
       "8                                      nct,ateez  ...      other(s)\n",
       "9                                            bts  ...           bts\n",
       "\n",
       "[10 rows x 24 columns]"
      ]
     },
     "execution_count": 41,
     "metadata": {
      "tags": []
     },
     "output_type": "execute_result"
    }
   ],
   "source": [
    "df.head(10)"
   ]
  },
  {
   "cell_type": "markdown",
   "metadata": {
    "colab_type": "text",
    "id": "BaYVdMMH4ex0"
   },
   "source": [
    "Clean \"news_medium\""
   ]
  },
  {
   "cell_type": "code",
   "execution_count": 0,
   "metadata": {
    "colab": {
     "base_uri": "https://localhost:8080/",
     "height": 819
    },
    "colab_type": "code",
    "id": "_5sci9PQvlAu",
    "outputId": "3974993e-05b4-4ca9-a9b7-6381e0f44276"
   },
   "outputs": [
    {
     "data": {
      "text/plain": [
       "Subscribe to Youtube channels                                                                                    54\n",
       "Join K-pop social media groups                                                                                   38\n",
       "Subscribe to K-Pop news sites;Subscribe to Youtube channels;Join K-pop social media groups                       37\n",
       "Subscribe to Youtube channels;Join K-pop social media groups                                                     31\n",
       "Subscribe to K-Pop news sites                                                                                    17\n",
       "Subscribe to K-Pop news sites;Subscribe to Youtube channels                                                      15\n",
       "Subscribe to K-Pop news sites;Join K-pop social media groups                                                      6\n",
       "Twitter                                                                                                           5\n",
       "Reddit                                                                                                            1\n",
       "Subscribe to Youtube channels;Following fanbase on social media                                                   1\n",
       "Subscribe to Youtube channels;Twitter                                                                             1\n",
       "Subscribe to Youtube channels;Join K-pop social media groups;Stan Twitter                                         1\n",
       "Keep up with whatever is hot on twitter                                                                           1\n",
       "I have allkpop tweets notifcations sent to my phone thats it realy                                                1\n",
       "Have a group chat with friend who like kpop and we update each other if we see something online                   1\n",
       "Subscribe to K-Pop news sites;Subscribe to Youtube channels;I have a Gc on WhatsApp that inform me on stuff       1\n",
       "Search on twitter                                                                                                 1\n",
       "Subscribe to Youtube channels;Follow fellow kpop listeners on twitter                                             1\n",
       "Subscribe to Youtube channels;Join K-pop social media groups;Follow them on social media                          1\n",
       "News tend to pop up on my feed. I do not like the overwhelming amount of drama some of these accounts post.       1\n",
       "nothing sometimes it just randomly appears on my feed                                                             1\n",
       "instagram. twitter                                                                                                1\n",
       "I just hear about it from people or sometimes twitter/instagram fan accounts talk about it.                       1\n",
       "Subscribe to Youtube channels;Join K-pop social media groups;Keep updated via twitter                             1\n",
       "Subscribe to Youtube channels;Join K-pop social media groups;Twitter and Army Amino                               1\n",
       "Twitter is very informative                                                                                       1\n",
       "Subscribe to Youtube channels;Go on twitter                                                                       1\n",
       "Twitter, specifically Soompi                                                                                      1\n",
       "See whatâ€™s trending on Twitter or Youtube                                                                       1\n",
       "None                                                                                                              1\n",
       "I have an account on Twitter. It's enough.                                                                        1\n",
       "Subscribe to Youtube channels;Join K-pop social media groups;Twitter and Instagram                                1\n",
       "Subscribe to K-Pop news sites;Join K-pop social media groups;Soompi on Twitter                                    1\n",
       "Twitter mutuals usually rt things onto my tl                                                                      1\n",
       "Subscribe to Youtube channels;blog on tumblr                                                                      1\n",
       "Subscribe to K-Pop news sites;Subscribe to Youtube channels;Follow their official social media accounts           1\n",
       "follow on social media (twitter, instagram)                                                                       1\n",
       "follow them on social media                                                                                       1\n",
       "Subscribe to K-Pop news sites;Twitter                                                                             1\n",
       "Seeing Tweets or Tumblr Posts                                                                                     1\n",
       "Amino, Youtube,Twitter                                                                                            1\n",
       "The Google app gives me kpop news at the bottom of the search engine                                              1\n",
       "Check Twitter                                                                                                     1\n",
       "Subscribe to Youtube channels;Follow groups and members on twitter and instagram                                  1\n",
       "Subscribe to Youtube channels;Join K-pop social media groups;Definitely being on twitter keeps me in the loop     1\n",
       "Name: news_medium, dtype: int64"
      ]
     },
     "execution_count": 42,
     "metadata": {
      "tags": []
     },
     "output_type": "execute_result"
    }
   ],
   "source": [
    "# check for if anything else needs to be re-labeled\n",
    "df[\"news_medium\"].value_counts()"
   ]
  },
  {
   "cell_type": "code",
   "execution_count": 0,
   "metadata": {
    "colab": {
     "base_uri": "https://localhost:8080/",
     "height": 85
    },
    "colab_type": "code",
    "id": "UvuUD3Oordvx",
    "outputId": "b355839d-d7c9-4dcc-f6e2-ac54831b1f44"
   },
   "outputs": [
    {
     "data": {
      "text/plain": [
       "youtube                              153\n",
       "social media (twitter, instagram)     47\n",
       "others (reddit, tumbler, or none)     40\n",
       "Name: news_medium, dtype: int64"
      ]
     },
     "execution_count": 43,
     "metadata": {
      "tags": []
     },
     "output_type": "execute_result"
    }
   ],
   "source": [
    "# re-label news medium \n",
    "# YT, Social media(twitter, instagram), both YT and Social media, others(reddit, tumblr, etc)\n",
    "news = df['news_medium']\n",
    "\n",
    "news = news.apply(lambda x: x.lower())\n",
    "\n",
    "for row in range(0, 240):\n",
    "  if \"youtube\" in news.iloc[row]:\n",
    "    news.iloc[row] = \"youtube\"\n",
    "  elif \"twitter\" and \"instagram\" and \"social media\" in news.iloc[row]:\n",
    "    news.iloc[row] = \"social media (twitter, instagram)\"\n",
    "  else:\n",
    "    news.iloc[row] = \"others (reddit, tumbler, or none)\"\n",
    "\n",
    "news.value_counts()\n",
    "\n",
    "df['news_medium'] = news\n",
    "df['news_medium'].value_counts()"
   ]
  },
  {
   "cell_type": "markdown",
   "metadata": {
    "colab_type": "text",
    "id": "oGWVsiAy_Mj4"
   },
   "source": [
    "Clean \"pursuit\""
   ]
  },
  {
   "cell_type": "code",
   "execution_count": 0,
   "metadata": {
    "colab": {
     "base_uri": "https://localhost:8080/",
     "height": 785
    },
    "colab_type": "code",
    "id": "q6V3PsEQ4YMD",
    "outputId": "67efd598-b64f-4ba5-ce18-d0cddd8c7034"
   },
   "outputs": [
    {
     "data": {
      "text/plain": [
       "Learning about Korean/Asian culture                                                                                                                                                                                                                  36\n",
       "Learning about Korean/Asian culture;Learn about Korean fashion/makeup                                                                                                                                                                                23\n",
       "Learning about Korean/Asian culture;Pursue dancing;Learn about Korean fashion/makeup;Visit Korea                                                                                                                                                     19\n",
       "Learning music - either an instrument or singing;Learning about Korean/Asian culture;Pursue dancing;Learn about Korean fashion/makeup;Visit Korea                                                                                                    16\n",
       "Learning about Korean/Asian culture;Visit Korea                                                                                                                                                                                                      16\n",
       "Learning about Korean/Asian culture;Learn about Korean fashion/makeup;Visit Korea                                                                                                                                                                    15\n",
       "Learning about Korean/Asian culture;Pursue dancing                                                                                                                                                                                                   11\n",
       "Learning about Korean/Asian culture;Pursue dancing;Visit Korea                                                                                                                                                                                       10\n",
       "Learning about Korean/Asian culture;Pursue dancing;Learn about Korean fashion/makeup                                                                                                                                                                  9\n",
       "Learning music - either an instrument or singing;Learning about Korean/Asian culture;Pursue dancing;Visit Korea                                                                                                                                       7\n",
       "Learning music - either an instrument or singing;Learning about Korean/Asian culture;Pursue dancing                                                                                                                                                   7\n",
       "Learning music - either an instrument or singing;Learning about Korean/Asian culture                                                                                                                                                                  7\n",
       "Pursue dancing                                                                                                                                                                                                                                        6\n",
       "Learn about Korean fashion/makeup                                                                                                                                                                                                                     6\n",
       "Learning music - either an instrument or singing                                                                                                                                                                                                      5\n",
       "Visit Korea                                                                                                                                                                                                                                           5\n",
       "Learning music - either an instrument or singing;Learning about Korean/Asian culture;Pursue dancing;Learn about Korean fashion/makeup                                                                                                                 4\n",
       "Learning music - either an instrument or singing;Learning about Korean/Asian culture;Learn about Korean fashion/makeup                                                                                                                                4\n",
       "No                                                                                                                                                                                                                                                    3\n",
       "Learning music - either an instrument or singing;Learning about Korean/Asian culture;Visit Korea                                                                                                                                                      3\n",
       "Learn about Korean fashion/makeup;Visit Korea                                                                                                                                                                                                         3\n",
       "Learning music - either an instrument or singing;Learning about Korean/Asian culture;Learn about Korean fashion/makeup;Visit Korea                                                                                                                    3\n",
       "Pursue dancing;Learn about Korean fashion/makeup                                                                                                                                                                                                      2\n",
       "no                                                                                                                                                                                                                                                    1\n",
       "Learning about Korean/Asian culture;Visit Korea;Learning the Korean Language                                                                                                                                                                          1\n",
       "Learning music - either an instrument or singing;Learning about Korean/Asian culture;Visit Korea;Learning the language                                                                                                                                1\n",
       "Learning music - either an instrument or singing;Learning about Korean/Asian culture;Learn about Korean fashion/makeup;To open up to other types of artists that are not just Kpop groups like soloist and made be want to learn to speak Korean.     1\n",
       "Learning music - either an instrument or singing;Learning about korean culture and food                                                                                                                                                               1\n",
       "Things like learning instruments and culture are things I do, but it isn't because of kpop (like I would've still learned about it due to school and such)                                                                                            1\n",
       "Learning music - either an instrument or singing;Learning about Korean/Asian culture;A new job choice                                                                                                                                                 1\n",
       "Learning about Korean/Asian culture;Visit Korea;It's helped me improve my art and animation skills.                                                                                                                                                   1\n",
       "continuing to dance more                                                                                                                                                                                                                              1\n",
       "Fashion and dancing                                                                                                                                                                                                                                   1\n",
       "Learning about Korean/Asian culture;Learn about Korean fashion/makeup;Learning more about producing and music making, more about dance and singing, but more technically speaking. Also video editing!                                                1\n",
       "Visit Korea;Learn the language                                                                                                                                                                                                                        1\n",
       "Learning about Korean/Asian culture;Learn about Korean fashion/makeup;It taught me to be more open minded                                                                                                                                             1\n",
       "Learning about Korean/Asian culture;Learn about Korean fashion/makeup;Visit Korea;Learn Korean                                                                                                                                                        1\n",
       "All of the above and I would like to visit Korea                                                                                                                                                                                                      1\n",
       "Learning music - either an instrument or singing;Learning about Korean/Asian culture;Collecting kpop albums and become broke lol                                                                                                                      1\n",
       "Pursue dancing;Visit Korea                                                                                                                                                                                                                            1\n",
       "Learning music - either an instrument or singing;Learning about Korean/Asian culture;Pursue dancing;Learn about Korean fashion/makeup;Visit Korea;Learn drawing and following campaigns to help others                                                1\n",
       "Learning music - either an instrument or singing;Pursue dancing;Visit Korea                                                                                                                                                                           1\n",
       "None, but I'd like to travel someday to Korea                                                                                                                                                                                                         1\n",
       "Name: pursuit, dtype: int64"
      ]
     },
     "execution_count": 44,
     "metadata": {
      "tags": []
     },
     "output_type": "execute_result"
    }
   ],
   "source": [
    "df[\"pursuit\"].value_counts()"
   ]
  },
  {
   "cell_type": "code",
   "execution_count": 0,
   "metadata": {
    "colab": {},
    "colab_type": "code",
    "id": "gz18HeAw_Tp3"
   },
   "outputs": [],
   "source": [
    "pursue = df['pursuit']\n",
    "pursue_test = pursue"
   ]
  },
  {
   "cell_type": "code",
   "execution_count": 0,
   "metadata": {
    "colab": {},
    "colab_type": "code",
    "id": "w_rQBJc15zWW"
   },
   "outputs": [],
   "source": [
    "# re-label pursuit - \n",
    "# Learning about Korean/Asian culture\n",
    "# Learn about Korean fashion/makeup\n",
    "# Learning music - either an instrument or singing\n",
    "# pursue dancing\n",
    "# others\n",
    "\n",
    "pursue_test = pursue_test.apply(lambda x: x.lower())\n",
    "\n",
    "for row in range(0, 240):\n",
    "  if \"learning about korean/asian culture\" in pursue_test.iloc[row] and \";\" not in pursue_test.iloc[row]:\n",
    "    pursue_test.iloc[row] = \"learn the culture\"\n",
    "  elif \"learn about korean fashion/makeup\" in pursue_test.iloc[row] and \";\" not in pursue_test.iloc[row]:\n",
    "    pursue_test.iloc[row] = \"learn korean fashion/makeup\"\n",
    "  elif \"learning music - either an instrument or singing\" in pursue_test.iloc[row] and \";\" not in pursue_test.iloc[row]:\n",
    "    pursue_test.iloc[row] = \"learn music\"\n",
    "  elif \"pursue dancing\" in pursue_test.iloc[row] and \";\" not in pursue_test.iloc[row]:\n",
    "    pursue_test.iloc[row] = \"pursue dancing\"\n",
    "  elif \"no\" in pursue_test.iloc[row] and \";\" not in pursue_test.iloc[row]:\n",
    "    pursue_test.iloc[row] = \"none\"\n",
    "  else:\n",
    "    pursue_test.iloc[row] = \"others (combination of the the four and visit korea)\""
   ]
  },
  {
   "cell_type": "code",
   "execution_count": 0,
   "metadata": {
    "colab": {
     "base_uri": "https://localhost:8080/",
     "height": 136
    },
    "colab_type": "code",
    "id": "Wlbx8thZ9RqC",
    "outputId": "24fc65b0-3af7-47e1-a94d-2e9f8b53535d"
   },
   "outputs": [
    {
     "data": {
      "text/plain": [
       "others (combination of the the four and visit korea)    182\n",
       "learn the culture                                        36\n",
       "pursue dancing                                            6\n",
       "learn korean fashion/makeup                               6\n",
       "none                                                      5\n",
       "learn music                                               5\n",
       "Name: pursuit, dtype: int64"
      ]
     },
     "execution_count": 47,
     "metadata": {
      "tags": []
     },
     "output_type": "execute_result"
    }
   ],
   "source": [
    "#pursue_test.value_counts()\n",
    "\n",
    "df[\"pursuit\"] = pursue_test\n",
    "df.pursuit.value_counts()"
   ]
  },
  {
   "cell_type": "markdown",
   "metadata": {
    "colab_type": "text",
    "id": "_4hzaKJPZksb"
   },
   "source": [
    "Cleaning \"time_cons_yn\""
   ]
  },
  {
   "cell_type": "code",
   "execution_count": 0,
   "metadata": {
    "colab": {
     "base_uri": "https://localhost:8080/",
     "height": 479
    },
    "colab_type": "code",
    "id": "2qkyKdWG6Ju_",
    "outputId": "a5e7c772-d113-4a28-bf49-6c634ed7e919"
   },
   "outputs": [
    {
     "data": {
      "text/plain": [
       "No                                                                                                                                                                                                                                                     115\n",
       "Yes                                                                                                                                                                                                                                                     69\n",
       "Not sure                                                                                                                                                                                                                                                34\n",
       "I would say I get everything I need to do done and spend the rest of the time doing/watching kpop related content                                                                                                                                        1\n",
       "Sometimes                                                                                                                                                                                                                                                1\n",
       "As much as everything else in my life does                                                                                                                                                                                                               1\n",
       "Yes but I still manage time well                                                                                                                                                                                                                         1\n",
       "I spend a lot of time with kpop, but Iâ€™ve learned how to budget and appreciate it when i can !                                                                                                                                                         1\n",
       "Iâ€™ve slowly stopped watching kpop as much as I used to                                                                                                                                                                                                 1\n",
       "Not really                                                                                                                                                                                                                                               1\n",
       "Yes, but i csn focus on other thins if needed                                                                                                                                                                                                            1\n",
       "It used to but now Iâ€™ve learnt to control it                                                                                                                                                                                                           1\n",
       "From an outside view, you would probably think yes. However, I personally believe that leisure is very important for one's wellbeing. Therefore, I spend a lot of time keeping updated with kpop (and watching anime and stuff).                         1\n",
       "It depends on your definition of taken away. I am constantly listening to music and spend most of my day listening to KPop but I am still able to go out with family and get school work done. I would say KPop is a slightly time consuming hobby.      1\n",
       "It used to, not as much now that iâ€™m back in school                                                                                                                                                                                                    1\n",
       "It depends                                                                                                                                                                                                                                               1\n",
       "When I first got into it                                                                                                                                                                                                                                 1\n",
       "The music itself doesn't make much of a difference but I do go to more concerts now which takes up my time (and money).                                                                                                                                  1\n",
       "Most of the time                                                                                                                                                                                                                                         1\n",
       "If you mean spending the night watching BTS crack or try not to laugh, than yes                                                                                                                                                                          1\n",
       "K-Pop doesn't take away my time. I have problems with procrastination, but not because of K-Pop.                                                                                                                                                         1\n",
       "I wouldnâ€™t say that its taken over my life, it more of an intrest like e.g. a intrest in art                                                                                                                                                           1\n",
       "Yes, it had but Kpop isnâ€™t only just consuming my time. Itâ€™s also drawing, paint, and deal with school.                                                                                                                                              1\n",
       "Not really becuase i make sure kpop doesnt get jn the way of my personal time with my friends.                                                                                                                                                           1\n",
       "It doesnâ€™t waste my time, instead itâ€™s just a time spender until I have to do something.                                                                                                                                                             1\n",
       "Name: time_cons_yn, dtype: int64"
      ]
     },
     "execution_count": 48,
     "metadata": {
      "tags": []
     },
     "output_type": "execute_result"
    }
   ],
   "source": [
    "df['time_cons_yn'].value_counts()"
   ]
  },
  {
   "cell_type": "code",
   "execution_count": 0,
   "metadata": {
    "colab": {},
    "colab_type": "code",
    "id": "wgwnM5ifDIul"
   },
   "outputs": [],
   "source": [
    "time_cons = df[\"time_cons_yn\"]\n",
    "time_cons_test = time_cons"
   ]
  },
  {
   "cell_type": "code",
   "execution_count": 0,
   "metadata": {
    "colab": {
     "base_uri": "https://localhost:8080/",
     "height": 85
    },
    "colab_type": "code",
    "id": "eXJ6tpJpDQkE",
    "outputId": "05a4cd47-e5ab-4534-8e7a-dd23e2ddc1c0"
   },
   "outputs": [
    {
     "data": {
      "text/plain": [
       "no                              155\n",
       "yes                              74\n",
       "others (sometimes, not sure)     11\n",
       "Name: time_cons_yn, dtype: int64"
      ]
     },
     "execution_count": 50,
     "metadata": {
      "tags": []
     },
     "output_type": "execute_result"
    }
   ],
   "source": [
    "# re-label time_cons_yn \n",
    "# yes, no, not sure (depends), sometimes, used to, others\n",
    "\n",
    "time_cons_test = time_cons_test.apply(lambda x: x.lower())\n",
    "\n",
    "for row in range(0, 240):\n",
    "  if \"yes\" in time_cons_test.iloc[row]:\n",
    "    time_cons_test.iloc[row] = \"yes\"\n",
    "  elif \"no\" in time_cons_test.iloc[row]:\n",
    "    time_cons_test.iloc[row] = \"no\"\n",
    "  else:\n",
    "    time_cons_test.iloc[row] = \"others (sometimes, not sure)\"\n",
    "\n",
    "time_cons_test.value_counts()"
   ]
  },
  {
   "cell_type": "code",
   "execution_count": 0,
   "metadata": {
    "colab": {},
    "colab_type": "code",
    "id": "ZFIiIcg7EYWc"
   },
   "outputs": [],
   "source": [
    "# overwrite it to df\n",
    "df[\"time_cons_yn\"] = time_cons_test"
   ]
  },
  {
   "cell_type": "markdown",
   "metadata": {
    "colab_type": "text",
    "id": "NaysljwWE3QE"
   },
   "source": [
    "Clean \"life_chg\""
   ]
  },
  {
   "cell_type": "code",
   "execution_count": 0,
   "metadata": {
    "colab": {
     "base_uri": "https://localhost:8080/",
     "height": 870
    },
    "colab_type": "code",
    "id": "azoSjVKeE544",
    "outputId": "498cf7c4-2ea0-4616-a8fe-00a5aa96d5f4"
   },
   "outputs": [
    {
     "data": {
      "text/plain": [
       "Led to you being cajoled (made fun of) by classmates and family                                                                                                                   93\n",
       "Reduced the amount of sleep you get                                                                                                                                               71\n",
       "Reduced your time to socialise with your friends/partners/family                                                                                                                  10\n",
       "Reduced the number of friends you have                                                                                                                                             7\n",
       "None                                                                                                                                                                               5\n",
       "No                                                                                                                                                                                 4\n",
       "None of the above                                                                                                                                                                  4\n",
       "Not really                                                                                                                                                                         3\n",
       "none of the above                                                                                                                                                                  3\n",
       "Nope                                                                                                                                                                               2\n",
       "none                                                                                                                                                                               1\n",
       "Helped me to makw new friends and try new things                                                                                                                                   1\n",
       "Made more friends because we like kpop                                                                                                                                             1\n",
       "I really dont see kpop affecting me, if anything, i got happier with the friends i met through it                                                                                  1\n",
       "Made me closer to friends                                                                                                                                                          1\n",
       "Not really. Other than my dad poking fun everynow and then.                                                                                                                        1\n",
       "Kpop has led me through difficult times honestly with just having music as a way to relive stress and being able to relate and understand the meaning of songs.                    1\n",
       "No? Itâ€™s just music                                                                                                                                                              1\n",
       "Consuming kpop reduce my stress and make my more positive and open-minded person. Love myself, love yourself, peace.                                                               1\n",
       "All of the above                                                                                                                                                                   1\n",
       "Itâ€™s the only music of genre I listen to and I Stan lots of group I have to on top on what the lastest thing is but I still continue with my life                                1\n",
       "no                                                                                                                                                                                 1\n",
       "Small amount of criticism.                                                                                                                                                         1\n",
       "Reduced the time spend to watch other tvshows ,movies ...                                                                                                                          1\n",
       "It has not negatively affected my quality of life                                                                                                                                  1\n",
       "it hasnâ€™t affected me negatively                                                                                                                                                 1\n",
       "If itâ€™s not balanced                                                                                                                                                             1\n",
       "BTS has taught me to love myself since i was ostracized when i was in elementary                                                                                                   1\n",
       "Not consumed, some people dont have lives out kpop and it shows, i treat this genre of music like most do with entertainment and just absorb it in my free time here and there     1\n",
       "No it hasn't.                                                                                                                                                                      1\n",
       "Nothing really                                                                                                                                                                     1\n",
       "Hasnâ€™t affected me negatively                                                                                                                                                    1\n",
       "I'd rather say that because of my connection with K-Pop, it has opened doorsfor me to make new friends (even to that of bosses).                                                   1\n",
       "No, because it hasnâ€™t affected my life.Cause I still do thing that I love even if I wasnâ€™t into Kpop.                                                                          1\n",
       "reduced amount of sleep, as well, got made fun of                                                                                                                                  1\n",
       "Increased number of friends                                                                                                                                                        1\n",
       "None of the above, I talk about it with a couple friends who also like kpop otherwise itâ€™s only in my own time. I donâ€™t talk about it around others and stuff                  1\n",
       "Nothings changed with my lifestyle                                                                                                                                                 1\n",
       "Changed my perspective on what occupation Iâ€™d like to persue in the future which is actually working as a translator ;)                                                          1\n",
       "Has not affected my life other than introducing me to some of my closest friends                                                                                                   1\n",
       "all of them                                                                                                                                                                        1\n",
       "No affect.                                                                                                                                                                         1\n",
       "No I'm fine. But I don't talk about it either.                                                                                                                                     1\n",
       "nope not at all                                                                                                                                                                    1\n",
       "K-pop has not affected my personal life.                                                                                                                                           1\n",
       "Made my bond with my friends stronger ! My family and some friends still make fun of me, but for the most part they accept it.                                                     1\n",
       "Nothing as such                                                                                                                                                                    1\n",
       "no it doesn't                                                                                                                                                                      1\n",
       "Name: life_chg, dtype: int64"
      ]
     },
     "execution_count": 52,
     "metadata": {
      "tags": []
     },
     "output_type": "execute_result"
    }
   ],
   "source": [
    "df.life_chg.value_counts()"
   ]
  },
  {
   "cell_type": "code",
   "execution_count": 0,
   "metadata": {
    "colab": {},
    "colab_type": "code",
    "id": "BwlYGarSFWvL"
   },
   "outputs": [],
   "source": [
    "lf_chg = df[\"life_chg\"]\n",
    "lf_chg_test = lf_chg"
   ]
  },
  {
   "cell_type": "code",
   "execution_count": 0,
   "metadata": {
    "colab": {
     "base_uri": "https://localhost:8080/",
     "height": 119
    },
    "colab_type": "code",
    "id": "jgAFR-D5Fy7Y",
    "outputId": "e252f225-cd1b-4dbb-a1c1-e7296485bb28"
   },
   "outputs": [
    {
     "data": {
      "text/plain": [
       "made fun of                                               93\n",
       "reduced amount of sleep                                   72\n",
       "none                                                      38\n",
       "reduced time of socialized with friends/family            26\n",
       "others (combination of the negatives, small criticism)    11\n",
       "Name: life_chg, dtype: int64"
      ]
     },
     "execution_count": 54,
     "metadata": {
      "tags": []
     },
     "output_type": "execute_result"
    }
   ],
   "source": [
    "# re-label life_chg\n",
    "# Led to you being cajoled (made fun of) by classmates and family\n",
    "# Reduced the amount of sleep you get\n",
    "# Reduced your time to socialise with your friends/partners/family\n",
    "# none (no, not negative)\n",
    "# others (combination of the three, small criticism)\n",
    "\n",
    "lf_chg_test = lf_chg_test.apply(lambda x: x.lower())\n",
    "\n",
    "for row in range(0, 240):\n",
    "  if \"cajoled\" in lf_chg_test.iloc[row]:\n",
    "    lf_chg_test.iloc[row] = \"made fun of\"\n",
    "  elif \"amount of sleep\" in lf_chg_test.iloc[row]:\n",
    "    lf_chg_test.iloc[row] = \"reduced amount of sleep\"\n",
    "  elif \"friends\" and \"friends\" in lf_chg_test.iloc[row]:\n",
    "    lf_chg_test.iloc[row] = \"reduced time of socialized with friends/family\"\n",
    "  elif \"no\" in lf_chg_test.iloc[row]:\n",
    "    lf_chg_test.iloc[row] = \"none\"\n",
    "  else:\n",
    "    lf_chg_test.iloc[row] = \"others (combination of the negatives, small criticism)\"\n",
    "\n",
    "lf_chg_test.value_counts()"
   ]
  },
  {
   "cell_type": "code",
   "execution_count": 0,
   "metadata": {
    "colab": {
     "base_uri": "https://localhost:8080/",
     "height": 1000
    },
    "colab_type": "code",
    "id": "87qxguo2ISh_",
    "outputId": "bd27d6db-5aae-4637-fbb3-991fa73ee4d8"
   },
   "outputs": [
    {
     "data": {
      "text/html": [
       "<div>\n",
       "<style scoped>\n",
       "    .dataframe tbody tr th:only-of-type {\n",
       "        vertical-align: middle;\n",
       "    }\n",
       "\n",
       "    .dataframe tbody tr th {\n",
       "        vertical-align: top;\n",
       "    }\n",
       "\n",
       "    .dataframe thead th {\n",
       "        text-align: right;\n",
       "    }\n",
       "</style>\n",
       "<table border=\"1\" class=\"dataframe\">\n",
       "  <thead>\n",
       "    <tr style=\"text-align: right;\">\n",
       "      <th></th>\n",
       "      <th>fav_grp</th>\n",
       "      <th>popl_by_co_yn</th>\n",
       "      <th>reason</th>\n",
       "      <th>yr_listened</th>\n",
       "      <th>gender_pref</th>\n",
       "      <th>daily_music_hr</th>\n",
       "      <th>watch_MV_yn</th>\n",
       "      <th>daily_MV_hr</th>\n",
       "      <th>obsessed_yn</th>\n",
       "      <th>news_medium</th>\n",
       "      <th>pursuit</th>\n",
       "      <th>time_cons_yn</th>\n",
       "      <th>life_chg</th>\n",
       "      <th>pos_eff</th>\n",
       "      <th>yr_merch_spent</th>\n",
       "      <th>money_src</th>\n",
       "      <th>concert_yn</th>\n",
       "      <th>crazy_ev</th>\n",
       "      <th>age</th>\n",
       "      <th>country</th>\n",
       "      <th>job</th>\n",
       "      <th>gender</th>\n",
       "      <th>num_gr_like</th>\n",
       "      <th>bts_vs_others</th>\n",
       "    </tr>\n",
       "  </thead>\n",
       "  <tbody>\n",
       "    <tr>\n",
       "      <th>0</th>\n",
       "      <td>bts</td>\n",
       "      <td>Its gaining popularity</td>\n",
       "      <td>Its different from the usual music. I like som...</td>\n",
       "      <td>1.5</td>\n",
       "      <td>Its about the music, not the gender</td>\n",
       "      <td>5</td>\n",
       "      <td>Yes</td>\n",
       "      <td>2.5</td>\n",
       "      <td>Not sure</td>\n",
       "      <td>youtube</td>\n",
       "      <td>others (combination of the the four and visit ...</td>\n",
       "      <td>no</td>\n",
       "      <td>made fun of</td>\n",
       "      <td>Reduced stress/anxiety/depression</td>\n",
       "      <td>75</td>\n",
       "      <td>I have a full - time job</td>\n",
       "      <td>Yes</td>\n",
       "      <td>Missed days of work and school to attend concerts</td>\n",
       "      <td>18</td>\n",
       "      <td>A country in the UK</td>\n",
       "      <td>Sales</td>\n",
       "      <td>Female</td>\n",
       "      <td>1</td>\n",
       "      <td>bts</td>\n",
       "    </tr>\n",
       "    <tr>\n",
       "      <th>1</th>\n",
       "      <td>bts</td>\n",
       "      <td>Its gaining popularity</td>\n",
       "      <td>Its different from the usual music. I like som...</td>\n",
       "      <td>3.5</td>\n",
       "      <td>I listen to both</td>\n",
       "      <td>3</td>\n",
       "      <td>Yes</td>\n",
       "      <td>2.5</td>\n",
       "      <td>Yes</td>\n",
       "      <td>youtube</td>\n",
       "      <td>others (combination of the the four and visit ...</td>\n",
       "      <td>yes</td>\n",
       "      <td>made fun of</td>\n",
       "      <td>Made friends who are like-minded</td>\n",
       "      <td>50</td>\n",
       "      <td>Working part-time</td>\n",
       "      <td>I want to, but the K-Pop groups don't come to ...</td>\n",
       "      <td>Listened to K-Pop without studying or working ...</td>\n",
       "      <td>18</td>\n",
       "      <td>A country in the UK</td>\n",
       "      <td>Student</td>\n",
       "      <td>Female</td>\n",
       "      <td>1</td>\n",
       "      <td>bts</td>\n",
       "    </tr>\n",
       "    <tr>\n",
       "      <th>2</th>\n",
       "      <td>bts,monsta x</td>\n",
       "      <td>Its gaining popularity</td>\n",
       "      <td>Its different from the usual music. I like som...</td>\n",
       "      <td>4</td>\n",
       "      <td>Its about the music, not the gender</td>\n",
       "      <td>3</td>\n",
       "      <td>Yes</td>\n",
       "      <td>2.5</td>\n",
       "      <td>No</td>\n",
       "      <td>social media (twitter, instagram)</td>\n",
       "      <td>others (combination of the the four and visit ...</td>\n",
       "      <td>no</td>\n",
       "      <td>made fun of</td>\n",
       "      <td>Made friends who are like-minded</td>\n",
       "      <td>75</td>\n",
       "      <td>Working part-time</td>\n",
       "      <td>Yes</td>\n",
       "      <td>Nothing as such</td>\n",
       "      <td>18</td>\n",
       "      <td>Other European countries</td>\n",
       "      <td>Student</td>\n",
       "      <td>Female</td>\n",
       "      <td>2</td>\n",
       "      <td>bts</td>\n",
       "    </tr>\n",
       "    <tr>\n",
       "      <th>3</th>\n",
       "      <td>bts</td>\n",
       "      <td>Its gaining popularity</td>\n",
       "      <td>Its different from the usual music. I like som...</td>\n",
       "      <td>3.5</td>\n",
       "      <td>I listen to both</td>\n",
       "      <td>5</td>\n",
       "      <td>Yes</td>\n",
       "      <td>3.5</td>\n",
       "      <td>No</td>\n",
       "      <td>youtube</td>\n",
       "      <td>others (combination of the the four and visit ...</td>\n",
       "      <td>no</td>\n",
       "      <td>made fun of</td>\n",
       "      <td>Reduced stress/anxiety/depression</td>\n",
       "      <td>75</td>\n",
       "      <td>Working part-time</td>\n",
       "      <td>Yes</td>\n",
       "      <td>Nothing as such</td>\n",
       "      <td>24</td>\n",
       "      <td>USA</td>\n",
       "      <td>Student</td>\n",
       "      <td>Female</td>\n",
       "      <td>1</td>\n",
       "      <td>bts</td>\n",
       "    </tr>\n",
       "    <tr>\n",
       "      <th>4</th>\n",
       "      <td>bts</td>\n",
       "      <td>Yes</td>\n",
       "      <td>Its different from the usual music. I like som...</td>\n",
       "      <td>3.5</td>\n",
       "      <td>Yes</td>\n",
       "      <td>5</td>\n",
       "      <td>Yes</td>\n",
       "      <td>2.5</td>\n",
       "      <td>Not sure</td>\n",
       "      <td>youtube</td>\n",
       "      <td>learn the culture</td>\n",
       "      <td>yes</td>\n",
       "      <td>made fun of</td>\n",
       "      <td>Reduced stress/anxiety/depression</td>\n",
       "      <td>150</td>\n",
       "      <td>Parents</td>\n",
       "      <td>I want to, but the K-Pop groups don't come to ...</td>\n",
       "      <td>Nothing as such</td>\n",
       "      <td>18</td>\n",
       "      <td>USA</td>\n",
       "      <td>Student</td>\n",
       "      <td>Female</td>\n",
       "      <td>1</td>\n",
       "      <td>bts</td>\n",
       "    </tr>\n",
       "    <tr>\n",
       "      <th>5</th>\n",
       "      <td>bts,exo,blackpink,monsta x,iâ€™m a multi-stan</td>\n",
       "      <td>Its gaining popularity</td>\n",
       "      <td>Its different from the usual music. I like som...</td>\n",
       "      <td>4</td>\n",
       "      <td>Yes</td>\n",
       "      <td>3</td>\n",
       "      <td>Yes</td>\n",
       "      <td>1.0</td>\n",
       "      <td>No</td>\n",
       "      <td>others (reddit, tumbler, or none)</td>\n",
       "      <td>learn the culture</td>\n",
       "      <td>no</td>\n",
       "      <td>made fun of</td>\n",
       "      <td>Made friends who are like-minded</td>\n",
       "      <td>50</td>\n",
       "      <td>Working part-time</td>\n",
       "      <td>I want to, but the K-Pop groups don't come to ...</td>\n",
       "      <td>Constantly avoid going out with friends/family...</td>\n",
       "      <td>18</td>\n",
       "      <td>USA</td>\n",
       "      <td>Student</td>\n",
       "      <td>Female</td>\n",
       "      <td>5</td>\n",
       "      <td>bts</td>\n",
       "    </tr>\n",
       "    <tr>\n",
       "      <th>6</th>\n",
       "      <td>bts</td>\n",
       "      <td>I'm not sure</td>\n",
       "      <td>The idols connect with their fans in a way tha...</td>\n",
       "      <td>3.5</td>\n",
       "      <td>I listen to both</td>\n",
       "      <td>5</td>\n",
       "      <td>Yes</td>\n",
       "      <td>1.0</td>\n",
       "      <td>Yes</td>\n",
       "      <td>youtube</td>\n",
       "      <td>learn korean fashion/makeup</td>\n",
       "      <td>yes</td>\n",
       "      <td>reduced amount of sleep</td>\n",
       "      <td>Made friends who are like-minded</td>\n",
       "      <td>50</td>\n",
       "      <td>Parents</td>\n",
       "      <td>I want to, but the K-Pop groups don't come to ...</td>\n",
       "      <td>Nothing as such</td>\n",
       "      <td>12</td>\n",
       "      <td>Canada</td>\n",
       "      <td>Student</td>\n",
       "      <td>Female</td>\n",
       "      <td>1</td>\n",
       "      <td>bts</td>\n",
       "    </tr>\n",
       "    <tr>\n",
       "      <th>7</th>\n",
       "      <td>bts</td>\n",
       "      <td>Yes</td>\n",
       "      <td>Its different from the usual music. I like som...</td>\n",
       "      <td>4</td>\n",
       "      <td>I listen to both</td>\n",
       "      <td>3</td>\n",
       "      <td>Yes</td>\n",
       "      <td>1.0</td>\n",
       "      <td>Yes</td>\n",
       "      <td>youtube</td>\n",
       "      <td>others (combination of the the four and visit ...</td>\n",
       "      <td>no</td>\n",
       "      <td>none</td>\n",
       "      <td>Reduced stress/anxiety/depression</td>\n",
       "      <td>50</td>\n",
       "      <td>Parents</td>\n",
       "      <td>Yes</td>\n",
       "      <td>Nothing as such</td>\n",
       "      <td>18</td>\n",
       "      <td>USA</td>\n",
       "      <td>Student</td>\n",
       "      <td>Female</td>\n",
       "      <td>1</td>\n",
       "      <td>bts</td>\n",
       "    </tr>\n",
       "    <tr>\n",
       "      <th>8</th>\n",
       "      <td>nct,ateez</td>\n",
       "      <td>Its gaining popularity</td>\n",
       "      <td>Its different from the usual music. I like som...</td>\n",
       "      <td>3.5</td>\n",
       "      <td>I listen to both</td>\n",
       "      <td>5</td>\n",
       "      <td>Yes</td>\n",
       "      <td>2.5</td>\n",
       "      <td>Not sure</td>\n",
       "      <td>youtube</td>\n",
       "      <td>others (combination of the the four and visit ...</td>\n",
       "      <td>yes</td>\n",
       "      <td>reduced amount of sleep</td>\n",
       "      <td>Made friends who are like-minded</td>\n",
       "      <td>50</td>\n",
       "      <td>Parents</td>\n",
       "      <td>I want to, but the K-Pop groups don't come to ...</td>\n",
       "      <td>Listened to K-Pop without studying or working ...</td>\n",
       "      <td>12</td>\n",
       "      <td>A country in the UK</td>\n",
       "      <td>Student</td>\n",
       "      <td>Female</td>\n",
       "      <td>2</td>\n",
       "      <td>other(s)</td>\n",
       "    </tr>\n",
       "    <tr>\n",
       "      <th>9</th>\n",
       "      <td>bts</td>\n",
       "      <td>Yes</td>\n",
       "      <td>Its different from the usual music. I like som...</td>\n",
       "      <td>4</td>\n",
       "      <td>I listen to both</td>\n",
       "      <td>10</td>\n",
       "      <td>Yes</td>\n",
       "      <td>1.0</td>\n",
       "      <td>No</td>\n",
       "      <td>youtube</td>\n",
       "      <td>others (combination of the the four and visit ...</td>\n",
       "      <td>no</td>\n",
       "      <td>none</td>\n",
       "      <td>Reduced stress/anxiety/depression</td>\n",
       "      <td>0</td>\n",
       "      <td>Working part-time</td>\n",
       "      <td>I want to, but the K-Pop groups don't come to ...</td>\n",
       "      <td>Nothing as such</td>\n",
       "      <td>18</td>\n",
       "      <td>USA</td>\n",
       "      <td>Student</td>\n",
       "      <td>Female</td>\n",
       "      <td>1</td>\n",
       "      <td>bts</td>\n",
       "    </tr>\n",
       "  </tbody>\n",
       "</table>\n",
       "</div>"
      ],
      "text/plain": [
       "                                         fav_grp  ... bts_vs_others\n",
       "0                                            bts  ...           bts\n",
       "1                                            bts  ...           bts\n",
       "2                                   bts,monsta x  ...           bts\n",
       "3                                            bts  ...           bts\n",
       "4                                            bts  ...           bts\n",
       "5  bts,exo,blackpink,monsta x,iâ€™m a multi-stan  ...           bts\n",
       "6                                            bts  ...           bts\n",
       "7                                            bts  ...           bts\n",
       "8                                      nct,ateez  ...      other(s)\n",
       "9                                            bts  ...           bts\n",
       "\n",
       "[10 rows x 24 columns]"
      ]
     },
     "execution_count": 55,
     "metadata": {
      "tags": []
     },
     "output_type": "execute_result"
    }
   ],
   "source": [
    "df[\"life_chg\"] = lf_chg_test\n",
    "df.head(10)"
   ]
  },
  {
   "cell_type": "markdown",
   "metadata": {
    "colab_type": "text",
    "id": "bHMH7_cpJpI-"
   },
   "source": [
    "Clean \"pos_eff\""
   ]
  },
  {
   "cell_type": "code",
   "execution_count": 0,
   "metadata": {
    "colab": {
     "base_uri": "https://localhost:8080/",
     "height": 496
    },
    "colab_type": "code",
    "id": "BAM0UOP1JsOg",
    "outputId": "6d85d72f-12c1-41e0-afde-63e9cfebfd95"
   },
   "outputs": [
    {
     "data": {
      "text/plain": [
       "Reduced stress/anxiety/depression                                                                                                                                                                                                                                                                                     131\n",
       "Made friends who are like-minded                                                                                                                                                                                                                                                                                       77\n",
       "Both                                                                                                                                                                                                                                                                                                                    7\n",
       "All of the above                                                                                                                                                                                                                                                                                                        3\n",
       "Not only has it relieves stress but Iâ€™ve made a lot more friends and have become more social. I also travel a lot to go to shows so it creates great experiences. It has positively effected my life to learn more about other cultures and people.                                                                   1\n",
       "made friends on internet and when i went to high school (senior year)                                                                                                                                                                                                                                                   1\n",
       "Nothing specific, I just like the music                                                                                                                                                                                                                                                                                 1\n",
       "Learning about something new                                                                                                                                                                                                                                                                                            1\n",
       "I don't know                                                                                                                                                                                                                                                                                                            1\n",
       "all the above                                                                                                                                                                                                                                                                                                           1\n",
       "Reduced stress, made new friends and give me more experiences (like concert and meeting person from internet at real live).                                                                                                                                                                                             1\n",
       "Being inspired by the lyrics/ messages                                                                                                                                                                                                                                                                                  1\n",
       "Kpop made me and overall better person to love myself and donâ€™t give a crap about haters (sorry about my French)                                                                                                                                                                                                      1\n",
       "Everything about it is positive for me, except people being disrespectful to me for my liking, or the threatening of my wallet.                                                                                                                                                                                         1\n",
       "KPop groups have helped me overcome some of the hardest times of my life. It is my strength when I am weak. I feel it is there to comfort me when I feel sad.                                                                                                                                                           1\n",
       "Both of the above                                                                                                                                                                                                                                                                                                       1\n",
       "Expanded my idea of what good music is overall                                                                                                                                                                                                                                                                          1\n",
       "No                                                                                                                                                                                                                                                                                                                      1\n",
       "Idk if what I'm about to say makes much sense. But, for example, BTS helped me understand that I have to love myself. CLC teaches me, through their music, that it's ok to be different, that the standards that our society create should never be our measuring cup. (I'm sorry if my english is not so correct)      1\n",
       "It makes me super excited to start a new animation project whenever I have an idea.                                                                                                                                                                                                                                     1\n",
       "Both answers above                                                                                                                                                                                                                                                                                                      1\n",
       "Not really, i mean i made a friend that likes the same group as me so thats nice                                                                                                                                                                                                                                        1\n",
       "Being exposed to different styles of music                                                                                                                                                                                                                                                                              1\n",
       "both. Iâ€™ve met my best friend thanks to kpop and it makes me happy                                                                                                                                                                                                                                                    1\n",
       "Its where I go to unwind and it helps with my anxiety, stress, and depression. Iâ€™ve also made a ton of internet friends and in real life friends from it too !                                                                                                                                                        1\n",
       "Made me closer with my partner                                                                                                                                                                                                                                                                                          1\n",
       "Name: pos_eff, dtype: int64"
      ]
     },
     "execution_count": 56,
     "metadata": {
      "tags": []
     },
     "output_type": "execute_result"
    }
   ],
   "source": [
    "df['pos_eff'].value_counts()"
   ]
  },
  {
   "cell_type": "code",
   "execution_count": 0,
   "metadata": {
    "colab": {
     "base_uri": "https://localhost:8080/",
     "height": 102
    },
    "colab_type": "code",
    "id": "7QgT0qBpKYKb",
    "outputId": "32157997-aced-4419-fa69-0bd9e2f76216"
   },
   "outputs": [
    {
     "data": {
      "text/plain": [
       "reduced stress/anxiety/depression                      132\n",
       "made friends                                            77\n",
       "others (don't know, no effect, learning new things)     21\n",
       "both reduced stress and made friends                    10\n",
       "Name: pos_eff, dtype: int64"
      ]
     },
     "execution_count": 57,
     "metadata": {
      "tags": []
     },
     "output_type": "execute_result"
    }
   ],
   "source": [
    "# re-label positiv effects\n",
    "# Reduced stress/anxiety/depression\n",
    "# Made friends who are like-minded\n",
    "# All of the above\n",
    "# others (don't know, no effect, learning new things)\n",
    "\n",
    "pos_ef = df['pos_eff']\n",
    "pos_ef_test = pos_ef\n",
    "\n",
    "pos_ef_test = pos_ef_test.apply(lambda x: x.lower())\n",
    "\n",
    "for row in range(0, 240):\n",
    "  if \"reduced stress\" in pos_ef_test.iloc[row]:\n",
    "    pos_ef_test.iloc[row] = \"reduced stress/anxiety/depression\"\n",
    "  elif \"like-minded\" in pos_ef_test.iloc[row]:\n",
    "    pos_ef_test.iloc[row] = \"made friends\"\n",
    "  elif \"both\" in pos_ef_test.iloc[row]:\n",
    "    pos_ef_test.iloc[row] = \"both reduced stress and made friends\"\n",
    "  else:\n",
    "    pos_ef_test.iloc[row] = \"others (don't know, no effect, learning new things)\"\n",
    "\n",
    "pos_ef_test.value_counts()"
   ]
  },
  {
   "cell_type": "code",
   "execution_count": 0,
   "metadata": {
    "colab": {},
    "colab_type": "code",
    "id": "hXIMEuDrNUz9"
   },
   "outputs": [],
   "source": [
    "df['pos_eff'] = pos_ef_test"
   ]
  },
  {
   "cell_type": "markdown",
   "metadata": {
    "colab_type": "text",
    "id": "ehCNizBXNgoX"
   },
   "source": [
    "Clean \"money_src\""
   ]
  },
  {
   "cell_type": "code",
   "execution_count": 0,
   "metadata": {
    "colab": {
     "base_uri": "https://localhost:8080/",
     "height": 751
    },
    "colab_type": "code",
    "id": "gHJQ283CNf9a",
    "outputId": "c2ffc9b2-6e57-4942-fd83-cc639b8f6951"
   },
   "outputs": [
    {
     "data": {
      "text/plain": [
       "Parents                                                                                                                                              99\n",
       "Working part-time                                                                                                                                    76\n",
       "I have a full - time job                                                                                                                             22\n",
       "Borrow from friends/partner                                                                                                                           3\n",
       "No one                                                                                                                                                2\n",
       "I donâ€™t                                                                                                                                             2\n",
       "Savings                                                                                                                                               2\n",
       "None of the above                                                                                                                                     1\n",
       "I dont spend money on merch                                                                                                                           1\n",
       "My parents and me working both                                                                                                                        1\n",
       "Money that I've saved over the past 6 years from presents and other things.                                                                           1\n",
       "Chinese new year money, birthday money, gifts etc..                                                                                                   1\n",
       "I save my own money                                                                                                                                   1\n",
       "Helping parents and grandparents, but also holiday money (chrismas or birthdays)                                                                      1\n",
       "Money Iâ€™ve saved up                                                                                                                                 1\n",
       "I get the money for special days, like my birthday, christmas, etc. or when i make an accomplishment, like keeping my grades up.                      1\n",
       ".                                                                                                                                                     1\n",
       "Financial aid                                                                                                                                         1\n",
       "I get money from bets, lending money, and doing people's work. I also get money for special occasions like birthdays, Christmas and New Year etc.     1\n",
       "Chores                                                                                                                                                1\n",
       "Usually I have my own money                                                                                                                           1\n",
       "Schoolarship                                                                                                                                          1\n",
       "I babysit but thatâ€™s rare but thatâ€™s what I use to buy things                                                                                     1\n",
       "I'm broke so i cant buy anything.                                                                                                                     1\n",
       "I don't have money to spare on merchandise. Nu                                                                                                        1\n",
       "none                                                                                                                                                  1\n",
       "Borrow from parents, and my part time job                                                                                                             1\n",
       "Again, I've only ever gotten merch as gifts.                                                                                                          1\n",
       "Money I got as presents and saved over the years                                                                                                      1\n",
       "christmas/birthday                                                                                                                                    1\n",
       "Have never spent money on kpop merchandise                                                                                                            1\n",
       "Pocket money and additional work.                                                                                                                     1\n",
       "Money I saved up                                                                                                                                      1\n",
       "i donâ€™t spend money on kpop merchandise.                                                                                                            1\n",
       "My account                                                                                                                                            1\n",
       "Has I said I don't spend money on merchandise, but if I did I would have use my own money.                                                            1\n",
       "I donâ€™t!                                                                                                                                            1\n",
       "Gift Cards                                                                                                                                            1\n",
       "My parents and friends or, whever I get paid, I buy the merch.                                                                                        1\n",
       "Well, a little bit of parents paying me 10 dollars to go to work with my dad and also help out around my school.                                      1\n",
       "I just have it ðŸ—¿                                                                                                                                   1\n",
       "Name: money_src, dtype: int64"
      ]
     },
     "execution_count": 59,
     "metadata": {
      "tags": []
     },
     "output_type": "execute_result"
    }
   ],
   "source": [
    "df.money_src.value_counts()"
   ]
  },
  {
   "cell_type": "code",
   "execution_count": 0,
   "metadata": {
    "colab": {
     "base_uri": "https://localhost:8080/",
     "height": 119
    },
    "colab_type": "code",
    "id": "hinTBQS5Nvxj",
    "outputId": "9da9d055-46e1-4e21-9a56-732c2f676c42"
   },
   "outputs": [
    {
     "data": {
      "text/plain": [
       "from parents                       104\n",
       "part-time job                       76\n",
       "others (gift, scholarship, etc)     35\n",
       "full-time job                       22\n",
       "borrowed                             3\n",
       "Name: money_src, dtype: int64"
      ]
     },
     "execution_count": 60,
     "metadata": {
      "tags": []
     },
     "output_type": "execute_result"
    }
   ],
   "source": [
    "# re-label money source\n",
    "# parents\n",
    "# part-time\n",
    "# full-time\n",
    "# borrowed\n",
    "# others (gift, scholarship)\n",
    "\n",
    "money = df['money_src']\n",
    "money_test = money\n",
    "\n",
    "money_test = money_test.apply(lambda x: x.lower())\n",
    "\n",
    "for row in range(0, 240):\n",
    "  if \"parents\" in money_test.iloc[row]:\n",
    "    money_test.iloc[row] = \"from parents\"\n",
    "  elif \"part-time\" in money_test.iloc[row]:\n",
    "    money_test.iloc[row] = \"part-time job\"\n",
    "  elif \"a full\" in money_test.iloc[row]:\n",
    "    money_test.iloc[row] = \"full-time job\"\n",
    "  elif \"borrow\" in money_test.iloc[row]:\n",
    "    money_test.iloc[row] = \"borrowed\"\n",
    "  else:\n",
    "    money_test.iloc[row] = \"others (gift, scholarship, etc)\"\n",
    "\n",
    "money_test.value_counts()"
   ]
  },
  {
   "cell_type": "code",
   "execution_count": 0,
   "metadata": {
    "colab": {},
    "colab_type": "code",
    "id": "EiiBO3Y_O7Rj"
   },
   "outputs": [],
   "source": [
    "df['money_src'] = money_test"
   ]
  },
  {
   "cell_type": "markdown",
   "metadata": {
    "colab_type": "text",
    "id": "hqsTOirCPHG-"
   },
   "source": [
    "Clean \"crazy_ev\""
   ]
  },
  {
   "cell_type": "code",
   "execution_count": 0,
   "metadata": {
    "colab": {
     "base_uri": "https://localhost:8080/",
     "height": 428
    },
    "colab_type": "code",
    "id": "ho8k12iiPKk-",
    "outputId": "b6617343-6238-4b10-b1d7-0a8a4af0be87"
   },
   "outputs": [
    {
     "data": {
      "text/plain": [
       "Nothing as such                                                                                                                                                                                   133\n",
       "Listened to K-Pop without studying or working despite having a deadline                                                                                                                            46\n",
       "Missed days of work and school to attend concerts                                                                                                                                                  21\n",
       "Listened to K-Pop without studying or working despite having a deadline;Missed days of work and school to attend concerts                                                                           8\n",
       "Constantly avoid going out with friends/family to watch/listen K-Pop                                                                                                                                5\n",
       "Listened to K-Pop without studying or working despite having a deadline;Constantly avoid going out with friends/family to watch/listen K-Pop                                                        5\n",
       "Listened to K-Pop without studying or working despite having a deadline;Nothing as such                                                                                                             3\n",
       "Listened to K-Pop without studying or working despite having a deadline;Constantly avoid going out with friends/family to watch/listen K-Pop;Missed days of work and school to attend concerts      3\n",
       "Constantly avoid going out with friends/family to watch/listen K-Pop;Missed days of work and school to attend concerts                                                                              2\n",
       "Constantly avoid going out with friends/family to watch/listen K-Pop;Nothing as such                                                                                                                2\n",
       "Listened to K-Pop without studying or working despite having a deadline;Again, because of my own personal problems with procrastination, not necessarily because of K-Pop itself.                   1\n",
       "Listened to K-Pop without studying or working despite having a deadline;Missed days of work and school to attend concerts;Traveled to another state for a kpop concert                              1\n",
       "Nothing as such; I mean, I almost skipped a day of school for Monsta X's comeback showcase that one time but I didn't.                                                                              1\n",
       "Waking up at like 2am to watch award shows even if I have to do stuff later that day                                                                                                                1\n",
       "The heck kind of questionare is this? Lmao i have a life outside kpop unlike others                                                                                                                 1\n",
       "I have anxiety but I danced to exo in a public place. Everyone thought I was crazy.                                                                                                                 1\n",
       "Missed days of work and school to attend concerts;missed school to ticket for bts                                                                                                                   1\n",
       "Listened to K-Pop without studying or working despite having a deadline;I do online school and watching kpop videos keeps me from doing any work at all.                                            1\n",
       "Just giving up on sleep to stream and stuff.                                                                                                                                                        1\n",
       "Slept on the street with my friends to be one of the first few people in at the Line store in Hollywood.                                                                                            1\n",
       "Lost hours of sleep staying up for award shows and comebacks                                                                                                                                        1\n",
       "Stayed up really late/ woken up VERY early just for an award show/ comeback!                                                                                                                        1\n",
       "Name: crazy_ev, dtype: int64"
      ]
     },
     "execution_count": 62,
     "metadata": {
      "tags": []
     },
     "output_type": "execute_result"
    }
   ],
   "source": [
    "df.crazy_ev.value_counts()"
   ]
  },
  {
   "cell_type": "code",
   "execution_count": 0,
   "metadata": {
    "colab": {
     "base_uri": "https://localhost:8080/",
     "height": 85
    },
    "colab_type": "code",
    "id": "07BOg1oRPKev",
    "outputId": "18755f0e-9b2f-400e-9830-eda9a567de14"
   },
   "outputs": [
    {
     "data": {
      "text/plain": [
       "nothing                                                                      133\n",
       "others (combination of not studying/working and missing school/work, etc)     61\n",
       "didn't study or work                                                          46\n",
       "Name: crazy_ev, dtype: int64"
      ]
     },
     "execution_count": 63,
     "metadata": {
      "tags": []
     },
     "output_type": "execute_result"
    }
   ],
   "source": [
    "# re-label crazy events\n",
    "# nothing\n",
    "# didn't study or work\n",
    "# missed school or work\n",
    "# others (combination of not studying/working and missing school/work, etc)\n",
    "\n",
    "crazy = df['crazy_ev']\n",
    "crazy_test = crazy\n",
    "\n",
    "crazy_test = crazy_test.apply(lambda x: x.lower())\n",
    "\n",
    "for row in range(0, 240):\n",
    "  if \"nothing\" in crazy_test.iloc[row] and \";\" not in crazy_test.iloc[row]:\n",
    "    crazy_test.iloc[row] = \"nothing\"\n",
    "  elif \"without studying or working\" in crazy_test.iloc[row] and \";\" not in crazy_test.iloc[row]:\n",
    "    crazy_test.iloc[row] = \"didn't study or work\"\n",
    "  elif \"Missed days\" in crazy_test.iloc[row]:\n",
    "    crazy_test.iloc[row] = \"missed school or work\"\n",
    "  else:\n",
    "    crazy_test.iloc[row] = \"others (combination of not studying/working and missing school/work, etc)\"\n",
    "\n",
    "crazy_test.value_counts()"
   ]
  },
  {
   "cell_type": "code",
   "execution_count": 0,
   "metadata": {
    "colab": {},
    "colab_type": "code",
    "id": "cZKv33kzPKQG"
   },
   "outputs": [],
   "source": [
    "df['crazy_ev'] = crazy_test"
   ]
  },
  {
   "cell_type": "markdown",
   "metadata": {
    "colab_type": "text",
    "id": "6Uyv-BfAQg_2"
   },
   "source": [
    "Clean \"country\""
   ]
  },
  {
   "cell_type": "code",
   "execution_count": 0,
   "metadata": {
    "colab": {
     "base_uri": "https://localhost:8080/",
     "height": 323
    },
    "colab_type": "code",
    "id": "JQgA-5erQkbI",
    "outputId": "7b69e375-e6cc-49a5-cb42-7c843f2f253b"
   },
   "outputs": [
    {
     "data": {
      "text/plain": [
       "USA                             140\n",
       "A country in the UK              26\n",
       "Other European countries         18\n",
       "Canada                           15\n",
       "Latin America                     8\n",
       "Australia                         7\n",
       "Germany                           6\n",
       "France                            5\n",
       "Other Asian country               5\n",
       "New Zealand                       2\n",
       "South Africa                      2\n",
       "Finland                           1\n",
       "CANNNAADAAAA BOIIIIIIS            1\n",
       "A country from the Caribbean      1\n",
       "canada                            1\n",
       "Turkey                            1\n",
       "Sweden                            1\n",
       "Name: country, dtype: int64"
      ]
     },
     "execution_count": 65,
     "metadata": {
      "tags": []
     },
     "output_type": "execute_result"
    }
   ],
   "source": [
    "df.country.value_counts()"
   ]
  },
  {
   "cell_type": "code",
   "execution_count": 0,
   "metadata": {
    "colab": {
     "base_uri": "https://localhost:8080/",
     "height": 204
    },
    "colab_type": "code",
    "id": "F19zwR7CQkUG",
    "outputId": "2ccb1edc-73ee-47e7-a62c-b7f01a7b6d3a"
   },
   "outputs": [
    {
     "data": {
      "text/plain": [
       "usa                                                                       140\n",
       "uk                                                                         26\n",
       "other european countries                                                   18\n",
       "canada                                                                     17\n",
       "latin america                                                               8\n",
       "others (south africa, new zealand, sweden, finland, turkey, caribbean)      8\n",
       "australia                                                                   7\n",
       "germany                                                                     6\n",
       "france                                                                      5\n",
       "other asian countries                                                       5\n",
       "Name: country, dtype: int64"
      ]
     },
     "execution_count": 66,
     "metadata": {
      "tags": []
     },
     "output_type": "execute_result"
    }
   ],
   "source": [
    "# relabel\n",
    "# usa, uk, other european, canada (can), latin amrica, australia, germany, other asian, france, others\n",
    "con = df['country']\n",
    "con_test = con\n",
    "\n",
    "con_test = con_test.apply(lambda x: x.lower())\n",
    "\n",
    "for row in range(0, 240):\n",
    "  if \"usa\" in con_test.iloc[row]:\n",
    "    con_test.iloc[row] = \"usa\"\n",
    "  elif \"uk\" in con_test.iloc[row]:\n",
    "    con_test.iloc[row] = \"uk\"\n",
    "  elif \"european\" in con_test.iloc[row]:\n",
    "    con_test.iloc[row] = \"other european countries\"\n",
    "  elif \"can\" in con_test.iloc[row]:\n",
    "    con_test.iloc[row] = \"canada\"\n",
    "  elif \"latin\" in con_test.iloc[row]:\n",
    "    con_test.iloc[row] = \"latin america\"\n",
    "  elif \"australia\" in con_test.iloc[row]:\n",
    "    con_test.iloc[row] = \"australia\"\n",
    "  elif \"germany\" in con_test.iloc[row]:\n",
    "    con_test.iloc[row] = \"germany\"\n",
    "  elif \"asian\" in con_test.iloc[row]:\n",
    "    con_test.iloc[row] = \"other asian countries\"\n",
    "  elif \"france\" in con_test.iloc[row]:\n",
    "    con_test.iloc[row] = \"france\"\n",
    "  else:\n",
    "    con_test.iloc[row] = \"others (south africa, new zealand, sweden, finland, turkey, caribbean)\"\n",
    "\n",
    "con_test.value_counts()"
   ]
  },
  {
   "cell_type": "code",
   "execution_count": 0,
   "metadata": {
    "colab": {
     "base_uri": "https://localhost:8080/",
     "height": 819
    },
    "colab_type": "code",
    "id": "g3dayp3AQkNQ",
    "outputId": "72df495a-2e73-4507-cb2a-ebc9ab6cef12"
   },
   "outputs": [
    {
     "data": {
      "text/html": [
       "<div>\n",
       "<style scoped>\n",
       "    .dataframe tbody tr th:only-of-type {\n",
       "        vertical-align: middle;\n",
       "    }\n",
       "\n",
       "    .dataframe tbody tr th {\n",
       "        vertical-align: top;\n",
       "    }\n",
       "\n",
       "    .dataframe thead th {\n",
       "        text-align: right;\n",
       "    }\n",
       "</style>\n",
       "<table border=\"1\" class=\"dataframe\">\n",
       "  <thead>\n",
       "    <tr style=\"text-align: right;\">\n",
       "      <th></th>\n",
       "      <th>fav_grp</th>\n",
       "      <th>popl_by_co_yn</th>\n",
       "      <th>reason</th>\n",
       "      <th>yr_listened</th>\n",
       "      <th>gender_pref</th>\n",
       "      <th>daily_music_hr</th>\n",
       "      <th>watch_MV_yn</th>\n",
       "      <th>daily_MV_hr</th>\n",
       "      <th>obsessed_yn</th>\n",
       "      <th>news_medium</th>\n",
       "      <th>pursuit</th>\n",
       "      <th>time_cons_yn</th>\n",
       "      <th>life_chg</th>\n",
       "      <th>pos_eff</th>\n",
       "      <th>yr_merch_spent</th>\n",
       "      <th>money_src</th>\n",
       "      <th>concert_yn</th>\n",
       "      <th>crazy_ev</th>\n",
       "      <th>age</th>\n",
       "      <th>country</th>\n",
       "      <th>job</th>\n",
       "      <th>gender</th>\n",
       "      <th>num_gr_like</th>\n",
       "      <th>bts_vs_others</th>\n",
       "    </tr>\n",
       "  </thead>\n",
       "  <tbody>\n",
       "    <tr>\n",
       "      <th>0</th>\n",
       "      <td>bts</td>\n",
       "      <td>Its gaining popularity</td>\n",
       "      <td>Its different from the usual music. I like som...</td>\n",
       "      <td>1.5</td>\n",
       "      <td>Its about the music, not the gender</td>\n",
       "      <td>5</td>\n",
       "      <td>Yes</td>\n",
       "      <td>2.5</td>\n",
       "      <td>Not sure</td>\n",
       "      <td>youtube</td>\n",
       "      <td>others (combination of the the four and visit ...</td>\n",
       "      <td>no</td>\n",
       "      <td>made fun of</td>\n",
       "      <td>reduced stress/anxiety/depression</td>\n",
       "      <td>75</td>\n",
       "      <td>full-time job</td>\n",
       "      <td>Yes</td>\n",
       "      <td>others (combination of not studying/working an...</td>\n",
       "      <td>18</td>\n",
       "      <td>uk</td>\n",
       "      <td>Sales</td>\n",
       "      <td>Female</td>\n",
       "      <td>1</td>\n",
       "      <td>bts</td>\n",
       "    </tr>\n",
       "    <tr>\n",
       "      <th>1</th>\n",
       "      <td>bts</td>\n",
       "      <td>Its gaining popularity</td>\n",
       "      <td>Its different from the usual music. I like som...</td>\n",
       "      <td>3.5</td>\n",
       "      <td>I listen to both</td>\n",
       "      <td>3</td>\n",
       "      <td>Yes</td>\n",
       "      <td>2.5</td>\n",
       "      <td>Yes</td>\n",
       "      <td>youtube</td>\n",
       "      <td>others (combination of the the four and visit ...</td>\n",
       "      <td>yes</td>\n",
       "      <td>made fun of</td>\n",
       "      <td>made friends</td>\n",
       "      <td>50</td>\n",
       "      <td>part-time job</td>\n",
       "      <td>I want to, but the K-Pop groups don't come to ...</td>\n",
       "      <td>others (combination of not studying/working an...</td>\n",
       "      <td>18</td>\n",
       "      <td>uk</td>\n",
       "      <td>Student</td>\n",
       "      <td>Female</td>\n",
       "      <td>1</td>\n",
       "      <td>bts</td>\n",
       "    </tr>\n",
       "    <tr>\n",
       "      <th>2</th>\n",
       "      <td>bts,monsta x</td>\n",
       "      <td>Its gaining popularity</td>\n",
       "      <td>Its different from the usual music. I like som...</td>\n",
       "      <td>4</td>\n",
       "      <td>Its about the music, not the gender</td>\n",
       "      <td>3</td>\n",
       "      <td>Yes</td>\n",
       "      <td>2.5</td>\n",
       "      <td>No</td>\n",
       "      <td>social media (twitter, instagram)</td>\n",
       "      <td>others (combination of the the four and visit ...</td>\n",
       "      <td>no</td>\n",
       "      <td>made fun of</td>\n",
       "      <td>made friends</td>\n",
       "      <td>75</td>\n",
       "      <td>part-time job</td>\n",
       "      <td>Yes</td>\n",
       "      <td>nothing</td>\n",
       "      <td>18</td>\n",
       "      <td>other european countries</td>\n",
       "      <td>Student</td>\n",
       "      <td>Female</td>\n",
       "      <td>2</td>\n",
       "      <td>bts</td>\n",
       "    </tr>\n",
       "    <tr>\n",
       "      <th>3</th>\n",
       "      <td>bts</td>\n",
       "      <td>Its gaining popularity</td>\n",
       "      <td>Its different from the usual music. I like som...</td>\n",
       "      <td>3.5</td>\n",
       "      <td>I listen to both</td>\n",
       "      <td>5</td>\n",
       "      <td>Yes</td>\n",
       "      <td>3.5</td>\n",
       "      <td>No</td>\n",
       "      <td>youtube</td>\n",
       "      <td>others (combination of the the four and visit ...</td>\n",
       "      <td>no</td>\n",
       "      <td>made fun of</td>\n",
       "      <td>reduced stress/anxiety/depression</td>\n",
       "      <td>75</td>\n",
       "      <td>part-time job</td>\n",
       "      <td>Yes</td>\n",
       "      <td>nothing</td>\n",
       "      <td>24</td>\n",
       "      <td>usa</td>\n",
       "      <td>Student</td>\n",
       "      <td>Female</td>\n",
       "      <td>1</td>\n",
       "      <td>bts</td>\n",
       "    </tr>\n",
       "    <tr>\n",
       "      <th>4</th>\n",
       "      <td>bts</td>\n",
       "      <td>Yes</td>\n",
       "      <td>Its different from the usual music. I like som...</td>\n",
       "      <td>3.5</td>\n",
       "      <td>Yes</td>\n",
       "      <td>5</td>\n",
       "      <td>Yes</td>\n",
       "      <td>2.5</td>\n",
       "      <td>Not sure</td>\n",
       "      <td>youtube</td>\n",
       "      <td>learn the culture</td>\n",
       "      <td>yes</td>\n",
       "      <td>made fun of</td>\n",
       "      <td>reduced stress/anxiety/depression</td>\n",
       "      <td>150</td>\n",
       "      <td>from parents</td>\n",
       "      <td>I want to, but the K-Pop groups don't come to ...</td>\n",
       "      <td>nothing</td>\n",
       "      <td>18</td>\n",
       "      <td>usa</td>\n",
       "      <td>Student</td>\n",
       "      <td>Female</td>\n",
       "      <td>1</td>\n",
       "      <td>bts</td>\n",
       "    </tr>\n",
       "  </tbody>\n",
       "</table>\n",
       "</div>"
      ],
      "text/plain": [
       "        fav_grp           popl_by_co_yn  ... num_gr_like bts_vs_others\n",
       "0           bts  Its gaining popularity  ...           1           bts\n",
       "1           bts  Its gaining popularity  ...           1           bts\n",
       "2  bts,monsta x  Its gaining popularity  ...           2           bts\n",
       "3           bts  Its gaining popularity  ...           1           bts\n",
       "4           bts                     Yes  ...           1           bts\n",
       "\n",
       "[5 rows x 24 columns]"
      ]
     },
     "execution_count": 67,
     "metadata": {
      "tags": []
     },
     "output_type": "execute_result"
    }
   ],
   "source": [
    "df['country'] = con_test\n",
    "df.head()"
   ]
  },
  {
   "cell_type": "code",
   "execution_count": 0,
   "metadata": {
    "colab": {
     "base_uri": "https://localhost:8080/",
     "height": 819
    },
    "colab_type": "code",
    "id": "xJMZzmSiU1VD",
    "outputId": "c10b00f2-f3a0-4ed8-9233-825c631ace43"
   },
   "outputs": [
    {
     "data": {
      "text/html": [
       "<div>\n",
       "<style scoped>\n",
       "    .dataframe tbody tr th:only-of-type {\n",
       "        vertical-align: middle;\n",
       "    }\n",
       "\n",
       "    .dataframe tbody tr th {\n",
       "        vertical-align: top;\n",
       "    }\n",
       "\n",
       "    .dataframe thead th {\n",
       "        text-align: right;\n",
       "    }\n",
       "</style>\n",
       "<table border=\"1\" class=\"dataframe\">\n",
       "  <thead>\n",
       "    <tr style=\"text-align: right;\">\n",
       "      <th></th>\n",
       "      <th>fav_grp</th>\n",
       "      <th>popl_by_co_yn</th>\n",
       "      <th>reason</th>\n",
       "      <th>yr_listened</th>\n",
       "      <th>gender_pref</th>\n",
       "      <th>daily_music_hr</th>\n",
       "      <th>watch_MV_yn</th>\n",
       "      <th>daily_MV_hr</th>\n",
       "      <th>obsessed_yn</th>\n",
       "      <th>news_medium</th>\n",
       "      <th>pursuit</th>\n",
       "      <th>time_cons_yn</th>\n",
       "      <th>life_chg</th>\n",
       "      <th>pos_eff</th>\n",
       "      <th>yr_merch_spent</th>\n",
       "      <th>money_src</th>\n",
       "      <th>concert_yn</th>\n",
       "      <th>crazy_ev</th>\n",
       "      <th>age</th>\n",
       "      <th>country</th>\n",
       "      <th>job</th>\n",
       "      <th>gender</th>\n",
       "      <th>num_gr_like</th>\n",
       "      <th>bts_vs_others</th>\n",
       "    </tr>\n",
       "  </thead>\n",
       "  <tbody>\n",
       "    <tr>\n",
       "      <th>0</th>\n",
       "      <td>bts</td>\n",
       "      <td>its gaining popularity</td>\n",
       "      <td>its different from the usual music. i like som...</td>\n",
       "      <td>1.5</td>\n",
       "      <td>its about the music, not the gender</td>\n",
       "      <td>5</td>\n",
       "      <td>yes</td>\n",
       "      <td>2.5</td>\n",
       "      <td>not sure</td>\n",
       "      <td>youtube</td>\n",
       "      <td>others (combination of the the four and visit ...</td>\n",
       "      <td>no</td>\n",
       "      <td>made fun of</td>\n",
       "      <td>reduced stress/anxiety/depression</td>\n",
       "      <td>75</td>\n",
       "      <td>full-time job</td>\n",
       "      <td>yes</td>\n",
       "      <td>others (combination of not studying/working an...</td>\n",
       "      <td>18</td>\n",
       "      <td>uk</td>\n",
       "      <td>sales</td>\n",
       "      <td>female</td>\n",
       "      <td>1</td>\n",
       "      <td>bts</td>\n",
       "    </tr>\n",
       "    <tr>\n",
       "      <th>1</th>\n",
       "      <td>bts</td>\n",
       "      <td>its gaining popularity</td>\n",
       "      <td>its different from the usual music. i like som...</td>\n",
       "      <td>3.5</td>\n",
       "      <td>i listen to both</td>\n",
       "      <td>3</td>\n",
       "      <td>yes</td>\n",
       "      <td>2.5</td>\n",
       "      <td>yes</td>\n",
       "      <td>youtube</td>\n",
       "      <td>others (combination of the the four and visit ...</td>\n",
       "      <td>yes</td>\n",
       "      <td>made fun of</td>\n",
       "      <td>made friends</td>\n",
       "      <td>50</td>\n",
       "      <td>part-time job</td>\n",
       "      <td>i want to, but the k-pop groups don't come to ...</td>\n",
       "      <td>others (combination of not studying/working an...</td>\n",
       "      <td>18</td>\n",
       "      <td>uk</td>\n",
       "      <td>student</td>\n",
       "      <td>female</td>\n",
       "      <td>1</td>\n",
       "      <td>bts</td>\n",
       "    </tr>\n",
       "    <tr>\n",
       "      <th>2</th>\n",
       "      <td>bts,monsta x</td>\n",
       "      <td>its gaining popularity</td>\n",
       "      <td>its different from the usual music. i like som...</td>\n",
       "      <td>4</td>\n",
       "      <td>its about the music, not the gender</td>\n",
       "      <td>3</td>\n",
       "      <td>yes</td>\n",
       "      <td>2.5</td>\n",
       "      <td>no</td>\n",
       "      <td>social media (twitter, instagram)</td>\n",
       "      <td>others (combination of the the four and visit ...</td>\n",
       "      <td>no</td>\n",
       "      <td>made fun of</td>\n",
       "      <td>made friends</td>\n",
       "      <td>75</td>\n",
       "      <td>part-time job</td>\n",
       "      <td>yes</td>\n",
       "      <td>nothing</td>\n",
       "      <td>18</td>\n",
       "      <td>other european countries</td>\n",
       "      <td>student</td>\n",
       "      <td>female</td>\n",
       "      <td>2</td>\n",
       "      <td>bts</td>\n",
       "    </tr>\n",
       "    <tr>\n",
       "      <th>3</th>\n",
       "      <td>bts</td>\n",
       "      <td>its gaining popularity</td>\n",
       "      <td>its different from the usual music. i like som...</td>\n",
       "      <td>3.5</td>\n",
       "      <td>i listen to both</td>\n",
       "      <td>5</td>\n",
       "      <td>yes</td>\n",
       "      <td>3.5</td>\n",
       "      <td>no</td>\n",
       "      <td>youtube</td>\n",
       "      <td>others (combination of the the four and visit ...</td>\n",
       "      <td>no</td>\n",
       "      <td>made fun of</td>\n",
       "      <td>reduced stress/anxiety/depression</td>\n",
       "      <td>75</td>\n",
       "      <td>part-time job</td>\n",
       "      <td>yes</td>\n",
       "      <td>nothing</td>\n",
       "      <td>24</td>\n",
       "      <td>usa</td>\n",
       "      <td>student</td>\n",
       "      <td>female</td>\n",
       "      <td>1</td>\n",
       "      <td>bts</td>\n",
       "    </tr>\n",
       "    <tr>\n",
       "      <th>4</th>\n",
       "      <td>bts</td>\n",
       "      <td>yes</td>\n",
       "      <td>its different from the usual music. i like som...</td>\n",
       "      <td>3.5</td>\n",
       "      <td>yes</td>\n",
       "      <td>5</td>\n",
       "      <td>yes</td>\n",
       "      <td>2.5</td>\n",
       "      <td>not sure</td>\n",
       "      <td>youtube</td>\n",
       "      <td>learn the culture</td>\n",
       "      <td>yes</td>\n",
       "      <td>made fun of</td>\n",
       "      <td>reduced stress/anxiety/depression</td>\n",
       "      <td>150</td>\n",
       "      <td>from parents</td>\n",
       "      <td>i want to, but the k-pop groups don't come to ...</td>\n",
       "      <td>nothing</td>\n",
       "      <td>18</td>\n",
       "      <td>usa</td>\n",
       "      <td>student</td>\n",
       "      <td>female</td>\n",
       "      <td>1</td>\n",
       "      <td>bts</td>\n",
       "    </tr>\n",
       "  </tbody>\n",
       "</table>\n",
       "</div>"
      ],
      "text/plain": [
       "        fav_grp           popl_by_co_yn  ... num_gr_like bts_vs_others\n",
       "0           bts  its gaining popularity  ...           1           bts\n",
       "1           bts  its gaining popularity  ...           1           bts\n",
       "2  bts,monsta x  its gaining popularity  ...           2           bts\n",
       "3           bts  its gaining popularity  ...           1           bts\n",
       "4           bts                     yes  ...           1           bts\n",
       "\n",
       "[5 rows x 24 columns]"
      ]
     },
     "execution_count": 68,
     "metadata": {
      "tags": []
     },
     "output_type": "execute_result"
    }
   ],
   "source": [
    "# change the entire dataframe to lower case\n",
    "df = df.apply(lambda x: x.astype(str).str.lower())\n",
    "\n",
    "df.head()"
   ]
  },
  {
   "cell_type": "code",
   "execution_count": 0,
   "metadata": {
    "colab": {},
    "colab_type": "code",
    "id": "KQPLkx0_RC9j"
   },
   "outputs": [],
   "source": [
    "# save the cleaned datafram to csv\n",
    "df.to_csv(\"cleaned kpop data.csv\", index = False)"
   ]
  },
  {
   "cell_type": "code",
   "execution_count": 0,
   "metadata": {
    "colab": {},
    "colab_type": "code",
    "id": "jfb2fZ6cG_Ev"
   },
   "outputs": [],
   "source": []
  }
 ],
 "metadata": {
  "colab": {
   "collapsed_sections": [],
   "name": "K-pop_Data_Cleaning.ipynb",
   "provenance": []
  },
  "kernelspec": {
   "display_name": "Python 3",
   "language": "python",
   "name": "python3"
  },
  "language_info": {
   "codemirror_mode": {
    "name": "ipython",
    "version": 3
   },
   "file_extension": ".py",
   "mimetype": "text/x-python",
   "name": "python",
   "nbconvert_exporter": "python",
   "pygments_lexer": "ipython3",
   "version": "3.7.9"
  }
 },
 "nbformat": 4,
 "nbformat_minor": 1
}
